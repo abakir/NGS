{
 "metadata": {
  "name": "",
  "signature": "sha256:05c226bac1db565637dc962260483bbe4a00ce4a5f35c234dfd8b1a13cefd2ee"
 },
 "nbformat": 3,
 "nbformat_minor": 0,
 "worksheets": [
  {
   "cells": [
    {
     "cell_type": "code",
     "collapsed": false,
     "input": [
      "import pandas as pd\n",
      "from datetime import datetime\n",
      "import re\n",
      "\n",
      "df = pd.read_csv(\"C:\\Users\\saisree849\\Documents\\GitHub\\NGS_Project\\\\12_dashboard tables\\data\\orders_export.csv\")"
     ],
     "language": "python",
     "metadata": {},
     "outputs": [],
     "prompt_number": 21
    },
    {
     "cell_type": "code",
     "collapsed": false,
     "input": [
      "def convertDate(data):\n",
      "    matchobj = re.match(r'(.*) (.*) (.*).*',data)\n",
      "    data = matchobj.group(1)\n",
      "    matchobj = re.match(r'(.*)-(.*)-(.*).*',data)\n",
      "    data = matchobj.group(1) + \"-\" + matchobj.group(2) + \"-01\"\n",
      "    return data"
     ],
     "language": "python",
     "metadata": {},
     "outputs": [],
     "prompt_number": 22
    },
    {
     "cell_type": "code",
     "collapsed": false,
     "input": [
      "df = df[['Name', 'Email', 'Created at', 'Lineitem quantity', 'Lineitem price']]\n",
      "df['Revenue'] = df.apply(lambda x: x['Lineitem quantity']*x['Lineitem price'], axis=1)"
     ],
     "language": "python",
     "metadata": {},
     "outputs": [],
     "prompt_number": 23
    },
    {
     "cell_type": "code",
     "collapsed": false,
     "input": [
      "df = df[['Name', 'Email', 'Created at', 'Revenue']]\n",
      "df.columns = ['Name', 'Email', 'Date', 'Revenue']"
     ],
     "language": "python",
     "metadata": {},
     "outputs": [],
     "prompt_number": 24
    },
    {
     "cell_type": "code",
     "collapsed": false,
     "input": [
      "df['Date'] = df.Date.apply(convertDate)"
     ],
     "language": "python",
     "metadata": {},
     "outputs": [],
     "prompt_number": 25
    },
    {
     "cell_type": "code",
     "collapsed": false,
     "input": [
      "df5 = df[['Email', 'Date', 'Revenue']]\n",
      "df2 = df[['Name', 'Email', 'Date']]\n",
      "df2 = df2.drop_duplicates().reset_index().drop('index',1)\n",
      "df2['Total orders'] = 1\n"
     ],
     "language": "python",
     "metadata": {},
     "outputs": [],
     "prompt_number": 26
    },
    {
     "cell_type": "code",
     "collapsed": false,
     "input": [
      "df5 = df5.groupby(['Email', 'Date'], as_index=False).sum()\n",
      "df2 = df2.groupby(['Email', 'Date'], as_index=False).sum()\n"
     ],
     "language": "python",
     "metadata": {},
     "outputs": [],
     "prompt_number": 27
    },
    {
     "cell_type": "code",
     "collapsed": false,
     "input": [
      "df = pd.read_csv(\"C:\\Users\\saisree849\\Documents\\GitHub\\NGS_Project\\\\12_dashboard tables\\data\\orders_export.csv\")\n",
      "\n",
      "df = df[['Name', 'Email', 'Created at']]\n",
      "df.columns = ['Name', 'Email', 'Date']\n",
      "\n",
      "def getDay(data):\n",
      "    matchobj = re.match(r'(.*) (.*) (.*).*',data)\n",
      "    data = matchobj.group(1)\n",
      "    return pd.to_datetime(datetime.strptime(data, '%Y-%m-%d')).date().strftime(\"%A\")\n",
      "\n",
      "def getHours(data):\n",
      "    matchobj = re.match(r'(.*) (.*) (.*).*',data)\n",
      "    data = matchobj.group(2)\n",
      "    num = pd.to_datetime(datetime.strptime(data, '%H:%M:%S')).hour\n",
      "    if(num < 2):\n",
      "        return 0\n",
      "    elif((num >= 2) & (num < 4)):\n",
      "        return 2\n",
      "    elif((num >= 4) & (num < 6)):\n",
      "        return 4\n",
      "    elif((num >= 6) & (num < 8)):\n",
      "        return 6\n",
      "    elif((num >= 8) & (num < 10)):\n",
      "        return 8\n",
      "    elif((num >= 10) & (num < 12)):\n",
      "        return 10\n",
      "    elif((num >= 12) & (num < 14)):\n",
      "        return 12\n",
      "    elif((num >= 14) & (num < 16)):\n",
      "        return 14\n",
      "    elif((num >= 16) & (num < 18)):\n",
      "        return 16\n",
      "    elif((num >= 18) & (num < 20)):\n",
      "        return 18\n",
      "    elif((num >= 20) & (num < 22)):\n",
      "        return 20\n",
      "    elif(num >= 22):\n",
      "        return 22\n",
      "        \n",
      "df['Day'] = df.Date.apply(getDay)\n",
      "df['Hours'] = df.Date.apply(getHours)"
     ],
     "language": "python",
     "metadata": {},
     "outputs": [],
     "prompt_number": 28
    },
    {
     "cell_type": "code",
     "collapsed": false,
     "input": [
      "df['Date'] = df.Date.apply(convertDate)"
     ],
     "language": "python",
     "metadata": {},
     "outputs": [],
     "prompt_number": 29
    },
    {
     "cell_type": "code",
     "collapsed": false,
     "input": [
      "df = df.drop_duplicates().reset_index().drop('index',1)\n"
     ],
     "language": "python",
     "metadata": {},
     "outputs": [],
     "prompt_number": 30
    },
    {
     "cell_type": "code",
     "collapsed": false,
     "input": [
      "df1 = pd.DataFrame(columns = ['Email', 'Date', 'Sunday', 'Monday', 'Tuesday', 'Wednesday', 'Thursday', 'Friday', 'Saturday', 0, 2, 4, 6, 8, 10, 12, 14, 16, 18, 20, 22])\n",
      "df1['Email'] = df['Email']\n",
      "df1['Date'] = df['Date']\n",
      "df1['Sunday'] = df1['Monday'] = df1['Tuesday'] = df1['Wednesday'] = df1['Thursday'] = df1['Friday'] = df1['Saturday'] = df1[0] = df1[2] = df1[4] = df1[6] = df1[8] = df1[10] = df1[12] = df1[14] = df1[16] = df1[18] = df1[20] = df1[22] =0\n",
      "\n",
      "for i in range(0, max(df.index)+1):\n",
      "    df1.loc[i,(df.iloc[i,3])] = 1\n",
      "    df1.loc[i,(df.iloc[i,4])] = 1\n",
      "    \n",
      "df1 = df1.groupby(['Email', 'Date'], axis = 0, as_index=False).sum()\n",
      "\n",
      "df1.columns = ['Email', 'Date', 'Sunday', 'Monday', 'Tuesday', 'Wednesday', 'Thursday', 'Friday', 'Saturday', '0:00 - 2:00', '2:00 - 4:00', '4:00 - 6:00', '6:00 - 8:00', '8:00 - 10:00', '10:00 - 12:00', '12:00 - 14:00', '14:00 - 16:00', '16:00 - 18:00', '18:00 - 20:00', '20:00 - 22:00', '22:00 - 0:00']\n"
     ],
     "language": "python",
     "metadata": {},
     "outputs": [],
     "prompt_number": 31
    },
    {
     "cell_type": "code",
     "collapsed": false,
     "input": [
      "df3 = df2.merge(df5, on = ['Email', 'Date'], how = 'inner')\n",
      "df3['Basket Value'] = df3.apply(lambda x: x['Revenue']/float(x['Total orders']), axis=1)\n",
      "df3 = df3.merge(df1, on = ['Email', 'Date'], how = 'inner')"
     ],
     "language": "python",
     "metadata": {},
     "outputs": [],
     "prompt_number": 32
    },
    {
     "cell_type": "code",
     "collapsed": false,
     "input": [
      "df = pd.read_csv('C:\\Users\\saisree849\\Documents\\GitHub\\NGS_Project\\\\12_dashboard tables\\data\\orders_export.csv')\n",
      "df1 = df[['Lineitem quantity', 'Lineitem price']]\n",
      "df1['Revenue'] = df1.apply(lambda x: x['Lineitem quantity'] * x['Lineitem price'], axis=1)\n",
      "df1=df1[['Lineitem quantity', 'Revenue']]\n",
      "df = df[['Email']]\n",
      "df = df.drop_duplicates().reset_index().drop('index',1)\n",
      "\n",
      "df1 = df1.sum()\n",
      "df3['Average Revenue'] = df1['Revenue']/float(max(df.index)+1)\n",
      "df3['Average Basket Size'] = df1['Lineitem quantity']/float(max(df.index)+1)"
     ],
     "language": "python",
     "metadata": {},
     "outputs": [],
     "prompt_number": 33
    },
    {
     "cell_type": "code",
     "collapsed": false,
     "input": [
      "customers = pd.read_csv('C:\\Users\\saisree849\\Documents\\GitHub\\NGS_Project\\\\12_dashboard tables\\data\\\\customers_export.csv')\n",
      "\n",
      "customers['Name'] = customers['First Name'] + \" \" + customers['Last Name']\n",
      "customers['Address'] = customers['Address1'] + \" \" + customers['Address2'] + \" \" + customers['City']\n",
      "\n",
      "customers = customers[['Name', 'Address', 'Phone', 'Email']]\n",
      "\n",
      "df3 = customers.merge(df3, on = ['Email'], how = 'inner')"
     ],
     "language": "python",
     "metadata": {},
     "outputs": [],
     "prompt_number": 34
    },
    {
     "cell_type": "code",
     "collapsed": false,
     "input": [
      "df3.to_csv('C:\\Users\\saisree849\\Documents\\GitHub\\NGS_Project\\\\12_dashboard tables\\customers_dates\\customer_dates.csv', index=False)"
     ],
     "language": "python",
     "metadata": {},
     "outputs": [],
     "prompt_number": 35
    },
    {
     "cell_type": "code",
     "collapsed": false,
     "input": [],
     "language": "python",
     "metadata": {},
     "outputs": []
    }
   ],
   "metadata": {}
  }
 ]
}