{
 "metadata": {
  "name": "",
  "signature": "sha256:c3c0c8c9ddc971e9062361c398d08353d58fa046944d5df7d2f755a136e714c2"
 },
 "nbformat": 3,
 "nbformat_minor": 0,
 "worksheets": [
  {
   "cells": [
    {
     "cell_type": "code",
     "collapsed": false,
     "input": [
      "import pandas as pd\n",
      "from datetime import datetime\n",
      "import re\n",
      "\n",
      "df = pd.read_csv(\"C:\\Users\\saisree849\\Documents\\GitHub\\NGS_Project\\\\12_dashboard tables\\bought_together\\orders_export.csv\")"
     ],
     "language": "python",
     "metadata": {},
     "outputs": [
      {
       "output_type": "stream",
       "stream": "stderr",
       "text": [
        "C:\\Users\\saisree849\\AppData\\Local\\Enthought\\Canopy\\User\\lib\\site-packages\\pandas\\io\\parsers.py:1150: DtypeWarning: Columns (12,20,22,45,48,52) have mixed types. Specify dtype option on import or set low_memory=False.\n",
        "  data = self._reader.read(nrows)\n"
       ]
      }
     ],
     "prompt_number": 152
    },
    {
     "cell_type": "code",
     "collapsed": false,
     "input": [
      "df = df[['Name', 'Lineitem name']]\n",
      "df.columns = ['Name', 'Product']\n"
     ],
     "language": "python",
     "metadata": {},
     "outputs": [],
     "prompt_number": 153
    },
    {
     "cell_type": "code",
     "collapsed": false,
     "input": [
      "df['Product'] = df.Product.apply(lambda x: x.upper())\n",
      "df = df.drop_duplicates().reset_index().drop('index',1)"
     ],
     "language": "python",
     "metadata": {},
     "outputs": [],
     "prompt_number": 154
    },
    {
     "cell_type": "code",
     "collapsed": false,
     "input": [
      "df = df.groupby([ 'Product'], axis = 0, as_index=False)['Name'].sum()\n"
     ],
     "language": "python",
     "metadata": {},
     "outputs": [],
     "prompt_number": 155
    },
    {
     "cell_type": "code",
     "collapsed": false,
     "input": [
      "df['Name'] = df.Name.apply(lambda x: x.split(\"#\"))\n",
      "df['Name'] = df.Name.apply(lambda x: x[1:])"
     ],
     "language": "python",
     "metadata": {},
     "outputs": [],
     "prompt_number": 156
    },
    {
     "cell_type": "code",
     "collapsed": false,
     "input": [
      "df1 = pd.DataFrame(columns = ['Product1', 'Product2','Name', 'Count'])"
     ],
     "language": "python",
     "metadata": {},
     "outputs": [],
     "prompt_number": 157
    },
    {
     "cell_type": "code",
     "collapsed": false,
     "input": [
      "b = []\n",
      "a = df['Product'].tolist() #create a list of type\n",
      "for i in range(0, max(df.index)+1): #count of months\n",
      "    b = b + a\n",
      "df1['Product1'] = pd.Series(b)"
     ],
     "language": "python",
     "metadata": {},
     "outputs": [],
     "prompt_number": 158
    },
    {
     "cell_type": "code",
     "collapsed": false,
     "input": [
      "b = []\n",
      "x = df['Product'].tolist() #create a list of months\n",
      "for a in x: #take each month\n",
      "    for i in range(0, max(df.index)+1): #count of types\n",
      "        b.append(a)\n",
      "        #print b\n",
      "df1['Product2'] = pd.Series(b)"
     ],
     "language": "python",
     "metadata": {},
     "outputs": [],
     "prompt_number": 159
    },
    {
     "cell_type": "code",
     "collapsed": false,
     "input": [
      "na = []\n",
      "e = df['Name'].tolist()\n",
      "for k in e:\n",
      "    for j in e:\n",
      "        p = k + j\n",
      "        na.append(p)"
     ],
     "language": "python",
     "metadata": {},
     "outputs": [],
     "prompt_number": 160
    },
    {
     "cell_type": "code",
     "collapsed": false,
     "input": [
      "df1['Name'] = pd.Series(na)"
     ],
     "language": "python",
     "metadata": {},
     "outputs": [],
     "prompt_number": 161
    },
    {
     "cell_type": "code",
     "collapsed": false,
     "input": [
      "df1 = df1[df1.Product1 != df1.Product2]\n",
      "df1 = df1.reset_index().drop('index',1)"
     ],
     "language": "python",
     "metadata": {},
     "outputs": [],
     "prompt_number": 162
    },
    {
     "cell_type": "code",
     "collapsed": false,
     "input": [
      "def getUnique(data):\n",
      "    return len(data) - len(set(data))"
     ],
     "language": "python",
     "metadata": {},
     "outputs": [],
     "prompt_number": 163
    },
    {
     "cell_type": "code",
     "collapsed": false,
     "input": [
      "df1['Count'] = df1.Name.apply(getUnique)"
     ],
     "language": "python",
     "metadata": {},
     "outputs": [],
     "prompt_number": 164
    },
    {
     "cell_type": "code",
     "collapsed": false,
     "input": [
      "df1 = df1[df1.Count != 0]\n",
      "df1 = df1.reset_index().drop('index',1)"
     ],
     "language": "python",
     "metadata": {},
     "outputs": [],
     "prompt_number": 165
    },
    {
     "cell_type": "code",
     "collapsed": false,
     "input": [
      "df1 = df1[['Product1', 'Product2', 'Count']]"
     ],
     "language": "python",
     "metadata": {},
     "outputs": [],
     "prompt_number": 166
    },
    {
     "cell_type": "code",
     "collapsed": false,
     "input": [
      "df1.to_csv(\"C:\\Users\\saisree849\\Documents\\GitHub\\NGS_Project\\\\12_dashboard tables\\\\bought_together\\pair_complete.csv\", index = False)"
     ],
     "language": "python",
     "metadata": {},
     "outputs": [],
     "prompt_number": 168
    },
    {
     "cell_type": "code",
     "collapsed": false,
     "input": [],
     "language": "python",
     "metadata": {},
     "outputs": []
    }
   ],
   "metadata": {}
  }
 ]
}