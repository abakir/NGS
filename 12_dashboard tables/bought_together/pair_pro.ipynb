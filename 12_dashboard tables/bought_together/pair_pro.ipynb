{
 "metadata": {
  "name": "",
  "signature": "sha256:4cc28ea7b6a110134a074cf20dae726ff925dc2b145e6931d32dd66801b7db19"
 },
 "nbformat": 3,
 "nbformat_minor": 0,
 "worksheets": [
  {
   "cells": [
    {
     "cell_type": "code",
     "collapsed": false,
     "input": [
      "import pandas as pd\n",
      "from datetime import datetime\n",
      "import re\n",
      "\n",
      "df = pd.read_csv(\"C:\\Users\\saisree849\\Documents\\GitHub\\NGS_Project\\\\12_dashboard tables\\bought_together\\orders_export.csv\")"
     ],
     "language": "python",
     "metadata": {},
     "outputs": [],
     "prompt_number": 121
    },
    {
     "cell_type": "code",
     "collapsed": false,
     "input": [
      "def convertDate(data):\n",
      "    matchobj = re.match(r'(.*) (.*) (.*).*',data)\n",
      "    data = matchobj.group(1)\n",
      "    matchobj = re.match(r'(.*)-(.*)-(.*).*',data)\n",
      "    data = matchobj.group(1) + \"-\" + matchobj.group(2)\n",
      "    return data\n",
      "\n",
      "def getUnique(data):\n",
      "    return len(data) - len(set(data))\n"
     ],
     "language": "python",
     "metadata": {},
     "outputs": [],
     "prompt_number": 122
    },
    {
     "cell_type": "code",
     "collapsed": false,
     "input": [
      "df = df[['Name', 'Lineitem name', 'Created at']]\n",
      "df.columns = ['Name', 'Product', 'Date']\n"
     ],
     "language": "python",
     "metadata": {},
     "outputs": [],
     "prompt_number": 123
    },
    {
     "cell_type": "code",
     "collapsed": false,
     "input": [
      "df['Date'] = df.Date.apply(convertDate)\n",
      "df['Product'] = df.Product.apply(lambda x: x.upper())\n",
      "df = df.drop_duplicates().reset_index().drop('index',1)"
     ],
     "language": "python",
     "metadata": {},
     "outputs": [],
     "prompt_number": 124
    },
    {
     "cell_type": "code",
     "collapsed": false,
     "input": [
      "df = df.groupby(['Date', 'Product'], axis = 0, as_index=False)['Name'].sum()\n"
     ],
     "language": "python",
     "metadata": {},
     "outputs": [],
     "prompt_number": 125
    },
    {
     "cell_type": "code",
     "collapsed": false,
     "input": [
      "df['Name'] = df.Name.apply(lambda x: x.split(\"#\"))\n",
      "df['Name'] = df.Name.apply(lambda x: x[1:])"
     ],
     "language": "python",
     "metadata": {},
     "outputs": [],
     "prompt_number": 126
    },
    {
     "cell_type": "code",
     "collapsed": false,
     "input": [
      "e = df['Date'].tolist()\n",
      "d = []\n",
      "for i in e:\n",
      "    if i not in d:\n",
      "        d.append(i)"
     ],
     "language": "python",
     "metadata": {},
     "outputs": [],
     "prompt_number": 127
    },
    {
     "cell_type": "code",
     "collapsed": false,
     "input": [
      "df1 = pd.DataFrame(columns = ['Date', 'Product1', 'Product2','Name', 'Count'])\n",
      "df = df.set_index('Date')"
     ],
     "language": "python",
     "metadata": {},
     "outputs": [],
     "prompt_number": 128
    },
    {
     "cell_type": "code",
     "collapsed": false,
     "input": [
      "pr1 = []\n",
      "pr2 = []\n",
      "dat = []\n",
      "for i in d:\n",
      "    p1 = []\n",
      "    p2 = []\n",
      "    leng =  len(df.loc[i,'Product'])\n",
      "    e = df.loc[i,'Product'].tolist()\n",
      "    for j in range(0, leng):\n",
      "        p1 = p1 + e\n",
      "    for k in e:\n",
      "        for j in range(0, leng):\n",
      "            p2.append(k)\n",
      "            dat.append(i)\n",
      "    pr1 = pr1 + p1\n",
      "    pr2 = pr2 + p2\n",
      "df1['Date'] = pd.Series(dat)\n",
      "df1['Product1'] = pd.Series(pr1)\n",
      "df1['Product2'] = pd.Series(pr2)"
     ],
     "language": "python",
     "metadata": {},
     "outputs": [],
     "prompt_number": 129
    },
    {
     "cell_type": "code",
     "collapsed": false,
     "input": [
      "na = []\n",
      "for i in d:\n",
      "    #n = []\n",
      "    e = df.loc[i,'Name'].tolist()\n",
      "    for k in e:\n",
      "        for j in e:\n",
      "             p = k + j\n",
      "             na.append(p)\n",
      "df1['Name'] = pd.Series(na)"
     ],
     "language": "python",
     "metadata": {},
     "outputs": [],
     "prompt_number": 130
    },
    {
     "cell_type": "code",
     "collapsed": false,
     "input": [
      "df1 = df1[df1.Product1 != df1.Product2]\n",
      "df1 = df1.reset_index().drop('index',1)"
     ],
     "language": "python",
     "metadata": {},
     "outputs": [],
     "prompt_number": 131
    },
    {
     "cell_type": "code",
     "collapsed": false,
     "input": [
      "df1['Count'] = df1.Name.apply(getUnique)\n",
      "df1 = df1[df1.Count != 0]\n",
      "df1 = df1.reset_index().drop('index',1)"
     ],
     "language": "python",
     "metadata": {},
     "outputs": [],
     "prompt_number": 132
    },
    {
     "cell_type": "code",
     "collapsed": false,
     "input": [
      "df1 = df1[['Date', 'Product1', 'Product2', 'Count']]\n",
      "df1['Date'] = df1.Date.apply(lambda x: pd.to_datetime(datetime.strptime(x, '%Y-%m')).date())"
     ],
     "language": "python",
     "metadata": {},
     "outputs": [],
     "prompt_number": 133
    },
    {
     "cell_type": "code",
     "collapsed": false,
     "input": [
      "df1.to_csv(\"C:\\Users\\saisree849\\Documents\\GitHub\\NGS_Project\\\\12_dashboard tables\\\\bought_together\\pair_by_month.csv\", index = False)"
     ],
     "language": "python",
     "metadata": {},
     "outputs": [],
     "prompt_number": 117
    },
    {
     "cell_type": "code",
     "collapsed": false,
     "input": [],
     "language": "python",
     "metadata": {},
     "outputs": []
    }
   ],
   "metadata": {}
  }
 ]
}