{
 "metadata": {
  "name": "",
  "signature": "sha256:2d6b11e75441636678ef0a43fb291dd6214a78db88c57a27d6fe459f3196ce00"
 },
 "nbformat": 3,
 "nbformat_minor": 0,
 "worksheets": [
  {
   "cells": [
    {
     "cell_type": "code",
     "collapsed": false,
     "input": [
      "import pandas as pd\n",
      "\n",
      "df = pd.read_csv(\"C:\\Users\\saisree849\\Documents\\GitHub\\NGS_Project\\\\12_dashboard tables\\customers_table\\customers.csv\")\n",
      "df1 = pd.read_csv(\"C:\\Users\\saisree849\\Documents\\GitHub\\NGS_Project\\\\10_order_frequency\\latest_order.csv\")\n",
      "df4.to_csv(\"C:\\Users\\saisree849\\Documents\\GitHub\\NGS_Project\\\\12_dashboard tables\\\\new_customers.csv\", index = False)"
     ],
     "language": "python",
     "metadata": {},
     "outputs": [],
     "prompt_number": 72
    },
    {
     "cell_type": "code",
     "collapsed": false,
     "input": [
      "df1.columns =['Email', 'Days from Last order', 'Customer']\n",
      "df3.columns =['Email', 'Average', 'Customer']"
     ],
     "language": "python",
     "metadata": {},
     "outputs": [],
     "prompt_number": 73
    },
    {
     "cell_type": "code",
     "collapsed": false,
     "input": [
      "df.columns = ['Customer', 'Revenue', 'Basket Value', 'Gross Profit', 'Segment', 'Email', 'Address', 'Phone', 'Mobile']"
     ],
     "language": "python",
     "metadata": {},
     "outputs": [],
     "prompt_number": 74
    },
    {
     "cell_type": "code",
     "collapsed": false,
     "input": [
      "df2 = df.merge(df3, on = ['Customer'], how = 'inner')"
     ],
     "language": "python",
     "metadata": {},
     "outputs": [],
     "prompt_number": 75
    },
    {
     "cell_type": "code",
     "collapsed": false,
     "input": [
      "df4 = df2.merge(df1, on = ['Customer'], how = 'inner')"
     ],
     "language": "python",
     "metadata": {},
     "outputs": [],
     "prompt_number": 76
    },
    {
     "cell_type": "code",
     "collapsed": false,
     "input": [
      "df4 = df4[['Customer', 'Revenue', 'Basket Value', 'Gross Profit', 'Segment', 'Address', 'Phone', 'Mobile', 'Average', 'Email', 'Days from Last order']]"
     ],
     "language": "python",
     "metadata": {},
     "outputs": [],
     "prompt_number": 81
    },
    {
     "cell_type": "code",
     "collapsed": false,
     "input": [
      "df4.to_csv(\"C:\\Users\\saisree849\\Documents\\GitHub\\NGS_Project\\\\12_dashboard tables\\customers_table\\customers.csv\",index = False)"
     ],
     "language": "python",
     "metadata": {},
     "outputs": [],
     "prompt_number": 86
    },
    {
     "cell_type": "code",
     "collapsed": false,
     "input": [],
     "language": "python",
     "metadata": {},
     "outputs": []
    }
   ],
   "metadata": {}
  }
 ]
}