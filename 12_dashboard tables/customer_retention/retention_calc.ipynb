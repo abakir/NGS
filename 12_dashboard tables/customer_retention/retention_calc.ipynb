{
 "metadata": {
  "name": "",
  "signature": "sha256:082f76f76d58241e5f3663542906fc5e7c23722fc666ae50eaf890da0b8b270b"
 },
 "nbformat": 3,
 "nbformat_minor": 0,
 "worksheets": [
  {
   "cells": [
    {
     "cell_type": "code",
     "collapsed": false,
     "input": [
      "import pandas as pd\n",
      "from datetime import datetime, timedelta\n",
      "import re\n",
      "\n",
      "#read\n",
      "df = pd.read_csv(\"C:\\Users\\saisree849\\Documents\\GitHub\\NGS_Project\\\\12_dashboard tables\\data\\orders_export.csv\")"
     ],
     "language": "python",
     "metadata": {},
     "outputs": [],
     "prompt_number": 10
    },
    {
     "cell_type": "code",
     "collapsed": false,
     "input": [
      "df = df[['Email', 'Created at']] #subset required columns\n",
      "df.columns = ['Email', 'Date'] #rename columns"
     ],
     "language": "python",
     "metadata": {},
     "outputs": [],
     "prompt_number": 11
    },
    {
     "cell_type": "code",
     "collapsed": false,
     "input": [
      "def convertDate(data):\n",
      "    matchobj = re.match(r'(.*) (.*) (.*).*',data)\n",
      "    return matchobj.group(1)\n",
      "def convertNewDate(data):\n",
      "    matchobj = re.match(r'(.*) (.*).*',data)\n",
      "    return matchobj.group(1)\n",
      "def days_between(d1, d2):\n",
      "    d1 = datetime.strptime(d1, \"%Y-%m-%d\")\n",
      "    d2 = datetime.strptime(d2, \"%Y-%m-%d\")\n",
      "    return (d2 - d1).days"
     ],
     "language": "python",
     "metadata": {},
     "outputs": [],
     "prompt_number": 12
    },
    {
     "cell_type": "code",
     "collapsed": false,
     "input": [
      "df['Date'] = df.Date.apply(convertDate) #call function\n",
      "df = df.drop_duplicates().reset_index().drop('index',1) #remove products with same names in single order"
     ],
     "language": "python",
     "metadata": {},
     "outputs": [],
     "prompt_number": 13
    },
    {
     "cell_type": "code",
     "collapsed": false,
     "input": [
      "df['YearBefore'] = (str)(datetime.now() - timedelta(days=366)) #366 days from today(Thursday)\n",
      "df['YearBefore'] = df.YearBefore.apply(convertNewDate) #call function"
     ],
     "language": "python",
     "metadata": {},
     "outputs": [],
     "prompt_number": 14
    },
    {
     "cell_type": "code",
     "collapsed": false,
     "input": [
      "df['DaysBetween'] = df.apply(lambda x: days_between(x['YearBefore'], x['Date']), axis=1)\n",
      "df = df[(df.DaysBetween <= 365) & (df.DaysBetween >= 0)]"
     ],
     "language": "python",
     "metadata": {},
     "outputs": [],
     "prompt_number": 15
    },
    {
     "cell_type": "code",
     "collapsed": false,
     "input": [
      "df1 = df[['Email']]\n",
      "df1 = df1.drop_duplicates().reset_index().drop('index',1)\n"
     ],
     "language": "python",
     "metadata": {},
     "outputs": [],
     "prompt_number": 16
    },
    {
     "cell_type": "code",
     "collapsed": false,
     "input": [
      "df2 = df[['Email', 'Date']]"
     ],
     "language": "python",
     "metadata": {},
     "outputs": [],
     "prompt_number": 17
    },
    {
     "cell_type": "code",
     "collapsed": false,
     "input": [
      "df['Days30Before'] = (str)(datetime.now() - timedelta(days=31)) #31 days from today(Thursday)\n",
      "df['Days30Before'] = df.Days30Before.apply(convertNewDate) \n",
      "\n",
      "df2['Days20Before'] = (str)(datetime.now() - timedelta(days=21)) #21 days from today(Thursday)\n",
      "df2['Days20Before'] = df2.Days20Before.apply(convertNewDate) "
     ],
     "language": "python",
     "metadata": {},
     "outputs": [
      {
       "output_type": "stream",
       "stream": "stderr",
       "text": [
        "-c:4: SettingWithCopyWarning: \n",
        "A value is trying to be set on a copy of a slice from a DataFrame.\n",
        "Try using .loc[row_indexer,col_indexer] = value instead\n",
        "\n",
        "See the the caveats in the documentation: http://pandas.pydata.org/pandas-docs/stable/indexing.html#indexing-view-versus-copy\n",
        "-c:5: SettingWithCopyWarning: \n",
        "A value is trying to be set on a copy of a slice from a DataFrame.\n",
        "Try using .loc[row_indexer,col_indexer] = value instead\n",
        "\n",
        "See the the caveats in the documentation: http://pandas.pydata.org/pandas-docs/stable/indexing.html#indexing-view-versus-copy\n"
       ]
      }
     ],
     "prompt_number": 18
    },
    {
     "cell_type": "code",
     "collapsed": false,
     "input": [
      "df['DaysBetween'] = df.apply(lambda x: days_between(x['Days30Before'], x['Date']), axis=1)\n",
      "df = df[(df.DaysBetween <= 30) & (df.DaysBetween >= 0)]\n",
      "\n",
      "df2['DaysBetween'] = df2.apply(lambda x: days_between(x['Days20Before'], x['Date']), axis=1)\n",
      "df2 = df2[(df2.DaysBetween <= 20) & (df2.DaysBetween >= 0)]"
     ],
     "language": "python",
     "metadata": {},
     "outputs": [],
     "prompt_number": 19
    },
    {
     "cell_type": "code",
     "collapsed": false,
     "input": [
      "df['Count'] = 1\n",
      "df = df[['Email', 'Count']]\n",
      "df = df.groupby(['Email'], axis = 0, as_index=False).sum()\n",
      "\n",
      "df2['Count'] = 1\n",
      "df2 = df2[['Email', 'Count']]\n",
      "df2 = df2.groupby(['Email'], axis = 0, as_index=False).sum()"
     ],
     "language": "python",
     "metadata": {},
     "outputs": [],
     "prompt_number": 20
    },
    {
     "cell_type": "code",
     "collapsed": false,
     "input": [
      "df = df[(df.Count > 1)]\n",
      "df = df.drop_duplicates().reset_index().drop('index',1)"
     ],
     "language": "python",
     "metadata": {},
     "outputs": [],
     "prompt_number": 21
    },
    {
     "cell_type": "code",
     "collapsed": false,
     "input": [
      "df3 = pd.DataFrame(columns = ['Cutomers 30 days', 'Cutomers 20 days', 'Total Count', 'Retention Rate', 'Regular Customers'])\n",
      "df3.loc[0, 'Cutomers 30 days'] = max(df.index) + 1\n",
      "df3.loc[0, 'Cutomers 20 days'] = max(df2.index) + 1\n",
      "df3.loc[0, 'Total Count'] = max(df1.index) + 1\n",
      "df3.loc[0, 'Retention Rate'] = df3.loc[0, 'Cutomers 30 days']/float(df3.loc[0, 'Total Count'])\n",
      "df3.loc[0, 'Regular Customers'] = df3.loc[0, 'Cutomers 20 days']/float(df3.loc[0, 'Total Count'])"
     ],
     "language": "python",
     "metadata": {},
     "outputs": [],
     "prompt_number": 25
    },
    {
     "cell_type": "code",
     "collapsed": false,
     "input": [
      "df3"
     ],
     "language": "python",
     "metadata": {},
     "outputs": [
      {
       "html": [
        "<div style=\"max-height:1000px;max-width:1500px;overflow:auto;\">\n",
        "<table border=\"1\" class=\"dataframe\">\n",
        "  <thead>\n",
        "    <tr style=\"text-align: right;\">\n",
        "      <th></th>\n",
        "      <th>Cutomers 30 days</th>\n",
        "      <th>Cutomers 20 days</th>\n",
        "      <th>Total Count</th>\n",
        "      <th>Retention Rate</th>\n",
        "      <th>Regular Customers</th>\n",
        "    </tr>\n",
        "  </thead>\n",
        "  <tbody>\n",
        "    <tr>\n",
        "      <th>0</th>\n",
        "      <td> 82</td>\n",
        "      <td> 231</td>\n",
        "      <td> 1393</td>\n",
        "      <td> 0.05886576</td>\n",
        "      <td> 0.1658291</td>\n",
        "    </tr>\n",
        "  </tbody>\n",
        "</table>\n",
        "</div>"
       ],
       "metadata": {},
       "output_type": "pyout",
       "prompt_number": 26,
       "text": [
        "  Cutomers 30 days Cutomers 20 days Total Count Retention Rate  \\\n",
        "0               82              231        1393     0.05886576   \n",
        "\n",
        "  Regular Customers  \n",
        "0         0.1658291  "
       ]
      }
     ],
     "prompt_number": 26
    },
    {
     "cell_type": "code",
     "collapsed": false,
     "input": [
      "df3.to_csv(\"C:\\Users\\saisree849\\Documents\\GitHub\\NGS_Project\\\\12_dashboard tables\\customer_retention\\\\with_retention.csv\", index = False)"
     ],
     "language": "python",
     "metadata": {},
     "outputs": [],
     "prompt_number": 27
    },
    {
     "cell_type": "code",
     "collapsed": false,
     "input": [],
     "language": "python",
     "metadata": {},
     "outputs": []
    }
   ],
   "metadata": {}
  }
 ]
}