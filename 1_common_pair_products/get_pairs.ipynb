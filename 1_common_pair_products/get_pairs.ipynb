{
 "metadata": {
  "name": "",
  "signature": "sha256:192918245d774d0d4d11a95cd7a37c0ad4a357bd1d0fcc1049ef12c3b3226eac"
 },
 "nbformat": 3,
 "nbformat_minor": 0,
 "worksheets": [
  {
   "cells": [
    {
     "cell_type": "code",
     "collapsed": false,
     "input": [
      "import pandas as pd\n",
      "import re\n",
      "\n",
      "location = 'C:\\Users\\saisree849\\Documents\\GitHub\\NGS_Project\\\\1_common_pair_products\\orders_export-2.csv'\n",
      "\n",
      "df = pd.read_csv(location)"
     ],
     "language": "python",
     "metadata": {},
     "outputs": [],
     "prompt_number": 71
    },
    {
     "cell_type": "code",
     "collapsed": false,
     "input": [
      "#df = df[0:11025]\n",
      "df = df[['Name', 'Lineitem name']]\n",
      "df.columns = ['Name','Product']"
     ],
     "language": "python",
     "metadata": {},
     "outputs": [],
     "prompt_number": 72
    },
    {
     "cell_type": "code",
     "collapsed": false,
     "input": [
      "df['Product'] = df['Product'].apply(lambda x: x.upper())"
     ],
     "language": "python",
     "metadata": {},
     "outputs": [],
     "prompt_number": 73
    },
    {
     "cell_type": "code",
     "collapsed": false,
     "input": [
      "df = pd.DataFrame(df.groupby('Product').apply(lambda x: x['Name'].tolist()))"
     ],
     "language": "python",
     "metadata": {},
     "outputs": [],
     "prompt_number": 74
    },
    {
     "cell_type": "code",
     "collapsed": false,
     "input": [
      "df = df.reset_index(level = 0)\n",
      "df.columns = ['Product', 'Orders']\n",
      "#df.to_csv(\"C:\\Users\\saisree849\\Desktop\\\\nnfile.csv\", index=False)"
     ],
     "language": "python",
     "metadata": {},
     "outputs": [],
     "prompt_number": 75
    },
    {
     "cell_type": "code",
     "collapsed": false,
     "input": [
      "for i in range(0, max(df.index) + 1):\n",
      "    df.loc[i, 'Num'] = len(df.loc[i, 'Orders'])"
     ],
     "language": "python",
     "metadata": {},
     "outputs": [],
     "prompt_number": 76
    },
    {
     "cell_type": "code",
     "collapsed": false,
     "input": [
      "df = df.sort('Num', ascending = False)\n",
      "df = df[['Product', 'Orders']]\n",
      "df = df.reset_index().drop('index',1)\n",
      "df = df.sort('Product')\n",
      "df = df.reset_index().drop('index',1)"
     ],
     "language": "python",
     "metadata": {},
     "outputs": [],
     "prompt_number": 77
    },
    {
     "cell_type": "code",
     "collapsed": false,
     "input": [
      "cols = df['Product'].tolist()\n",
      "cols.insert(0, 'Product')\n",
      "df1 = pd.DataFrame(columns = cols)\n",
      "df1['Product'] = df['Product']"
     ],
     "language": "python",
     "metadata": {},
     "outputs": [],
     "prompt_number": 78
    },
    {
     "cell_type": "code",
     "collapsed": false,
     "input": [
      "df1 = df1.set_index('Product')\n",
      "df = df.set_index('Product')\n",
      "#df.transpose()"
     ],
     "language": "python",
     "metadata": {},
     "outputs": [],
     "prompt_number": 79
    },
    {
     "cell_type": "code",
     "collapsed": false,
     "input": [
      "df = df.transpose()\n",
      "#df.transpose()"
     ],
     "language": "python",
     "metadata": {},
     "outputs": [],
     "prompt_number": 80
    },
    {
     "cell_type": "code",
     "collapsed": false,
     "input": [
      "df2 = df.transpose().ix[:].append(df.loc['Orders'])"
     ],
     "language": "python",
     "metadata": {},
     "outputs": [],
     "prompt_number": 81
    },
    {
     "cell_type": "code",
     "collapsed": false,
     "input": [
      "for i in df.columns:\n",
      "        df2[[i]] = df2[['Orders']]"
     ],
     "language": "python",
     "metadata": {},
     "outputs": [],
     "prompt_number": 82
    },
    {
     "cell_type": "code",
     "collapsed": false,
     "input": [
      "del df2['Orders']"
     ],
     "language": "python",
     "metadata": {},
     "outputs": [],
     "prompt_number": 83
    },
    {
     "cell_type": "code",
     "collapsed": false,
     "input": [
      "for i in df.columns:\n",
      "    df2.loc[i, :] = df2.loc[i, :] + df.loc['Orders', :]"
     ],
     "language": "python",
     "metadata": {},
     "outputs": [],
     "prompt_number": 84
    },
    {
     "cell_type": "code",
     "collapsed": false,
     "input": [
      "df3 = df2"
     ],
     "language": "python",
     "metadata": {},
     "outputs": [],
     "prompt_number": 85
    },
    {
     "cell_type": "code",
     "collapsed": false,
     "input": [
      "df2.iloc[0, :] = 0\n",
      "for i in range(1, len(df2.columns)):\n",
      "    for j in range(i, len(df2.columns)):\n",
      "        df2.iloc[i,j] = 0"
     ],
     "language": "python",
     "metadata": {},
     "outputs": [],
     "prompt_number": 61
    },
    {
     "cell_type": "code",
     "collapsed": false,
     "input": [
      "df2 = df2.drop(['Orders'])\n",
      "df4 = df2\n",
      "#df2.to_csv(\"C:\\Users\\saisree849\\Desktop\\\\newfile.csv\", index=False)"
     ],
     "language": "python",
     "metadata": {},
     "outputs": [],
     "prompt_number": 86
    },
    {
     "cell_type": "code",
     "collapsed": false,
     "input": [
      "def get_red(lis):\n",
      "    a = 0\n",
      "    ls = []\n",
      "    if (lis != 0):\n",
      "        for i in lis:\n",
      "            if i not in ls:\n",
      "                ls.append(i)\n",
      "            else:\n",
      "                a += 1\n",
      "        return a"
     ],
     "language": "python",
     "metadata": {},
     "outputs": [],
     "prompt_number": 87
    },
    {
     "cell_type": "code",
     "collapsed": false,
     "input": [
      "#df2 = df2.set_index('Product')\n",
      "df3 = df2\n",
      "for i in df2.columns:\n",
      "    df3[i] = df2.apply(lambda x: get_red(x[i]), axis = 1)"
     ],
     "language": "python",
     "metadata": {},
     "outputs": [],
     "prompt_number": 88
    },
    {
     "cell_type": "code",
     "collapsed": false,
     "input": [
      "df2 = df2.reset_index(level=0)\n",
      "df3 = df3.reset_index(level=0)"
     ],
     "language": "python",
     "metadata": {},
     "outputs": [],
     "prompt_number": 89
    },
    {
     "cell_type": "code",
     "collapsed": false,
     "input": [
      "df3.to_csv(\"C:\\Users\\saisree849\\Desktop\\\\newCountfile1.csv\", index = False)"
     ],
     "language": "python",
     "metadata": {},
     "outputs": [],
     "prompt_number": 90
    },
    {
     "cell_type": "code",
     "collapsed": false,
     "input": [
      "df3"
     ],
     "language": "python",
     "metadata": {},
     "outputs": [
      {
       "html": [
        "<div style=\"max-height:1000px;max-width:1500px;overflow:auto;\">\n",
        "<table border=\"1\" class=\"dataframe\">\n",
        "  <thead>\n",
        "    <tr style=\"text-align: right;\">\n",
        "      <th></th>\n",
        "      <th>index</th>\n",
        "      <th>ACAI BERRY JUICE</th>\n",
        "      <th>ACNE FACIAL SOAP</th>\n",
        "      <th>ACQUA PANA WATER 1000ML</th>\n",
        "      <th>ACQUA PANA WATER 500ML</th>\n",
        "      <th>ACQUA PANA WATER 500ML GLASS</th>\n",
        "      <th>AGAR AGAR FLAKES (HAND HARVESTED) - WILD</th>\n",
        "      <th>ALL PURPOSE BAKING FLOUR ( GLUTEN FREE )</th>\n",
        "      <th>ALL PURPOSE BAKING FLOUR ( GLUTEN FREE ) - 623G</th>\n",
        "      <th>ALMOND BISCUTIS (GLUTEN FREE) - TRACES OF GLUTEN</th>\n",
        "      <th>...</th>\n",
        "      <th>YELLOW CARROTS</th>\n",
        "      <th>YELLOW GRAPEFRUIT</th>\n",
        "      <th>YELLOW ONIONS ( CHEMICAL FREE )</th>\n",
        "      <th>YELLOW SPLIT PEAS - 822G</th>\n",
        "      <th>YING/YANG FACIAL ACNE SOAP</th>\n",
        "      <th>ZARDA EXTRA VIRGIN OLIVE OIL</th>\n",
        "      <th>ZUCCHINI</th>\n",
        "      <th>ZUCCHINI ( CHEMICAL FREE )</th>\n",
        "      <th>ZUCCHINI (CHEMICAL FREE)</th>\n",
        "      <th>ZUCCHINI FLOWERS</th>\n",
        "    </tr>\n",
        "  </thead>\n",
        "  <tbody>\n",
        "    <tr>\n",
        "      <th>0   </th>\n",
        "      <td>                                  ACAI BERRY JUICE</td>\n",
        "      <td> 1</td>\n",
        "      <td> 0</td>\n",
        "      <td> 0</td>\n",
        "      <td> 0</td>\n",
        "      <td> 0</td>\n",
        "      <td> 0</td>\n",
        "      <td>  0</td>\n",
        "      <td>  0</td>\n",
        "      <td> 0</td>\n",
        "      <td>...</td>\n",
        "      <td>  0</td>\n",
        "      <td>  0</td>\n",
        "      <td> 0</td>\n",
        "      <td> 0</td>\n",
        "      <td> 0</td>\n",
        "      <td> 0</td>\n",
        "      <td>  0</td>\n",
        "      <td>   2</td>\n",
        "      <td>  0</td>\n",
        "      <td>  0</td>\n",
        "    </tr>\n",
        "    <tr>\n",
        "      <th>1   </th>\n",
        "      <td>                                  ACNE FACIAL SOAP</td>\n",
        "      <td> 0</td>\n",
        "      <td> 2</td>\n",
        "      <td> 0</td>\n",
        "      <td> 0</td>\n",
        "      <td> 0</td>\n",
        "      <td> 0</td>\n",
        "      <td>  0</td>\n",
        "      <td>  0</td>\n",
        "      <td> 0</td>\n",
        "      <td>...</td>\n",
        "      <td>  0</td>\n",
        "      <td>  0</td>\n",
        "      <td> 0</td>\n",
        "      <td> 0</td>\n",
        "      <td> 0</td>\n",
        "      <td> 0</td>\n",
        "      <td>  0</td>\n",
        "      <td>   1</td>\n",
        "      <td>  0</td>\n",
        "      <td>  0</td>\n",
        "    </tr>\n",
        "    <tr>\n",
        "      <th>2   </th>\n",
        "      <td>                           ACQUA PANA WATER 1000ML</td>\n",
        "      <td> 0</td>\n",
        "      <td> 0</td>\n",
        "      <td> 1</td>\n",
        "      <td> 1</td>\n",
        "      <td> 1</td>\n",
        "      <td> 0</td>\n",
        "      <td>  0</td>\n",
        "      <td>  0</td>\n",
        "      <td> 0</td>\n",
        "      <td>...</td>\n",
        "      <td>  0</td>\n",
        "      <td>  0</td>\n",
        "      <td> 0</td>\n",
        "      <td> 0</td>\n",
        "      <td> 0</td>\n",
        "      <td> 0</td>\n",
        "      <td>  0</td>\n",
        "      <td>   1</td>\n",
        "      <td>  0</td>\n",
        "      <td>  0</td>\n",
        "    </tr>\n",
        "    <tr>\n",
        "      <th>3   </th>\n",
        "      <td>                            ACQUA PANA WATER 500ML</td>\n",
        "      <td> 0</td>\n",
        "      <td> 0</td>\n",
        "      <td> 1</td>\n",
        "      <td> 1</td>\n",
        "      <td> 1</td>\n",
        "      <td> 0</td>\n",
        "      <td>  0</td>\n",
        "      <td>  0</td>\n",
        "      <td> 0</td>\n",
        "      <td>...</td>\n",
        "      <td>  0</td>\n",
        "      <td>  0</td>\n",
        "      <td> 0</td>\n",
        "      <td> 0</td>\n",
        "      <td> 0</td>\n",
        "      <td> 0</td>\n",
        "      <td>  0</td>\n",
        "      <td>   1</td>\n",
        "      <td>  0</td>\n",
        "      <td>  0</td>\n",
        "    </tr>\n",
        "    <tr>\n",
        "      <th>4   </th>\n",
        "      <td>                      ACQUA PANA WATER 500ML GLASS</td>\n",
        "      <td> 0</td>\n",
        "      <td> 0</td>\n",
        "      <td> 1</td>\n",
        "      <td> 1</td>\n",
        "      <td> 1</td>\n",
        "      <td> 0</td>\n",
        "      <td>  0</td>\n",
        "      <td>  0</td>\n",
        "      <td> 0</td>\n",
        "      <td>...</td>\n",
        "      <td>  0</td>\n",
        "      <td>  0</td>\n",
        "      <td> 0</td>\n",
        "      <td> 0</td>\n",
        "      <td> 0</td>\n",
        "      <td> 0</td>\n",
        "      <td>  0</td>\n",
        "      <td>   1</td>\n",
        "      <td>  0</td>\n",
        "      <td>  0</td>\n",
        "    </tr>\n",
        "    <tr>\n",
        "      <th>5   </th>\n",
        "      <td>          AGAR AGAR FLAKES (HAND HARVESTED) - WILD</td>\n",
        "      <td> 0</td>\n",
        "      <td> 0</td>\n",
        "      <td> 0</td>\n",
        "      <td> 0</td>\n",
        "      <td> 0</td>\n",
        "      <td> 1</td>\n",
        "      <td>  0</td>\n",
        "      <td>  0</td>\n",
        "      <td> 0</td>\n",
        "      <td>...</td>\n",
        "      <td>  0</td>\n",
        "      <td>  0</td>\n",
        "      <td> 0</td>\n",
        "      <td> 0</td>\n",
        "      <td> 0</td>\n",
        "      <td> 0</td>\n",
        "      <td>  0</td>\n",
        "      <td>   1</td>\n",
        "      <td>  0</td>\n",
        "      <td>  0</td>\n",
        "    </tr>\n",
        "    <tr>\n",
        "      <th>6   </th>\n",
        "      <td>          ALL PURPOSE BAKING FLOUR ( GLUTEN FREE )</td>\n",
        "      <td> 0</td>\n",
        "      <td> 0</td>\n",
        "      <td> 0</td>\n",
        "      <td> 0</td>\n",
        "      <td> 0</td>\n",
        "      <td> 0</td>\n",
        "      <td> 23</td>\n",
        "      <td>  0</td>\n",
        "      <td> 1</td>\n",
        "      <td>...</td>\n",
        "      <td>  0</td>\n",
        "      <td>  0</td>\n",
        "      <td> 0</td>\n",
        "      <td> 0</td>\n",
        "      <td> 0</td>\n",
        "      <td> 0</td>\n",
        "      <td>  0</td>\n",
        "      <td>   2</td>\n",
        "      <td>  1</td>\n",
        "      <td>  0</td>\n",
        "    </tr>\n",
        "    <tr>\n",
        "      <th>7   </th>\n",
        "      <td>   ALL PURPOSE BAKING FLOUR ( GLUTEN FREE ) - 623G</td>\n",
        "      <td> 0</td>\n",
        "      <td> 0</td>\n",
        "      <td> 0</td>\n",
        "      <td> 0</td>\n",
        "      <td> 0</td>\n",
        "      <td> 0</td>\n",
        "      <td>  0</td>\n",
        "      <td> 22</td>\n",
        "      <td> 0</td>\n",
        "      <td>...</td>\n",
        "      <td>  0</td>\n",
        "      <td>  0</td>\n",
        "      <td> 0</td>\n",
        "      <td> 0</td>\n",
        "      <td> 0</td>\n",
        "      <td> 0</td>\n",
        "      <td>  0</td>\n",
        "      <td>   1</td>\n",
        "      <td>  0</td>\n",
        "      <td>  0</td>\n",
        "    </tr>\n",
        "    <tr>\n",
        "      <th>8   </th>\n",
        "      <td>  ALMOND BISCUTIS (GLUTEN FREE) - TRACES OF GLUTEN</td>\n",
        "      <td> 0</td>\n",
        "      <td> 0</td>\n",
        "      <td> 0</td>\n",
        "      <td> 0</td>\n",
        "      <td> 0</td>\n",
        "      <td> 0</td>\n",
        "      <td>  1</td>\n",
        "      <td>  0</td>\n",
        "      <td> 6</td>\n",
        "      <td>...</td>\n",
        "      <td>  0</td>\n",
        "      <td>  0</td>\n",
        "      <td> 0</td>\n",
        "      <td> 0</td>\n",
        "      <td> 0</td>\n",
        "      <td> 0</td>\n",
        "      <td>  0</td>\n",
        "      <td>   3</td>\n",
        "      <td>  0</td>\n",
        "      <td>  0</td>\n",
        "    </tr>\n",
        "    <tr>\n",
        "      <th>9   </th>\n",
        "      <td>                         ALMOND BUTTER (HOME-MADE)</td>\n",
        "      <td> 0</td>\n",
        "      <td> 1</td>\n",
        "      <td> 0</td>\n",
        "      <td> 0</td>\n",
        "      <td> 0</td>\n",
        "      <td> 0</td>\n",
        "      <td>  0</td>\n",
        "      <td>  0</td>\n",
        "      <td> 0</td>\n",
        "      <td>...</td>\n",
        "      <td>  0</td>\n",
        "      <td>  0</td>\n",
        "      <td> 0</td>\n",
        "      <td> 0</td>\n",
        "      <td> 0</td>\n",
        "      <td> 0</td>\n",
        "      <td>  0</td>\n",
        "      <td>   4</td>\n",
        "      <td>  0</td>\n",
        "      <td>  1</td>\n",
        "    </tr>\n",
        "    <tr>\n",
        "      <th>10  </th>\n",
        "      <td>                                 ALMOND MEAL FLOUR</td>\n",
        "      <td> 0</td>\n",
        "      <td> 0</td>\n",
        "      <td> 0</td>\n",
        "      <td> 0</td>\n",
        "      <td> 0</td>\n",
        "      <td> 0</td>\n",
        "      <td>  0</td>\n",
        "      <td>  0</td>\n",
        "      <td> 0</td>\n",
        "      <td>...</td>\n",
        "      <td>  0</td>\n",
        "      <td>  0</td>\n",
        "      <td> 0</td>\n",
        "      <td> 0</td>\n",
        "      <td> 0</td>\n",
        "      <td> 0</td>\n",
        "      <td>  0</td>\n",
        "      <td>   1</td>\n",
        "      <td>  0</td>\n",
        "      <td>  0</td>\n",
        "    </tr>\n",
        "    <tr>\n",
        "      <th>11  </th>\n",
        "      <td>                           ALMOND MILK ( ORGANIC )</td>\n",
        "      <td> 0</td>\n",
        "      <td> 0</td>\n",
        "      <td> 0</td>\n",
        "      <td> 0</td>\n",
        "      <td> 0</td>\n",
        "      <td> 0</td>\n",
        "      <td>  0</td>\n",
        "      <td>  0</td>\n",
        "      <td> 0</td>\n",
        "      <td>...</td>\n",
        "      <td>  0</td>\n",
        "      <td>  0</td>\n",
        "      <td> 0</td>\n",
        "      <td> 0</td>\n",
        "      <td> 0</td>\n",
        "      <td> 0</td>\n",
        "      <td>  0</td>\n",
        "      <td>   2</td>\n",
        "      <td>  0</td>\n",
        "      <td>  0</td>\n",
        "    </tr>\n",
        "    <tr>\n",
        "      <th>12  </th>\n",
        "      <td>                          ALMOND MILK ( ORIGINAL )</td>\n",
        "      <td> 2</td>\n",
        "      <td> 2</td>\n",
        "      <td> 2</td>\n",
        "      <td> 2</td>\n",
        "      <td> 2</td>\n",
        "      <td> 2</td>\n",
        "      <td>  2</td>\n",
        "      <td>  4</td>\n",
        "      <td> 2</td>\n",
        "      <td>...</td>\n",
        "      <td>  2</td>\n",
        "      <td>  2</td>\n",
        "      <td> 2</td>\n",
        "      <td> 2</td>\n",
        "      <td> 2</td>\n",
        "      <td> 2</td>\n",
        "      <td>  2</td>\n",
        "      <td>  11</td>\n",
        "      <td>  3</td>\n",
        "      <td>  2</td>\n",
        "    </tr>\n",
        "    <tr>\n",
        "      <th>13  </th>\n",
        "      <td>                         ALMOND MILK (UNSWEETENED)</td>\n",
        "      <td> 0</td>\n",
        "      <td> 0</td>\n",
        "      <td> 0</td>\n",
        "      <td> 0</td>\n",
        "      <td> 0</td>\n",
        "      <td> 0</td>\n",
        "      <td>  0</td>\n",
        "      <td>  0</td>\n",
        "      <td> 0</td>\n",
        "      <td>...</td>\n",
        "      <td>  0</td>\n",
        "      <td>  0</td>\n",
        "      <td> 0</td>\n",
        "      <td> 0</td>\n",
        "      <td> 0</td>\n",
        "      <td> 0</td>\n",
        "      <td>  0</td>\n",
        "      <td>   2</td>\n",
        "      <td>  0</td>\n",
        "      <td>  0</td>\n",
        "    </tr>\n",
        "    <tr>\n",
        "      <th>14  </th>\n",
        "      <td>                        ALMOND ORIGINAL (ORIGINAL)</td>\n",
        "      <td> 0</td>\n",
        "      <td> 0</td>\n",
        "      <td> 0</td>\n",
        "      <td> 0</td>\n",
        "      <td> 0</td>\n",
        "      <td> 0</td>\n",
        "      <td>  0</td>\n",
        "      <td>  0</td>\n",
        "      <td> 0</td>\n",
        "      <td>...</td>\n",
        "      <td>  0</td>\n",
        "      <td>  0</td>\n",
        "      <td> 0</td>\n",
        "      <td> 0</td>\n",
        "      <td> 0</td>\n",
        "      <td> 0</td>\n",
        "      <td>  0</td>\n",
        "      <td>   1</td>\n",
        "      <td>  0</td>\n",
        "      <td>  0</td>\n",
        "    </tr>\n",
        "    <tr>\n",
        "      <th>15  </th>\n",
        "      <td>                      ALMOND'S AND OATS BODY SCRUB</td>\n",
        "      <td> 0</td>\n",
        "      <td> 0</td>\n",
        "      <td> 0</td>\n",
        "      <td> 0</td>\n",
        "      <td> 0</td>\n",
        "      <td> 0</td>\n",
        "      <td>  0</td>\n",
        "      <td>  0</td>\n",
        "      <td> 0</td>\n",
        "      <td>...</td>\n",
        "      <td>  0</td>\n",
        "      <td>  0</td>\n",
        "      <td> 0</td>\n",
        "      <td> 0</td>\n",
        "      <td> 0</td>\n",
        "      <td> 0</td>\n",
        "      <td>  0</td>\n",
        "      <td>   2</td>\n",
        "      <td>  0</td>\n",
        "      <td>  0</td>\n",
        "    </tr>\n",
        "    <tr>\n",
        "      <th>16  </th>\n",
        "      <td>                             AMERICAN GREEN APPLES</td>\n",
        "      <td> 0</td>\n",
        "      <td> 0</td>\n",
        "      <td> 0</td>\n",
        "      <td> 0</td>\n",
        "      <td> 0</td>\n",
        "      <td> 0</td>\n",
        "      <td>  0</td>\n",
        "      <td>  0</td>\n",
        "      <td> 0</td>\n",
        "      <td>...</td>\n",
        "      <td>  0</td>\n",
        "      <td>  0</td>\n",
        "      <td> 0</td>\n",
        "      <td> 0</td>\n",
        "      <td> 0</td>\n",
        "      <td> 0</td>\n",
        "      <td>  0</td>\n",
        "      <td>   1</td>\n",
        "      <td>  0</td>\n",
        "      <td>  0</td>\n",
        "    </tr>\n",
        "    <tr>\n",
        "      <th>17  </th>\n",
        "      <td>                               AMERICAN RED APPLES</td>\n",
        "      <td> 0</td>\n",
        "      <td> 0</td>\n",
        "      <td> 0</td>\n",
        "      <td> 0</td>\n",
        "      <td> 0</td>\n",
        "      <td> 0</td>\n",
        "      <td>  0</td>\n",
        "      <td>  0</td>\n",
        "      <td> 0</td>\n",
        "      <td>...</td>\n",
        "      <td> 15</td>\n",
        "      <td>  0</td>\n",
        "      <td> 0</td>\n",
        "      <td> 0</td>\n",
        "      <td> 0</td>\n",
        "      <td> 0</td>\n",
        "      <td>  9</td>\n",
        "      <td>   1</td>\n",
        "      <td>  0</td>\n",
        "      <td>  0</td>\n",
        "    </tr>\n",
        "    <tr>\n",
        "      <th>18  </th>\n",
        "      <td>                            AMERICAN YELLOW APPLES</td>\n",
        "      <td> 0</td>\n",
        "      <td> 0</td>\n",
        "      <td> 0</td>\n",
        "      <td> 0</td>\n",
        "      <td> 0</td>\n",
        "      <td> 0</td>\n",
        "      <td>  0</td>\n",
        "      <td>  0</td>\n",
        "      <td> 0</td>\n",
        "      <td>...</td>\n",
        "      <td>  2</td>\n",
        "      <td>  0</td>\n",
        "      <td> 0</td>\n",
        "      <td> 0</td>\n",
        "      <td> 0</td>\n",
        "      <td> 0</td>\n",
        "      <td>  2</td>\n",
        "      <td>   1</td>\n",
        "      <td>  0</td>\n",
        "      <td>  0</td>\n",
        "    </tr>\n",
        "    <tr>\n",
        "      <th>19  </th>\n",
        "      <td>            ANIMAL SHAPED BISCUITS ( GLUTEN FREE )</td>\n",
        "      <td> 0</td>\n",
        "      <td> 0</td>\n",
        "      <td> 0</td>\n",
        "      <td> 0</td>\n",
        "      <td> 0</td>\n",
        "      <td> 0</td>\n",
        "      <td>  2</td>\n",
        "      <td>  0</td>\n",
        "      <td> 0</td>\n",
        "      <td>...</td>\n",
        "      <td>  0</td>\n",
        "      <td>  0</td>\n",
        "      <td> 0</td>\n",
        "      <td> 0</td>\n",
        "      <td> 0</td>\n",
        "      <td> 0</td>\n",
        "      <td>  0</td>\n",
        "      <td>   1</td>\n",
        "      <td>  0</td>\n",
        "      <td>  0</td>\n",
        "    </tr>\n",
        "    <tr>\n",
        "      <th>20  </th>\n",
        "      <td>                                ANNAS ALMOND THINS</td>\n",
        "      <td> 0</td>\n",
        "      <td> 0</td>\n",
        "      <td> 0</td>\n",
        "      <td> 0</td>\n",
        "      <td> 0</td>\n",
        "      <td> 0</td>\n",
        "      <td>  0</td>\n",
        "      <td>  0</td>\n",
        "      <td> 0</td>\n",
        "      <td>...</td>\n",
        "      <td>  1</td>\n",
        "      <td>  0</td>\n",
        "      <td> 0</td>\n",
        "      <td> 0</td>\n",
        "      <td> 0</td>\n",
        "      <td> 0</td>\n",
        "      <td>  1</td>\n",
        "      <td>   1</td>\n",
        "      <td>  0</td>\n",
        "      <td>  0</td>\n",
        "    </tr>\n",
        "    <tr>\n",
        "      <th>21  </th>\n",
        "      <td>                            ANNAS CAPPUCCINO THINS</td>\n",
        "      <td> 0</td>\n",
        "      <td> 0</td>\n",
        "      <td> 0</td>\n",
        "      <td> 0</td>\n",
        "      <td> 0</td>\n",
        "      <td> 0</td>\n",
        "      <td>  0</td>\n",
        "      <td>  0</td>\n",
        "      <td> 0</td>\n",
        "      <td>...</td>\n",
        "      <td>  1</td>\n",
        "      <td>  0</td>\n",
        "      <td> 0</td>\n",
        "      <td> 0</td>\n",
        "      <td> 0</td>\n",
        "      <td> 0</td>\n",
        "      <td>  0</td>\n",
        "      <td>   1</td>\n",
        "      <td>  0</td>\n",
        "      <td>  0</td>\n",
        "    </tr>\n",
        "    <tr>\n",
        "      <th>22  </th>\n",
        "      <td>                             ANTI-FRIZZ HAIR SERUM</td>\n",
        "      <td> 0</td>\n",
        "      <td> 0</td>\n",
        "      <td> 0</td>\n",
        "      <td> 0</td>\n",
        "      <td> 0</td>\n",
        "      <td> 0</td>\n",
        "      <td>  0</td>\n",
        "      <td>  0</td>\n",
        "      <td> 0</td>\n",
        "      <td>...</td>\n",
        "      <td>  0</td>\n",
        "      <td>  0</td>\n",
        "      <td> 0</td>\n",
        "      <td> 0</td>\n",
        "      <td> 0</td>\n",
        "      <td> 0</td>\n",
        "      <td>  0</td>\n",
        "      <td>   2</td>\n",
        "      <td>  0</td>\n",
        "      <td>  0</td>\n",
        "    </tr>\n",
        "    <tr>\n",
        "      <th>23  </th>\n",
        "      <td>          ANTISEPTIC CREAM WITH TEA TREE OIL 118ML</td>\n",
        "      <td> 0</td>\n",
        "      <td> 0</td>\n",
        "      <td> 0</td>\n",
        "      <td> 0</td>\n",
        "      <td> 0</td>\n",
        "      <td> 0</td>\n",
        "      <td>  0</td>\n",
        "      <td>  0</td>\n",
        "      <td> 0</td>\n",
        "      <td>...</td>\n",
        "      <td>  0</td>\n",
        "      <td>  0</td>\n",
        "      <td> 0</td>\n",
        "      <td> 0</td>\n",
        "      <td> 0</td>\n",
        "      <td> 0</td>\n",
        "      <td>  0</td>\n",
        "      <td>   1</td>\n",
        "      <td>  0</td>\n",
        "      <td>  0</td>\n",
        "    </tr>\n",
        "    <tr>\n",
        "      <th>24  </th>\n",
        "      <td>                   APPLE CIDER VINEGAR ( ORGANIC )</td>\n",
        "      <td> 0</td>\n",
        "      <td> 0</td>\n",
        "      <td> 0</td>\n",
        "      <td> 0</td>\n",
        "      <td> 0</td>\n",
        "      <td> 1</td>\n",
        "      <td>  0</td>\n",
        "      <td>  2</td>\n",
        "      <td> 4</td>\n",
        "      <td>...</td>\n",
        "      <td>  0</td>\n",
        "      <td>  1</td>\n",
        "      <td> 0</td>\n",
        "      <td> 0</td>\n",
        "      <td> 0</td>\n",
        "      <td> 0</td>\n",
        "      <td>  0</td>\n",
        "      <td>  14</td>\n",
        "      <td>  0</td>\n",
        "      <td>  0</td>\n",
        "    </tr>\n",
        "    <tr>\n",
        "      <th>25  </th>\n",
        "      <td>                        APPLE CIDER VINEGAR - 473G</td>\n",
        "      <td> 0</td>\n",
        "      <td> 0</td>\n",
        "      <td> 0</td>\n",
        "      <td> 0</td>\n",
        "      <td> 0</td>\n",
        "      <td> 0</td>\n",
        "      <td>  0</td>\n",
        "      <td>  0</td>\n",
        "      <td> 0</td>\n",
        "      <td>...</td>\n",
        "      <td>  0</td>\n",
        "      <td>  0</td>\n",
        "      <td> 0</td>\n",
        "      <td> 0</td>\n",
        "      <td> 0</td>\n",
        "      <td> 0</td>\n",
        "      <td>  0</td>\n",
        "      <td>   1</td>\n",
        "      <td>  0</td>\n",
        "      <td>  0</td>\n",
        "    </tr>\n",
        "    <tr>\n",
        "      <th>26  </th>\n",
        "      <td>                                   APPLES (SUKARY)</td>\n",
        "      <td> 0</td>\n",
        "      <td> 0</td>\n",
        "      <td> 0</td>\n",
        "      <td> 0</td>\n",
        "      <td> 0</td>\n",
        "      <td> 0</td>\n",
        "      <td>  0</td>\n",
        "      <td>  0</td>\n",
        "      <td> 0</td>\n",
        "      <td>...</td>\n",
        "      <td>  2</td>\n",
        "      <td>  0</td>\n",
        "      <td> 0</td>\n",
        "      <td> 0</td>\n",
        "      <td> 0</td>\n",
        "      <td> 0</td>\n",
        "      <td>  4</td>\n",
        "      <td>   1</td>\n",
        "      <td>  0</td>\n",
        "      <td>  0</td>\n",
        "    </tr>\n",
        "    <tr>\n",
        "      <th>27  </th>\n",
        "      <td>                                          APPRICOT</td>\n",
        "      <td> 0</td>\n",
        "      <td> 0</td>\n",
        "      <td> 0</td>\n",
        "      <td> 0</td>\n",
        "      <td> 0</td>\n",
        "      <td> 0</td>\n",
        "      <td>  0</td>\n",
        "      <td>  0</td>\n",
        "      <td> 0</td>\n",
        "      <td>...</td>\n",
        "      <td>  0</td>\n",
        "      <td>  0</td>\n",
        "      <td> 0</td>\n",
        "      <td> 0</td>\n",
        "      <td> 0</td>\n",
        "      <td> 0</td>\n",
        "      <td>  0</td>\n",
        "      <td>   4</td>\n",
        "      <td>  0</td>\n",
        "      <td>  0</td>\n",
        "    </tr>\n",
        "    <tr>\n",
        "      <th>28  </th>\n",
        "      <td>                             APRICOT JAM (NATURAL)</td>\n",
        "      <td> 0</td>\n",
        "      <td> 0</td>\n",
        "      <td> 0</td>\n",
        "      <td> 0</td>\n",
        "      <td> 0</td>\n",
        "      <td> 0</td>\n",
        "      <td>  0</td>\n",
        "      <td>  0</td>\n",
        "      <td> 0</td>\n",
        "      <td>...</td>\n",
        "      <td>  0</td>\n",
        "      <td>  3</td>\n",
        "      <td> 0</td>\n",
        "      <td> 0</td>\n",
        "      <td> 0</td>\n",
        "      <td> 0</td>\n",
        "      <td>  0</td>\n",
        "      <td>   1</td>\n",
        "      <td>  0</td>\n",
        "      <td>  0</td>\n",
        "    </tr>\n",
        "    <tr>\n",
        "      <th>29  </th>\n",
        "      <td>                                 ARDO BLACKBERRIES</td>\n",
        "      <td> 0</td>\n",
        "      <td> 0</td>\n",
        "      <td> 0</td>\n",
        "      <td> 0</td>\n",
        "      <td> 0</td>\n",
        "      <td> 0</td>\n",
        "      <td>  0</td>\n",
        "      <td>  0</td>\n",
        "      <td> 0</td>\n",
        "      <td>...</td>\n",
        "      <td>  0</td>\n",
        "      <td>  0</td>\n",
        "      <td> 0</td>\n",
        "      <td> 0</td>\n",
        "      <td> 0</td>\n",
        "      <td> 0</td>\n",
        "      <td>  0</td>\n",
        "      <td>   1</td>\n",
        "      <td>  0</td>\n",
        "      <td>  0</td>\n",
        "    </tr>\n",
        "    <tr>\n",
        "      <th>...</th>\n",
        "      <td>...</td>\n",
        "      <td>...</td>\n",
        "      <td>...</td>\n",
        "      <td>...</td>\n",
        "      <td>...</td>\n",
        "      <td>...</td>\n",
        "      <td>...</td>\n",
        "      <td>...</td>\n",
        "      <td>...</td>\n",
        "      <td>...</td>\n",
        "      <td>...</td>\n",
        "      <td>...</td>\n",
        "      <td>...</td>\n",
        "      <td>...</td>\n",
        "      <td>...</td>\n",
        "      <td>...</td>\n",
        "      <td>...</td>\n",
        "      <td>...</td>\n",
        "      <td>...</td>\n",
        "      <td>...</td>\n",
        "      <td>...</td>\n",
        "    </tr>\n",
        "    <tr>\n",
        "      <th>1007</th>\n",
        "      <td>                    WHITE GRAPES ( CHEMICAL FREE )</td>\n",
        "      <td> 0</td>\n",
        "      <td> 0</td>\n",
        "      <td> 0</td>\n",
        "      <td> 0</td>\n",
        "      <td> 0</td>\n",
        "      <td> 0</td>\n",
        "      <td>  0</td>\n",
        "      <td>  0</td>\n",
        "      <td> 0</td>\n",
        "      <td>...</td>\n",
        "      <td>  0</td>\n",
        "      <td>  0</td>\n",
        "      <td> 0</td>\n",
        "      <td> 0</td>\n",
        "      <td> 0</td>\n",
        "      <td> 0</td>\n",
        "      <td>  0</td>\n",
        "      <td>   4</td>\n",
        "      <td>  0</td>\n",
        "      <td>  1</td>\n",
        "    </tr>\n",
        "    <tr>\n",
        "      <th>1008</th>\n",
        "      <td>                            WHITE QUINOA (ORGANIC)</td>\n",
        "      <td> 0</td>\n",
        "      <td> 0</td>\n",
        "      <td> 0</td>\n",
        "      <td> 0</td>\n",
        "      <td> 0</td>\n",
        "      <td> 0</td>\n",
        "      <td>  0</td>\n",
        "      <td>  0</td>\n",
        "      <td> 0</td>\n",
        "      <td>...</td>\n",
        "      <td>  0</td>\n",
        "      <td>  0</td>\n",
        "      <td> 0</td>\n",
        "      <td> 0</td>\n",
        "      <td> 0</td>\n",
        "      <td> 0</td>\n",
        "      <td>  0</td>\n",
        "      <td>   1</td>\n",
        "      <td>  0</td>\n",
        "      <td>  0</td>\n",
        "    </tr>\n",
        "    <tr>\n",
        "      <th>1009</th>\n",
        "      <td>    WHITE TEA WITH FENNEL AND PEPPERMINT (ORGANIC)</td>\n",
        "      <td> 0</td>\n",
        "      <td> 0</td>\n",
        "      <td> 0</td>\n",
        "      <td> 0</td>\n",
        "      <td> 0</td>\n",
        "      <td> 0</td>\n",
        "      <td>  0</td>\n",
        "      <td>  0</td>\n",
        "      <td> 0</td>\n",
        "      <td>...</td>\n",
        "      <td>  0</td>\n",
        "      <td>  0</td>\n",
        "      <td> 0</td>\n",
        "      <td> 0</td>\n",
        "      <td> 0</td>\n",
        "      <td> 0</td>\n",
        "      <td>  0</td>\n",
        "      <td>   1</td>\n",
        "      <td>  0</td>\n",
        "      <td>  0</td>\n",
        "    </tr>\n",
        "    <tr>\n",
        "      <th>1010</th>\n",
        "      <td>                              WHITE TEA WITH PEACH</td>\n",
        "      <td> 0</td>\n",
        "      <td> 0</td>\n",
        "      <td> 0</td>\n",
        "      <td> 0</td>\n",
        "      <td> 0</td>\n",
        "      <td> 0</td>\n",
        "      <td>  0</td>\n",
        "      <td>  0</td>\n",
        "      <td> 0</td>\n",
        "      <td>...</td>\n",
        "      <td>  0</td>\n",
        "      <td>  0</td>\n",
        "      <td> 0</td>\n",
        "      <td> 0</td>\n",
        "      <td> 0</td>\n",
        "      <td> 0</td>\n",
        "      <td>  0</td>\n",
        "      <td>   1</td>\n",
        "      <td>  0</td>\n",
        "      <td>  0</td>\n",
        "    </tr>\n",
        "    <tr>\n",
        "      <th>1011</th>\n",
        "      <td>                         WHITE VINEGAR ( ORGANIC )</td>\n",
        "      <td> 0</td>\n",
        "      <td> 0</td>\n",
        "      <td> 0</td>\n",
        "      <td> 0</td>\n",
        "      <td> 0</td>\n",
        "      <td> 0</td>\n",
        "      <td>  0</td>\n",
        "      <td>  0</td>\n",
        "      <td> 0</td>\n",
        "      <td>...</td>\n",
        "      <td>  0</td>\n",
        "      <td>  0</td>\n",
        "      <td> 0</td>\n",
        "      <td> 0</td>\n",
        "      <td> 0</td>\n",
        "      <td> 0</td>\n",
        "      <td>  0</td>\n",
        "      <td>   1</td>\n",
        "      <td>  0</td>\n",
        "      <td>  0</td>\n",
        "    </tr>\n",
        "    <tr>\n",
        "      <th>1012</th>\n",
        "      <td>                     WHOLE CHICKEN (CHEMICAL FREE)</td>\n",
        "      <td> 0</td>\n",
        "      <td> 0</td>\n",
        "      <td> 0</td>\n",
        "      <td> 0</td>\n",
        "      <td> 0</td>\n",
        "      <td> 0</td>\n",
        "      <td>  0</td>\n",
        "      <td>  0</td>\n",
        "      <td> 0</td>\n",
        "      <td>...</td>\n",
        "      <td>  0</td>\n",
        "      <td>  0</td>\n",
        "      <td> 0</td>\n",
        "      <td> 0</td>\n",
        "      <td> 0</td>\n",
        "      <td> 0</td>\n",
        "      <td>  0</td>\n",
        "      <td>   7</td>\n",
        "      <td>  1</td>\n",
        "      <td>  0</td>\n",
        "    </tr>\n",
        "    <tr>\n",
        "      <th>1013</th>\n",
        "      <td>                                 WHOLE CHICKEN 1KG</td>\n",
        "      <td> 0</td>\n",
        "      <td> 0</td>\n",
        "      <td> 0</td>\n",
        "      <td> 0</td>\n",
        "      <td> 0</td>\n",
        "      <td> 0</td>\n",
        "      <td>  3</td>\n",
        "      <td>  0</td>\n",
        "      <td> 0</td>\n",
        "      <td>...</td>\n",
        "      <td>  5</td>\n",
        "      <td>  0</td>\n",
        "      <td> 0</td>\n",
        "      <td> 0</td>\n",
        "      <td> 0</td>\n",
        "      <td> 0</td>\n",
        "      <td>  4</td>\n",
        "      <td>  28</td>\n",
        "      <td>  8</td>\n",
        "      <td>  1</td>\n",
        "    </tr>\n",
        "    <tr>\n",
        "      <th>1014</th>\n",
        "      <td>               WHOLE GRAIN CRACKERS WITH CORIANDER</td>\n",
        "      <td> 0</td>\n",
        "      <td> 0</td>\n",
        "      <td> 0</td>\n",
        "      <td> 0</td>\n",
        "      <td> 0</td>\n",
        "      <td> 0</td>\n",
        "      <td>  0</td>\n",
        "      <td>  0</td>\n",
        "      <td> 0</td>\n",
        "      <td>...</td>\n",
        "      <td>  0</td>\n",
        "      <td>  0</td>\n",
        "      <td> 0</td>\n",
        "      <td> 0</td>\n",
        "      <td> 0</td>\n",
        "      <td> 0</td>\n",
        "      <td>  0</td>\n",
        "      <td>   4</td>\n",
        "      <td>  1</td>\n",
        "      <td>  0</td>\n",
        "    </tr>\n",
        "    <tr>\n",
        "      <th>1015</th>\n",
        "      <td>                  WHOLE GRAIN CRACKERS WITH GARLIC</td>\n",
        "      <td> 0</td>\n",
        "      <td> 0</td>\n",
        "      <td> 0</td>\n",
        "      <td> 0</td>\n",
        "      <td> 0</td>\n",
        "      <td> 0</td>\n",
        "      <td>  0</td>\n",
        "      <td>  0</td>\n",
        "      <td> 0</td>\n",
        "      <td>...</td>\n",
        "      <td>  0</td>\n",
        "      <td>  0</td>\n",
        "      <td> 0</td>\n",
        "      <td> 0</td>\n",
        "      <td> 0</td>\n",
        "      <td> 0</td>\n",
        "      <td>  0</td>\n",
        "      <td>   1</td>\n",
        "      <td>  0</td>\n",
        "      <td>  0</td>\n",
        "    </tr>\n",
        "    <tr>\n",
        "      <th>1016</th>\n",
        "      <td>  WHOLE GRAIN RICE CAKES (LOW FAT)-LIGHTLY SALTED)</td>\n",
        "      <td> 0</td>\n",
        "      <td> 0</td>\n",
        "      <td> 0</td>\n",
        "      <td> 0</td>\n",
        "      <td> 0</td>\n",
        "      <td> 0</td>\n",
        "      <td>  0</td>\n",
        "      <td>  0</td>\n",
        "      <td> 0</td>\n",
        "      <td>...</td>\n",
        "      <td>  0</td>\n",
        "      <td>  0</td>\n",
        "      <td> 1</td>\n",
        "      <td> 0</td>\n",
        "      <td> 0</td>\n",
        "      <td> 0</td>\n",
        "      <td>  0</td>\n",
        "      <td>   2</td>\n",
        "      <td>  0</td>\n",
        "      <td>  0</td>\n",
        "    </tr>\n",
        "    <tr>\n",
        "      <th>1017</th>\n",
        "      <td> WHOLE GRAIN RICE CAKES (ORGANIC) LOW FAT - LIG...</td>\n",
        "      <td> 0</td>\n",
        "      <td> 0</td>\n",
        "      <td> 0</td>\n",
        "      <td> 0</td>\n",
        "      <td> 0</td>\n",
        "      <td> 0</td>\n",
        "      <td>  0</td>\n",
        "      <td>  0</td>\n",
        "      <td> 0</td>\n",
        "      <td>...</td>\n",
        "      <td>  0</td>\n",
        "      <td>  0</td>\n",
        "      <td> 0</td>\n",
        "      <td> 0</td>\n",
        "      <td> 0</td>\n",
        "      <td> 0</td>\n",
        "      <td>  0</td>\n",
        "      <td>   3</td>\n",
        "      <td>  0</td>\n",
        "      <td>  0</td>\n",
        "    </tr>\n",
        "    <tr>\n",
        "      <th>1018</th>\n",
        "      <td>                                  WHOLE MEAL FLOUR</td>\n",
        "      <td> 0</td>\n",
        "      <td> 0</td>\n",
        "      <td> 0</td>\n",
        "      <td> 0</td>\n",
        "      <td> 0</td>\n",
        "      <td> 0</td>\n",
        "      <td>  0</td>\n",
        "      <td>  0</td>\n",
        "      <td> 0</td>\n",
        "      <td>...</td>\n",
        "      <td>  0</td>\n",
        "      <td>  2</td>\n",
        "      <td> 0</td>\n",
        "      <td> 0</td>\n",
        "      <td> 0</td>\n",
        "      <td> 0</td>\n",
        "      <td>  0</td>\n",
        "      <td>   9</td>\n",
        "      <td>  0</td>\n",
        "      <td>  0</td>\n",
        "    </tr>\n",
        "    <tr>\n",
        "      <th>1019</th>\n",
        "      <td>                         WHOLE RYE BREAD (ORGANIC)</td>\n",
        "      <td> 0</td>\n",
        "      <td> 0</td>\n",
        "      <td> 0</td>\n",
        "      <td> 0</td>\n",
        "      <td> 0</td>\n",
        "      <td> 0</td>\n",
        "      <td>  0</td>\n",
        "      <td>  0</td>\n",
        "      <td> 0</td>\n",
        "      <td>...</td>\n",
        "      <td>  0</td>\n",
        "      <td>  0</td>\n",
        "      <td> 0</td>\n",
        "      <td> 0</td>\n",
        "      <td> 0</td>\n",
        "      <td> 0</td>\n",
        "      <td>  0</td>\n",
        "      <td>   1</td>\n",
        "      <td>  3</td>\n",
        "      <td>  0</td>\n",
        "    </tr>\n",
        "    <tr>\n",
        "      <th>1020</th>\n",
        "      <td>                              WHOLEGRAINS CRACKERS</td>\n",
        "      <td> 0</td>\n",
        "      <td> 0</td>\n",
        "      <td> 0</td>\n",
        "      <td> 0</td>\n",
        "      <td> 0</td>\n",
        "      <td> 0</td>\n",
        "      <td>  0</td>\n",
        "      <td>  1</td>\n",
        "      <td> 0</td>\n",
        "      <td>...</td>\n",
        "      <td>  0</td>\n",
        "      <td>  0</td>\n",
        "      <td> 0</td>\n",
        "      <td> 0</td>\n",
        "      <td> 0</td>\n",
        "      <td> 0</td>\n",
        "      <td>  0</td>\n",
        "      <td>   2</td>\n",
        "      <td>  0</td>\n",
        "      <td>  0</td>\n",
        "    </tr>\n",
        "    <tr>\n",
        "      <th>1021</th>\n",
        "      <td>                             WHOLESOME PANCAKE MIX</td>\n",
        "      <td> 0</td>\n",
        "      <td> 0</td>\n",
        "      <td> 0</td>\n",
        "      <td> 0</td>\n",
        "      <td> 0</td>\n",
        "      <td> 0</td>\n",
        "      <td>  1</td>\n",
        "      <td>  0</td>\n",
        "      <td> 2</td>\n",
        "      <td>...</td>\n",
        "      <td>  0</td>\n",
        "      <td>  0</td>\n",
        "      <td> 0</td>\n",
        "      <td> 0</td>\n",
        "      <td> 0</td>\n",
        "      <td> 0</td>\n",
        "      <td>  0</td>\n",
        "      <td>   3</td>\n",
        "      <td>  0</td>\n",
        "      <td>  0</td>\n",
        "    </tr>\n",
        "    <tr>\n",
        "      <th>1022</th>\n",
        "      <td>                        WILD RICE ( ORGANIC ) 227G</td>\n",
        "      <td> 0</td>\n",
        "      <td> 0</td>\n",
        "      <td> 0</td>\n",
        "      <td> 0</td>\n",
        "      <td> 0</td>\n",
        "      <td> 0</td>\n",
        "      <td>  0</td>\n",
        "      <td>  1</td>\n",
        "      <td> 0</td>\n",
        "      <td>...</td>\n",
        "      <td>  0</td>\n",
        "      <td>  0</td>\n",
        "      <td> 0</td>\n",
        "      <td> 0</td>\n",
        "      <td> 0</td>\n",
        "      <td> 0</td>\n",
        "      <td>  0</td>\n",
        "      <td>   3</td>\n",
        "      <td>  0</td>\n",
        "      <td>  0</td>\n",
        "    </tr>\n",
        "    <tr>\n",
        "      <th>1023</th>\n",
        "      <td>           WILD RICE CAKES (ORGANIC) - GLUTEN FREE</td>\n",
        "      <td> 0</td>\n",
        "      <td> 0</td>\n",
        "      <td> 0</td>\n",
        "      <td> 0</td>\n",
        "      <td> 0</td>\n",
        "      <td> 0</td>\n",
        "      <td>  0</td>\n",
        "      <td>  0</td>\n",
        "      <td> 2</td>\n",
        "      <td>...</td>\n",
        "      <td>  0</td>\n",
        "      <td>  0</td>\n",
        "      <td> 0</td>\n",
        "      <td> 0</td>\n",
        "      <td> 0</td>\n",
        "      <td> 0</td>\n",
        "      <td>  0</td>\n",
        "      <td>   3</td>\n",
        "      <td>  0</td>\n",
        "      <td>  0</td>\n",
        "    </tr>\n",
        "    <tr>\n",
        "      <th>1024</th>\n",
        "      <td>                                  YAKI NORI SHEETS</td>\n",
        "      <td> 0</td>\n",
        "      <td> 0</td>\n",
        "      <td> 0</td>\n",
        "      <td> 0</td>\n",
        "      <td> 0</td>\n",
        "      <td> 0</td>\n",
        "      <td>  0</td>\n",
        "      <td>  0</td>\n",
        "      <td> 0</td>\n",
        "      <td>...</td>\n",
        "      <td>  0</td>\n",
        "      <td>  0</td>\n",
        "      <td> 0</td>\n",
        "      <td> 0</td>\n",
        "      <td> 0</td>\n",
        "      <td> 0</td>\n",
        "      <td>  0</td>\n",
        "      <td>   1</td>\n",
        "      <td>  0</td>\n",
        "      <td>  0</td>\n",
        "    </tr>\n",
        "    <tr>\n",
        "      <th>1025</th>\n",
        "      <td>                 YELLOW CAPSICUM ( CHEMICAL FREE )</td>\n",
        "      <td> 0</td>\n",
        "      <td> 0</td>\n",
        "      <td> 0</td>\n",
        "      <td> 0</td>\n",
        "      <td> 0</td>\n",
        "      <td> 0</td>\n",
        "      <td>  0</td>\n",
        "      <td>  0</td>\n",
        "      <td> 0</td>\n",
        "      <td>...</td>\n",
        "      <td>  0</td>\n",
        "      <td>  0</td>\n",
        "      <td> 0</td>\n",
        "      <td> 0</td>\n",
        "      <td> 0</td>\n",
        "      <td> 0</td>\n",
        "      <td>  0</td>\n",
        "      <td>   1</td>\n",
        "      <td>  0</td>\n",
        "      <td>  0</td>\n",
        "    </tr>\n",
        "    <tr>\n",
        "      <th>1026</th>\n",
        "      <td>                   YELLOW CARROT ( CHEMICAL FREE )</td>\n",
        "      <td> 0</td>\n",
        "      <td> 0</td>\n",
        "      <td> 0</td>\n",
        "      <td> 0</td>\n",
        "      <td> 0</td>\n",
        "      <td> 0</td>\n",
        "      <td>  0</td>\n",
        "      <td>  2</td>\n",
        "      <td> 0</td>\n",
        "      <td>...</td>\n",
        "      <td>  0</td>\n",
        "      <td>  4</td>\n",
        "      <td> 0</td>\n",
        "      <td> 0</td>\n",
        "      <td> 0</td>\n",
        "      <td> 0</td>\n",
        "      <td>  0</td>\n",
        "      <td> 107</td>\n",
        "      <td> 27</td>\n",
        "      <td>  0</td>\n",
        "    </tr>\n",
        "    <tr>\n",
        "      <th>1027</th>\n",
        "      <td>                                    YELLOW CARROTS</td>\n",
        "      <td> 0</td>\n",
        "      <td> 0</td>\n",
        "      <td> 0</td>\n",
        "      <td> 0</td>\n",
        "      <td> 0</td>\n",
        "      <td> 0</td>\n",
        "      <td>  0</td>\n",
        "      <td>  0</td>\n",
        "      <td> 0</td>\n",
        "      <td>...</td>\n",
        "      <td> 35</td>\n",
        "      <td>  0</td>\n",
        "      <td> 0</td>\n",
        "      <td> 0</td>\n",
        "      <td> 0</td>\n",
        "      <td> 0</td>\n",
        "      <td> 14</td>\n",
        "      <td>   1</td>\n",
        "      <td>  0</td>\n",
        "      <td>  0</td>\n",
        "    </tr>\n",
        "    <tr>\n",
        "      <th>1028</th>\n",
        "      <td>                                 YELLOW GRAPEFRUIT</td>\n",
        "      <td> 0</td>\n",
        "      <td> 0</td>\n",
        "      <td> 0</td>\n",
        "      <td> 0</td>\n",
        "      <td> 0</td>\n",
        "      <td> 0</td>\n",
        "      <td>  0</td>\n",
        "      <td>  0</td>\n",
        "      <td> 0</td>\n",
        "      <td>...</td>\n",
        "      <td>  0</td>\n",
        "      <td> 31</td>\n",
        "      <td> 0</td>\n",
        "      <td> 0</td>\n",
        "      <td> 0</td>\n",
        "      <td> 0</td>\n",
        "      <td>  0</td>\n",
        "      <td>   1</td>\n",
        "      <td>  0</td>\n",
        "      <td>  0</td>\n",
        "    </tr>\n",
        "    <tr>\n",
        "      <th>1029</th>\n",
        "      <td>                   YELLOW ONIONS ( CHEMICAL FREE )</td>\n",
        "      <td> 0</td>\n",
        "      <td> 0</td>\n",
        "      <td> 0</td>\n",
        "      <td> 0</td>\n",
        "      <td> 0</td>\n",
        "      <td> 0</td>\n",
        "      <td>  0</td>\n",
        "      <td>  0</td>\n",
        "      <td> 0</td>\n",
        "      <td>...</td>\n",
        "      <td>  0</td>\n",
        "      <td>  0</td>\n",
        "      <td> 5</td>\n",
        "      <td> 0</td>\n",
        "      <td> 0</td>\n",
        "      <td> 0</td>\n",
        "      <td>  0</td>\n",
        "      <td>   3</td>\n",
        "      <td>  0</td>\n",
        "      <td>  0</td>\n",
        "    </tr>\n",
        "    <tr>\n",
        "      <th>1030</th>\n",
        "      <td>                          YELLOW SPLIT PEAS - 822G</td>\n",
        "      <td> 0</td>\n",
        "      <td> 0</td>\n",
        "      <td> 0</td>\n",
        "      <td> 0</td>\n",
        "      <td> 0</td>\n",
        "      <td> 0</td>\n",
        "      <td>  0</td>\n",
        "      <td>  0</td>\n",
        "      <td> 0</td>\n",
        "      <td>...</td>\n",
        "      <td>  0</td>\n",
        "      <td>  0</td>\n",
        "      <td> 0</td>\n",
        "      <td> 1</td>\n",
        "      <td> 0</td>\n",
        "      <td> 0</td>\n",
        "      <td>  0</td>\n",
        "      <td>   1</td>\n",
        "      <td>  0</td>\n",
        "      <td>  0</td>\n",
        "    </tr>\n",
        "    <tr>\n",
        "      <th>1031</th>\n",
        "      <td>                        YING/YANG FACIAL ACNE SOAP</td>\n",
        "      <td> 0</td>\n",
        "      <td> 0</td>\n",
        "      <td> 0</td>\n",
        "      <td> 0</td>\n",
        "      <td> 0</td>\n",
        "      <td> 0</td>\n",
        "      <td>  0</td>\n",
        "      <td>  0</td>\n",
        "      <td> 0</td>\n",
        "      <td>...</td>\n",
        "      <td>  0</td>\n",
        "      <td>  0</td>\n",
        "      <td> 0</td>\n",
        "      <td> 0</td>\n",
        "      <td> 1</td>\n",
        "      <td> 0</td>\n",
        "      <td>  0</td>\n",
        "      <td>   1</td>\n",
        "      <td>  0</td>\n",
        "      <td>  0</td>\n",
        "    </tr>\n",
        "    <tr>\n",
        "      <th>1032</th>\n",
        "      <td>                      ZARDA EXTRA VIRGIN OLIVE OIL</td>\n",
        "      <td> 0</td>\n",
        "      <td> 0</td>\n",
        "      <td> 0</td>\n",
        "      <td> 0</td>\n",
        "      <td> 0</td>\n",
        "      <td> 0</td>\n",
        "      <td>  0</td>\n",
        "      <td>  0</td>\n",
        "      <td> 0</td>\n",
        "      <td>...</td>\n",
        "      <td>  0</td>\n",
        "      <td>  0</td>\n",
        "      <td> 0</td>\n",
        "      <td> 0</td>\n",
        "      <td> 0</td>\n",
        "      <td> 1</td>\n",
        "      <td>  0</td>\n",
        "      <td>   1</td>\n",
        "      <td>  0</td>\n",
        "      <td>  0</td>\n",
        "    </tr>\n",
        "    <tr>\n",
        "      <th>1033</th>\n",
        "      <td>                                          ZUCCHINI</td>\n",
        "      <td> 0</td>\n",
        "      <td> 0</td>\n",
        "      <td> 0</td>\n",
        "      <td> 0</td>\n",
        "      <td> 0</td>\n",
        "      <td> 0</td>\n",
        "      <td>  0</td>\n",
        "      <td>  0</td>\n",
        "      <td> 0</td>\n",
        "      <td>...</td>\n",
        "      <td> 14</td>\n",
        "      <td>  0</td>\n",
        "      <td> 0</td>\n",
        "      <td> 0</td>\n",
        "      <td> 0</td>\n",
        "      <td> 0</td>\n",
        "      <td> 29</td>\n",
        "      <td>   1</td>\n",
        "      <td>  0</td>\n",
        "      <td>  0</td>\n",
        "    </tr>\n",
        "    <tr>\n",
        "      <th>1034</th>\n",
        "      <td>                        ZUCCHINI ( CHEMICAL FREE )</td>\n",
        "      <td> 2</td>\n",
        "      <td> 1</td>\n",
        "      <td> 1</td>\n",
        "      <td> 1</td>\n",
        "      <td> 1</td>\n",
        "      <td> 1</td>\n",
        "      <td>  2</td>\n",
        "      <td>  1</td>\n",
        "      <td> 3</td>\n",
        "      <td>...</td>\n",
        "      <td>  1</td>\n",
        "      <td>  1</td>\n",
        "      <td> 3</td>\n",
        "      <td> 1</td>\n",
        "      <td> 1</td>\n",
        "      <td> 1</td>\n",
        "      <td>  1</td>\n",
        "      <td> 276</td>\n",
        "      <td>  2</td>\n",
        "      <td>  4</td>\n",
        "    </tr>\n",
        "    <tr>\n",
        "      <th>1035</th>\n",
        "      <td>                          ZUCCHINI (CHEMICAL FREE)</td>\n",
        "      <td> 0</td>\n",
        "      <td> 0</td>\n",
        "      <td> 0</td>\n",
        "      <td> 0</td>\n",
        "      <td> 0</td>\n",
        "      <td> 0</td>\n",
        "      <td>  1</td>\n",
        "      <td>  0</td>\n",
        "      <td> 0</td>\n",
        "      <td>...</td>\n",
        "      <td>  0</td>\n",
        "      <td>  0</td>\n",
        "      <td> 0</td>\n",
        "      <td> 0</td>\n",
        "      <td> 0</td>\n",
        "      <td> 0</td>\n",
        "      <td>  0</td>\n",
        "      <td>   2</td>\n",
        "      <td> 52</td>\n",
        "      <td>  0</td>\n",
        "    </tr>\n",
        "    <tr>\n",
        "      <th>1036</th>\n",
        "      <td>                                  ZUCCHINI FLOWERS</td>\n",
        "      <td> 0</td>\n",
        "      <td> 0</td>\n",
        "      <td> 0</td>\n",
        "      <td> 0</td>\n",
        "      <td> 0</td>\n",
        "      <td> 0</td>\n",
        "      <td>  0</td>\n",
        "      <td>  0</td>\n",
        "      <td> 0</td>\n",
        "      <td>...</td>\n",
        "      <td>  0</td>\n",
        "      <td>  0</td>\n",
        "      <td> 0</td>\n",
        "      <td> 0</td>\n",
        "      <td> 0</td>\n",
        "      <td> 0</td>\n",
        "      <td>  0</td>\n",
        "      <td>   4</td>\n",
        "      <td>  0</td>\n",
        "      <td> 17</td>\n",
        "    </tr>\n",
        "  </tbody>\n",
        "</table>\n",
        "<p>1037 rows \u00d7 1038 columns</p>\n",
        "</div>"
       ],
       "metadata": {},
       "output_type": "pyout",
       "prompt_number": 91,
       "text": [
        "                                                  index  ACAI BERRY JUICE  \\\n",
        "0                                      ACAI BERRY JUICE                 1   \n",
        "1                                      ACNE FACIAL SOAP                 0   \n",
        "2                               ACQUA PANA WATER 1000ML                 0   \n",
        "3                                ACQUA PANA WATER 500ML                 0   \n",
        "4                          ACQUA PANA WATER 500ML GLASS                 0   \n",
        "5              AGAR AGAR FLAKES (HAND HARVESTED) - WILD                 0   \n",
        "6              ALL PURPOSE BAKING FLOUR ( GLUTEN FREE )                 0   \n",
        "7       ALL PURPOSE BAKING FLOUR ( GLUTEN FREE ) - 623G                 0   \n",
        "8      ALMOND BISCUTIS (GLUTEN FREE) - TRACES OF GLUTEN                 0   \n",
        "9                             ALMOND BUTTER (HOME-MADE)                 0   \n",
        "10                                    ALMOND MEAL FLOUR                 0   \n",
        "11                              ALMOND MILK ( ORGANIC )                 0   \n",
        "12                             ALMOND MILK ( ORIGINAL )                 2   \n",
        "13                            ALMOND MILK (UNSWEETENED)                 0   \n",
        "14                           ALMOND ORIGINAL (ORIGINAL)                 0   \n",
        "15                         ALMOND'S AND OATS BODY SCRUB                 0   \n",
        "16                                AMERICAN GREEN APPLES                 0   \n",
        "17                                  AMERICAN RED APPLES                 0   \n",
        "18                               AMERICAN YELLOW APPLES                 0   \n",
        "19               ANIMAL SHAPED BISCUITS ( GLUTEN FREE )                 0   \n",
        "20                                   ANNAS ALMOND THINS                 0   \n",
        "21                               ANNAS CAPPUCCINO THINS                 0   \n",
        "22                                ANTI-FRIZZ HAIR SERUM                 0   \n",
        "23             ANTISEPTIC CREAM WITH TEA TREE OIL 118ML                 0   \n",
        "24                      APPLE CIDER VINEGAR ( ORGANIC )                 0   \n",
        "25                           APPLE CIDER VINEGAR - 473G                 0   \n",
        "26                                      APPLES (SUKARY)                 0   \n",
        "27                                             APPRICOT                 0   \n",
        "28                                APRICOT JAM (NATURAL)                 0   \n",
        "29                                    ARDO BLACKBERRIES                 0   \n",
        "...                                                 ...               ...   \n",
        "1007                     WHITE GRAPES ( CHEMICAL FREE )                 0   \n",
        "1008                             WHITE QUINOA (ORGANIC)                 0   \n",
        "1009     WHITE TEA WITH FENNEL AND PEPPERMINT (ORGANIC)                 0   \n",
        "1010                               WHITE TEA WITH PEACH                 0   \n",
        "1011                          WHITE VINEGAR ( ORGANIC )                 0   \n",
        "1012                      WHOLE CHICKEN (CHEMICAL FREE)                 0   \n",
        "1013                                  WHOLE CHICKEN 1KG                 0   \n",
        "1014                WHOLE GRAIN CRACKERS WITH CORIANDER                 0   \n",
        "1015                   WHOLE GRAIN CRACKERS WITH GARLIC                 0   \n",
        "1016   WHOLE GRAIN RICE CAKES (LOW FAT)-LIGHTLY SALTED)                 0   \n",
        "1017  WHOLE GRAIN RICE CAKES (ORGANIC) LOW FAT - LIG...                 0   \n",
        "1018                                   WHOLE MEAL FLOUR                 0   \n",
        "1019                          WHOLE RYE BREAD (ORGANIC)                 0   \n",
        "1020                               WHOLEGRAINS CRACKERS                 0   \n",
        "1021                              WHOLESOME PANCAKE MIX                 0   \n",
        "1022                         WILD RICE ( ORGANIC ) 227G                 0   \n",
        "1023            WILD RICE CAKES (ORGANIC) - GLUTEN FREE                 0   \n",
        "1024                                   YAKI NORI SHEETS                 0   \n",
        "1025                  YELLOW CAPSICUM ( CHEMICAL FREE )                 0   \n",
        "1026                    YELLOW CARROT ( CHEMICAL FREE )                 0   \n",
        "1027                                     YELLOW CARROTS                 0   \n",
        "1028                                  YELLOW GRAPEFRUIT                 0   \n",
        "1029                    YELLOW ONIONS ( CHEMICAL FREE )                 0   \n",
        "1030                           YELLOW SPLIT PEAS - 822G                 0   \n",
        "1031                         YING/YANG FACIAL ACNE SOAP                 0   \n",
        "1032                       ZARDA EXTRA VIRGIN OLIVE OIL                 0   \n",
        "1033                                           ZUCCHINI                 0   \n",
        "1034                         ZUCCHINI ( CHEMICAL FREE )                 2   \n",
        "1035                           ZUCCHINI (CHEMICAL FREE)                 0   \n",
        "1036                                   ZUCCHINI FLOWERS                 0   \n",
        "\n",
        "      ACNE FACIAL SOAP  ACQUA PANA WATER 1000ML  ACQUA PANA WATER 500ML  \\\n",
        "0                    0                        0                       0   \n",
        "1                    2                        0                       0   \n",
        "2                    0                        1                       1   \n",
        "3                    0                        1                       1   \n",
        "4                    0                        1                       1   \n",
        "5                    0                        0                       0   \n",
        "6                    0                        0                       0   \n",
        "7                    0                        0                       0   \n",
        "8                    0                        0                       0   \n",
        "9                    1                        0                       0   \n",
        "10                   0                        0                       0   \n",
        "11                   0                        0                       0   \n",
        "12                   2                        2                       2   \n",
        "13                   0                        0                       0   \n",
        "14                   0                        0                       0   \n",
        "15                   0                        0                       0   \n",
        "16                   0                        0                       0   \n",
        "17                   0                        0                       0   \n",
        "18                   0                        0                       0   \n",
        "19                   0                        0                       0   \n",
        "20                   0                        0                       0   \n",
        "21                   0                        0                       0   \n",
        "22                   0                        0                       0   \n",
        "23                   0                        0                       0   \n",
        "24                   0                        0                       0   \n",
        "25                   0                        0                       0   \n",
        "26                   0                        0                       0   \n",
        "27                   0                        0                       0   \n",
        "28                   0                        0                       0   \n",
        "29                   0                        0                       0   \n",
        "...                ...                      ...                     ...   \n",
        "1007                 0                        0                       0   \n",
        "1008                 0                        0                       0   \n",
        "1009                 0                        0                       0   \n",
        "1010                 0                        0                       0   \n",
        "1011                 0                        0                       0   \n",
        "1012                 0                        0                       0   \n",
        "1013                 0                        0                       0   \n",
        "1014                 0                        0                       0   \n",
        "1015                 0                        0                       0   \n",
        "1016                 0                        0                       0   \n",
        "1017                 0                        0                       0   \n",
        "1018                 0                        0                       0   \n",
        "1019                 0                        0                       0   \n",
        "1020                 0                        0                       0   \n",
        "1021                 0                        0                       0   \n",
        "1022                 0                        0                       0   \n",
        "1023                 0                        0                       0   \n",
        "1024                 0                        0                       0   \n",
        "1025                 0                        0                       0   \n",
        "1026                 0                        0                       0   \n",
        "1027                 0                        0                       0   \n",
        "1028                 0                        0                       0   \n",
        "1029                 0                        0                       0   \n",
        "1030                 0                        0                       0   \n",
        "1031                 0                        0                       0   \n",
        "1032                 0                        0                       0   \n",
        "1033                 0                        0                       0   \n",
        "1034                 1                        1                       1   \n",
        "1035                 0                        0                       0   \n",
        "1036                 0                        0                       0   \n",
        "\n",
        "      ACQUA PANA WATER 500ML GLASS  AGAR AGAR FLAKES (HAND HARVESTED) - WILD  \\\n",
        "0                                0                                         0   \n",
        "1                                0                                         0   \n",
        "2                                1                                         0   \n",
        "3                                1                                         0   \n",
        "4                                1                                         0   \n",
        "5                                0                                         1   \n",
        "6                                0                                         0   \n",
        "7                                0                                         0   \n",
        "8                                0                                         0   \n",
        "9                                0                                         0   \n",
        "10                               0                                         0   \n",
        "11                               0                                         0   \n",
        "12                               2                                         2   \n",
        "13                               0                                         0   \n",
        "14                               0                                         0   \n",
        "15                               0                                         0   \n",
        "16                               0                                         0   \n",
        "17                               0                                         0   \n",
        "18                               0                                         0   \n",
        "19                               0                                         0   \n",
        "20                               0                                         0   \n",
        "21                               0                                         0   \n",
        "22                               0                                         0   \n",
        "23                               0                                         0   \n",
        "24                               0                                         1   \n",
        "25                               0                                         0   \n",
        "26                               0                                         0   \n",
        "27                               0                                         0   \n",
        "28                               0                                         0   \n",
        "29                               0                                         0   \n",
        "...                            ...                                       ...   \n",
        "1007                             0                                         0   \n",
        "1008                             0                                         0   \n",
        "1009                             0                                         0   \n",
        "1010                             0                                         0   \n",
        "1011                             0                                         0   \n",
        "1012                             0                                         0   \n",
        "1013                             0                                         0   \n",
        "1014                             0                                         0   \n",
        "1015                             0                                         0   \n",
        "1016                             0                                         0   \n",
        "1017                             0                                         0   \n",
        "1018                             0                                         0   \n",
        "1019                             0                                         0   \n",
        "1020                             0                                         0   \n",
        "1021                             0                                         0   \n",
        "1022                             0                                         0   \n",
        "1023                             0                                         0   \n",
        "1024                             0                                         0   \n",
        "1025                             0                                         0   \n",
        "1026                             0                                         0   \n",
        "1027                             0                                         0   \n",
        "1028                             0                                         0   \n",
        "1029                             0                                         0   \n",
        "1030                             0                                         0   \n",
        "1031                             0                                         0   \n",
        "1032                             0                                         0   \n",
        "1033                             0                                         0   \n",
        "1034                             1                                         1   \n",
        "1035                             0                                         0   \n",
        "1036                             0                                         0   \n",
        "\n",
        "      ALL PURPOSE BAKING FLOUR ( GLUTEN FREE )  \\\n",
        "0                                            0   \n",
        "1                                            0   \n",
        "2                                            0   \n",
        "3                                            0   \n",
        "4                                            0   \n",
        "5                                            0   \n",
        "6                                           23   \n",
        "7                                            0   \n",
        "8                                            1   \n",
        "9                                            0   \n",
        "10                                           0   \n",
        "11                                           0   \n",
        "12                                           2   \n",
        "13                                           0   \n",
        "14                                           0   \n",
        "15                                           0   \n",
        "16                                           0   \n",
        "17                                           0   \n",
        "18                                           0   \n",
        "19                                           2   \n",
        "20                                           0   \n",
        "21                                           0   \n",
        "22                                           0   \n",
        "23                                           0   \n",
        "24                                           0   \n",
        "25                                           0   \n",
        "26                                           0   \n",
        "27                                           0   \n",
        "28                                           0   \n",
        "29                                           0   \n",
        "...                                        ...   \n",
        "1007                                         0   \n",
        "1008                                         0   \n",
        "1009                                         0   \n",
        "1010                                         0   \n",
        "1011                                         0   \n",
        "1012                                         0   \n",
        "1013                                         3   \n",
        "1014                                         0   \n",
        "1015                                         0   \n",
        "1016                                         0   \n",
        "1017                                         0   \n",
        "1018                                         0   \n",
        "1019                                         0   \n",
        "1020                                         0   \n",
        "1021                                         1   \n",
        "1022                                         0   \n",
        "1023                                         0   \n",
        "1024                                         0   \n",
        "1025                                         0   \n",
        "1026                                         0   \n",
        "1027                                         0   \n",
        "1028                                         0   \n",
        "1029                                         0   \n",
        "1030                                         0   \n",
        "1031                                         0   \n",
        "1032                                         0   \n",
        "1033                                         0   \n",
        "1034                                         2   \n",
        "1035                                         1   \n",
        "1036                                         0   \n",
        "\n",
        "      ALL PURPOSE BAKING FLOUR ( GLUTEN FREE ) - 623G  \\\n",
        "0                                                   0   \n",
        "1                                                   0   \n",
        "2                                                   0   \n",
        "3                                                   0   \n",
        "4                                                   0   \n",
        "5                                                   0   \n",
        "6                                                   0   \n",
        "7                                                  22   \n",
        "8                                                   0   \n",
        "9                                                   0   \n",
        "10                                                  0   \n",
        "11                                                  0   \n",
        "12                                                  4   \n",
        "13                                                  0   \n",
        "14                                                  0   \n",
        "15                                                  0   \n",
        "16                                                  0   \n",
        "17                                                  0   \n",
        "18                                                  0   \n",
        "19                                                  0   \n",
        "20                                                  0   \n",
        "21                                                  0   \n",
        "22                                                  0   \n",
        "23                                                  0   \n",
        "24                                                  2   \n",
        "25                                                  0   \n",
        "26                                                  0   \n",
        "27                                                  0   \n",
        "28                                                  0   \n",
        "29                                                  0   \n",
        "...                                               ...   \n",
        "1007                                                0   \n",
        "1008                                                0   \n",
        "1009                                                0   \n",
        "1010                                                0   \n",
        "1011                                                0   \n",
        "1012                                                0   \n",
        "1013                                                0   \n",
        "1014                                                0   \n",
        "1015                                                0   \n",
        "1016                                                0   \n",
        "1017                                                0   \n",
        "1018                                                0   \n",
        "1019                                                0   \n",
        "1020                                                1   \n",
        "1021                                                0   \n",
        "1022                                                1   \n",
        "1023                                                0   \n",
        "1024                                                0   \n",
        "1025                                                0   \n",
        "1026                                                2   \n",
        "1027                                                0   \n",
        "1028                                                0   \n",
        "1029                                                0   \n",
        "1030                                                0   \n",
        "1031                                                0   \n",
        "1032                                                0   \n",
        "1033                                                0   \n",
        "1034                                                1   \n",
        "1035                                                0   \n",
        "1036                                                0   \n",
        "\n",
        "      ALMOND BISCUTIS (GLUTEN FREE) - TRACES OF GLUTEN        ...         \\\n",
        "0                                                    0        ...          \n",
        "1                                                    0        ...          \n",
        "2                                                    0        ...          \n",
        "3                                                    0        ...          \n",
        "4                                                    0        ...          \n",
        "5                                                    0        ...          \n",
        "6                                                    1        ...          \n",
        "7                                                    0        ...          \n",
        "8                                                    6        ...          \n",
        "9                                                    0        ...          \n",
        "10                                                   0        ...          \n",
        "11                                                   0        ...          \n",
        "12                                                   2        ...          \n",
        "13                                                   0        ...          \n",
        "14                                                   0        ...          \n",
        "15                                                   0        ...          \n",
        "16                                                   0        ...          \n",
        "17                                                   0        ...          \n",
        "18                                                   0        ...          \n",
        "19                                                   0        ...          \n",
        "20                                                   0        ...          \n",
        "21                                                   0        ...          \n",
        "22                                                   0        ...          \n",
        "23                                                   0        ...          \n",
        "24                                                   4        ...          \n",
        "25                                                   0        ...          \n",
        "26                                                   0        ...          \n",
        "27                                                   0        ...          \n",
        "28                                                   0        ...          \n",
        "29                                                   0        ...          \n",
        "...                                                ...        ...          \n",
        "1007                                                 0        ...          \n",
        "1008                                                 0        ...          \n",
        "1009                                                 0        ...          \n",
        "1010                                                 0        ...          \n",
        "1011                                                 0        ...          \n",
        "1012                                                 0        ...          \n",
        "1013                                                 0        ...          \n",
        "1014                                                 0        ...          \n",
        "1015                                                 0        ...          \n",
        "1016                                                 0        ...          \n",
        "1017                                                 0        ...          \n",
        "1018                                                 0        ...          \n",
        "1019                                                 0        ...          \n",
        "1020                                                 0        ...          \n",
        "1021                                                 2        ...          \n",
        "1022                                                 0        ...          \n",
        "1023                                                 2        ...          \n",
        "1024                                                 0        ...          \n",
        "1025                                                 0        ...          \n",
        "1026                                                 0        ...          \n",
        "1027                                                 0        ...          \n",
        "1028                                                 0        ...          \n",
        "1029                                                 0        ...          \n",
        "1030                                                 0        ...          \n",
        "1031                                                 0        ...          \n",
        "1032                                                 0        ...          \n",
        "1033                                                 0        ...          \n",
        "1034                                                 3        ...          \n",
        "1035                                                 0        ...          \n",
        "1036                                                 0        ...          \n",
        "\n",
        "      YELLOW CARROTS  YELLOW GRAPEFRUIT  YELLOW ONIONS ( CHEMICAL FREE )  \\\n",
        "0                  0                  0                                0   \n",
        "1                  0                  0                                0   \n",
        "2                  0                  0                                0   \n",
        "3                  0                  0                                0   \n",
        "4                  0                  0                                0   \n",
        "5                  0                  0                                0   \n",
        "6                  0                  0                                0   \n",
        "7                  0                  0                                0   \n",
        "8                  0                  0                                0   \n",
        "9                  0                  0                                0   \n",
        "10                 0                  0                                0   \n",
        "11                 0                  0                                0   \n",
        "12                 2                  2                                2   \n",
        "13                 0                  0                                0   \n",
        "14                 0                  0                                0   \n",
        "15                 0                  0                                0   \n",
        "16                 0                  0                                0   \n",
        "17                15                  0                                0   \n",
        "18                 2                  0                                0   \n",
        "19                 0                  0                                0   \n",
        "20                 1                  0                                0   \n",
        "21                 1                  0                                0   \n",
        "22                 0                  0                                0   \n",
        "23                 0                  0                                0   \n",
        "24                 0                  1                                0   \n",
        "25                 0                  0                                0   \n",
        "26                 2                  0                                0   \n",
        "27                 0                  0                                0   \n",
        "28                 0                  3                                0   \n",
        "29                 0                  0                                0   \n",
        "...              ...                ...                              ...   \n",
        "1007               0                  0                                0   \n",
        "1008               0                  0                                0   \n",
        "1009               0                  0                                0   \n",
        "1010               0                  0                                0   \n",
        "1011               0                  0                                0   \n",
        "1012               0                  0                                0   \n",
        "1013               5                  0                                0   \n",
        "1014               0                  0                                0   \n",
        "1015               0                  0                                0   \n",
        "1016               0                  0                                1   \n",
        "1017               0                  0                                0   \n",
        "1018               0                  2                                0   \n",
        "1019               0                  0                                0   \n",
        "1020               0                  0                                0   \n",
        "1021               0                  0                                0   \n",
        "1022               0                  0                                0   \n",
        "1023               0                  0                                0   \n",
        "1024               0                  0                                0   \n",
        "1025               0                  0                                0   \n",
        "1026               0                  4                                0   \n",
        "1027              35                  0                                0   \n",
        "1028               0                 31                                0   \n",
        "1029               0                  0                                5   \n",
        "1030               0                  0                                0   \n",
        "1031               0                  0                                0   \n",
        "1032               0                  0                                0   \n",
        "1033              14                  0                                0   \n",
        "1034               1                  1                                3   \n",
        "1035               0                  0                                0   \n",
        "1036               0                  0                                0   \n",
        "\n",
        "      YELLOW SPLIT PEAS - 822G  YING/YANG FACIAL ACNE SOAP  \\\n",
        "0                            0                           0   \n",
        "1                            0                           0   \n",
        "2                            0                           0   \n",
        "3                            0                           0   \n",
        "4                            0                           0   \n",
        "5                            0                           0   \n",
        "6                            0                           0   \n",
        "7                            0                           0   \n",
        "8                            0                           0   \n",
        "9                            0                           0   \n",
        "10                           0                           0   \n",
        "11                           0                           0   \n",
        "12                           2                           2   \n",
        "13                           0                           0   \n",
        "14                           0                           0   \n",
        "15                           0                           0   \n",
        "16                           0                           0   \n",
        "17                           0                           0   \n",
        "18                           0                           0   \n",
        "19                           0                           0   \n",
        "20                           0                           0   \n",
        "21                           0                           0   \n",
        "22                           0                           0   \n",
        "23                           0                           0   \n",
        "24                           0                           0   \n",
        "25                           0                           0   \n",
        "26                           0                           0   \n",
        "27                           0                           0   \n",
        "28                           0                           0   \n",
        "29                           0                           0   \n",
        "...                        ...                         ...   \n",
        "1007                         0                           0   \n",
        "1008                         0                           0   \n",
        "1009                         0                           0   \n",
        "1010                         0                           0   \n",
        "1011                         0                           0   \n",
        "1012                         0                           0   \n",
        "1013                         0                           0   \n",
        "1014                         0                           0   \n",
        "1015                         0                           0   \n",
        "1016                         0                           0   \n",
        "1017                         0                           0   \n",
        "1018                         0                           0   \n",
        "1019                         0                           0   \n",
        "1020                         0                           0   \n",
        "1021                         0                           0   \n",
        "1022                         0                           0   \n",
        "1023                         0                           0   \n",
        "1024                         0                           0   \n",
        "1025                         0                           0   \n",
        "1026                         0                           0   \n",
        "1027                         0                           0   \n",
        "1028                         0                           0   \n",
        "1029                         0                           0   \n",
        "1030                         1                           0   \n",
        "1031                         0                           1   \n",
        "1032                         0                           0   \n",
        "1033                         0                           0   \n",
        "1034                         1                           1   \n",
        "1035                         0                           0   \n",
        "1036                         0                           0   \n",
        "\n",
        "      ZARDA EXTRA VIRGIN OLIVE OIL  ZUCCHINI  ZUCCHINI ( CHEMICAL FREE )  \\\n",
        "0                                0         0                           2   \n",
        "1                                0         0                           1   \n",
        "2                                0         0                           1   \n",
        "3                                0         0                           1   \n",
        "4                                0         0                           1   \n",
        "5                                0         0                           1   \n",
        "6                                0         0                           2   \n",
        "7                                0         0                           1   \n",
        "8                                0         0                           3   \n",
        "9                                0         0                           4   \n",
        "10                               0         0                           1   \n",
        "11                               0         0                           2   \n",
        "12                               2         2                          11   \n",
        "13                               0         0                           2   \n",
        "14                               0         0                           1   \n",
        "15                               0         0                           2   \n",
        "16                               0         0                           1   \n",
        "17                               0         9                           1   \n",
        "18                               0         2                           1   \n",
        "19                               0         0                           1   \n",
        "20                               0         1                           1   \n",
        "21                               0         0                           1   \n",
        "22                               0         0                           2   \n",
        "23                               0         0                           1   \n",
        "24                               0         0                          14   \n",
        "25                               0         0                           1   \n",
        "26                               0         4                           1   \n",
        "27                               0         0                           4   \n",
        "28                               0         0                           1   \n",
        "29                               0         0                           1   \n",
        "...                            ...       ...                         ...   \n",
        "1007                             0         0                           4   \n",
        "1008                             0         0                           1   \n",
        "1009                             0         0                           1   \n",
        "1010                             0         0                           1   \n",
        "1011                             0         0                           1   \n",
        "1012                             0         0                           7   \n",
        "1013                             0         4                          28   \n",
        "1014                             0         0                           4   \n",
        "1015                             0         0                           1   \n",
        "1016                             0         0                           2   \n",
        "1017                             0         0                           3   \n",
        "1018                             0         0                           9   \n",
        "1019                             0         0                           1   \n",
        "1020                             0         0                           2   \n",
        "1021                             0         0                           3   \n",
        "1022                             0         0                           3   \n",
        "1023                             0         0                           3   \n",
        "1024                             0         0                           1   \n",
        "1025                             0         0                           1   \n",
        "1026                             0         0                         107   \n",
        "1027                             0        14                           1   \n",
        "1028                             0         0                           1   \n",
        "1029                             0         0                           3   \n",
        "1030                             0         0                           1   \n",
        "1031                             0         0                           1   \n",
        "1032                             1         0                           1   \n",
        "1033                             0        29                           1   \n",
        "1034                             1         1                         276   \n",
        "1035                             0         0                           2   \n",
        "1036                             0         0                           4   \n",
        "\n",
        "      ZUCCHINI (CHEMICAL FREE)  ZUCCHINI FLOWERS  \n",
        "0                            0                 0  \n",
        "1                            0                 0  \n",
        "2                            0                 0  \n",
        "3                            0                 0  \n",
        "4                            0                 0  \n",
        "5                            0                 0  \n",
        "6                            1                 0  \n",
        "7                            0                 0  \n",
        "8                            0                 0  \n",
        "9                            0                 1  \n",
        "10                           0                 0  \n",
        "11                           0                 0  \n",
        "12                           3                 2  \n",
        "13                           0                 0  \n",
        "14                           0                 0  \n",
        "15                           0                 0  \n",
        "16                           0                 0  \n",
        "17                           0                 0  \n",
        "18                           0                 0  \n",
        "19                           0                 0  \n",
        "20                           0                 0  \n",
        "21                           0                 0  \n",
        "22                           0                 0  \n",
        "23                           0                 0  \n",
        "24                           0                 0  \n",
        "25                           0                 0  \n",
        "26                           0                 0  \n",
        "27                           0                 0  \n",
        "28                           0                 0  \n",
        "29                           0                 0  \n",
        "...                        ...               ...  \n",
        "1007                         0                 1  \n",
        "1008                         0                 0  \n",
        "1009                         0                 0  \n",
        "1010                         0                 0  \n",
        "1011                         0                 0  \n",
        "1012                         1                 0  \n",
        "1013                         8                 1  \n",
        "1014                         1                 0  \n",
        "1015                         0                 0  \n",
        "1016                         0                 0  \n",
        "1017                         0                 0  \n",
        "1018                         0                 0  \n",
        "1019                         3                 0  \n",
        "1020                         0                 0  \n",
        "1021                         0                 0  \n",
        "1022                         0                 0  \n",
        "1023                         0                 0  \n",
        "1024                         0                 0  \n",
        "1025                         0                 0  \n",
        "1026                        27                 0  \n",
        "1027                         0                 0  \n",
        "1028                         0                 0  \n",
        "1029                         0                 0  \n",
        "1030                         0                 0  \n",
        "1031                         0                 0  \n",
        "1032                         0                 0  \n",
        "1033                         0                 0  \n",
        "1034                         2                 4  \n",
        "1035                        52                 0  \n",
        "1036                         0                17  \n",
        "\n",
        "[1037 rows x 1038 columns]"
       ]
      }
     ],
     "prompt_number": 91
    },
    {
     "cell_type": "code",
     "collapsed": false,
     "input": [],
     "language": "python",
     "metadata": {},
     "outputs": []
    }
   ],
   "metadata": {}
  }
 ]
}