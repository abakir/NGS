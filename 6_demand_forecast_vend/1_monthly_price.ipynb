{
 "metadata": {
  "name": "",
  "signature": "sha256:f1cd72afed1a5b88296f2651ef9c8e5f459aa27d7b46aeed6047f06b6554e875"
 },
 "nbformat": 3,
 "nbformat_minor": 0,
 "worksheets": [
  {
   "cells": [
    {
     "cell_type": "code",
     "collapsed": false,
     "input": [
      "from pandas import read_csv\n",
      "import pandas as pd\n",
      "import re\n",
      "\n",
      "location = 'C:\\Users\\saisree849\\Documents\\GitHub\\NGS_Project\\\\6_demand_forecast_vend\\\\vend-total_revenue.csv'\n",
      "df = pd.read_csv(location)"
     ],
     "language": "python",
     "metadata": {},
     "outputs": [],
     "prompt_number": 168
    },
    {
     "cell_type": "code",
     "collapsed": false,
     "input": [
      "df=df[0:1706]"
     ],
     "language": "python",
     "metadata": {},
     "outputs": [],
     "prompt_number": 169
    },
    {
     "cell_type": "code",
     "collapsed": false,
     "input": [
      "df = df[df.Revenue != 0]\n",
      "df=df.sort('Product')\n",
      "df= df.reset_index().drop('index',1)"
     ],
     "language": "python",
     "metadata": {},
     "outputs": [],
     "prompt_number": 174
    },
    {
     "cell_type": "code",
     "collapsed": false,
     "input": [
      "df2 = df[['Product','Aug 2012','Sep 2012','Oct 2012','Nov 2012','Dec 2012','Jan 2013','Feb 2013','Mar 2013','Apr 2013','May 2013','Jun 2013','Jul 2013','Aug 2013','Sep 2013','Oct 2013','Nov 2013','Dec 2013','Jan 2014','Feb 2014','Mar 2014','Apr 2014','May 2014','Jun 2014','Jul 2014','Aug 2014','Sep 2014','Oct 2014','Nov 2014','Dec 2014','Jan 2015','Feb 2015','Mar 2015','Apr 2015','May 2015','Jun 2015','Jul 2015','Revenue']]"
     ],
     "language": "python",
     "metadata": {},
     "outputs": [],
     "prompt_number": 177
    },
    {
     "cell_type": "code",
     "collapsed": false,
     "input": [
      "df2 = df2[['Product', 'Revenue']]"
     ],
     "language": "python",
     "metadata": {},
     "outputs": [],
     "prompt_number": 179
    },
    {
     "cell_type": "code",
     "collapsed": false,
     "input": [
      "df3=df2.sort('Revenue',ascending = False)\n",
      "df3= df3.reset_index().drop('index',1)"
     ],
     "language": "python",
     "metadata": {},
     "outputs": [],
     "prompt_number": 183
    },
    {
     "cell_type": "code",
     "collapsed": false,
     "input": [
      "total=0\n",
      "for i in range(0, max(df3.index)+1):\n",
      "    total+=df3.loc[i,'Revenue']"
     ],
     "language": "python",
     "metadata": {},
     "outputs": [],
     "prompt_number": 185
    },
    {
     "cell_type": "code",
     "collapsed": false,
     "input": [
      "total*0.8"
     ],
     "language": "python",
     "metadata": {},
     "outputs": [
      {
       "metadata": {},
       "output_type": "pyout",
       "prompt_number": 187,
       "text": [
        "1326072.7201840002"
       ]
      }
     ],
     "prompt_number": 187
    },
    {
     "cell_type": "code",
     "collapsed": false,
     "input": [
      "temp=0\n",
      "for i in range(0, max(df3.index)+1):\n",
      "    temp+=df3.loc[i,'Revenue']\n",
      "    if (temp>=total*0.8):\n",
      "        df4=df3[0:i]\n",
      "        break"
     ],
     "language": "python",
     "metadata": {},
     "outputs": [],
     "prompt_number": 188
    },
    {
     "cell_type": "code",
     "collapsed": false,
     "input": [
      "df4.to_csv('C:\\Users\\saisree849\\Documents\\GitHub\\NGS_Project\\\\6_demand_forecast_vend\\\\notop.csv')"
     ],
     "language": "python",
     "metadata": {},
     "outputs": [],
     "prompt_number": 196
    },
    {
     "cell_type": "code",
     "collapsed": false,
     "input": [
      "for i in range(0, max(df2.index)+1):\n",
      "    df2.loc[i, 'Product'] = df2.loc[i, 'Product'].upper()\n",
      "    \n",
      "for i in range(0,max(df2.index)+1):\n",
      "    df2.loc[i, 'Product'] =df2.loc[i, 'Product'].replace(\",\",\"\")\n",
      "    \n",
      "df2=df2.sort('Product')\n",
      "df2= df2.reset_index().drop('index',1)\n",
      "\n",
      "for i in range(0, max(df2.index)+1):\n",
      "    if re.search('ALL PURPOSE BAKING FLOUR', df2.loc[i,'Product']):\n",
      "        df2.loc[i, 'Product'] = 'ALL PURPOSE BAKING FLOUR (GLUTEN FREE)'\n",
      "    elif re.search('AMERICAN GREEN APPLES', df2.loc[i,'Product']):\n",
      "        df2.loc[i,'Product'] = 'AMERICAN GREEN APPLE'\n",
      "    elif re.search('AMERICAN RED APPLES', df2.loc[i,'Product']):\n",
      "        df2.loc[i,'Product'] = 'AMERICAN RED APPLE'\n",
      "    elif re.search('ARUGULA \\( CHEMICAL FREE \\)', df2.loc[i, 'Product']):\n",
      "        df2.loc[i, 'Product'] = 'ARUGULA(CHEMICAL FREE)'\n",
      "    elif re.search('AUBERGENE \\(ROUMY\\) - ORGANIC', df2.loc[i, 'Product']):\n",
      "        df2.loc[i, 'Product'] = 'AUBERGENE (ROUMY) - CHEMICAL FREE'\n",
      "    elif re.search('AUBERGINE', df2.loc[i, 'Product']):\n",
      "        df2.loc[i, 'Product'] = 'AUBERGENE'\n",
      "    elif re.search('AVOCADOES \\( IMPORTED \\)', df2.loc[i, 'Product']):\n",
      "        df2.loc[i, 'Product'] = 'AVOCADOS (IMPORTED)'\n",
      "    elif re.search('BABY CARROTS - CHEMICAL FREE', df2.loc[i, 'Product']):\n",
      "        df2.loc[i, 'Product'] = 'BABY CARROTS (CHEMICAL FREE)'\n",
      "    elif re.search('BABY POTATOES \\( CHEMICAL FREE \\)', df2.loc[i, 'Product']):\n",
      "        df2.loc[i, 'Product'] = 'BABY POTATOES (CHEMICAL FREE)'\n",
      "    elif re.search('BABY SPINACH\\(CHEMICAL FREE\\)', df2.loc[i, 'Product']):\n",
      "        df2.loc[i, 'Product'] = 'BABY SPINACH (CHEMICAL FREE)'\n",
      "    elif re.search('BALADY EGGS \\( CHEMICAL FREE \\)', df2.loc[i, 'Product']):\n",
      "        df2.loc[i, 'Product'] = 'BALADY EGGS (CHEMICAL FREE)'\n",
      "    elif re.search('BALADY EGGS \\(ORGANIC\\)', df2.loc[i, 'Product']):\n",
      "        df2.loc[i, 'Product'] = 'BALADY EGGS (CHEMICAL FREE)'\n",
      "    elif re.search('BANANAS \\( IMPORTED \\)', df2.loc[i, 'Product']):\n",
      "        df2.loc[i, 'Product'] = 'BANANAS (IMPORTED)'\n",
      "    elif re.search('BEETROOT', df2.loc[i, 'Product']):\n",
      "        df2.loc[i, 'Product'] = 'BEET ROOT'\n",
      "    elif re.search('BEETROOT\\(CHEMICAL FREE\\)', df2.loc[i, 'Product']):\n",
      "        df2.loc[i, 'Product'] = 'BEETROOT (CHEMICAL FREE)'\n",
      "    elif re.search('BOLTI FILLET\\(CHEMICAL FREE\\)', df2.loc[i, 'Product']):\n",
      "        df2.loc[i, 'Product'] = 'BOLTI FILLET (CHEMICAL FREE)'\n",
      "    elif re.search('BROCCOLI\\(CHEMICAL FREE\\)', df2.loc[i, 'Product']):\n",
      "        df2.loc[i, 'Product'] = 'BROCCOLI (CHEMICAL FREE)'\n",
      "    elif re.search('CARROT \\( CHEMICAL FREE \\)', df2.loc[i, 'Product']):\n",
      "        df2.loc[i, 'Product'] = 'CARROT  (ORGANIC)'\n",
      "    elif re.search('CHERRY TOMATOES \\( CHEMICAL FREE \\)', df2.loc[i, 'Product']):\n",
      "        df2.loc[i, 'Product'] = 'CHERRY TOMATOES (CHEMICAL FREE)'\n",
      "    elif re.search('CHERRY TOMATO \\(CHEMICAL FREE\\)', df2.loc[i, 'Product']):\n",
      "        df2.loc[i, 'Product'] = 'CHERRY TOMATOES (CHEMICAL FREE)'\n",
      "    elif re.search('CHICKEN BREASTS', df2.loc[i, 'Product']):\n",
      "        df2.loc[i, 'Product'] = 'CHICKEN BREAST'\n",
      "    elif re.search('CHICKEN CUTLETS \\(SHISHTAWOOK-CHEMICAL FREE\\)', df2.loc[i, 'Product']):\n",
      "        df2.loc[i, 'Product'] = 'CHICKEN CUTLETS - SHISHTAWOOK (CHEMICAL FREE)'\n",
      "    elif re.search('COLORED BELL PEPPER \\( CHEMICAL FREE \\)', df2.loc[i, 'Product']):\n",
      "        df2.loc[i, 'Product'] = 'COLORED BELL PEPPER (CHEMICAL FREE)'\n",
      "    elif re.search('CORIANDER \\( CHEMICAL FREE \\)', df2.loc[i, 'Product']):\n",
      "        df2.loc[i, 'Product'] = 'CORIANDER (CHEMICAL FREE)'\n",
      "    elif re.search('CORIANDER \\( CHMEICAL FREE \\)', df2.loc[i, 'Product']):\n",
      "        df2.loc[i, 'Product'] = 'CORIANDER (CHEMICAL FREE)'\n",
      "    elif re.search('CORIANDER\\(CHEMICAL FREE\\)', df2.loc[i, 'Product']):\n",
      "        df2.loc[i, 'Product'] = 'CORIANDER (CHEMICAL FREE)'\n",
      "    elif re.search('CUCUMBER \\( CHEMICAL FREE \\)', df2.loc[i, 'Product']):\n",
      "        df2.loc[i, 'Product'] = 'CUCUMBER (CHEMICAL FREE)'\n",
      "    elif re.search('CUCUMBER \\(ORGANIC\\)', df2.loc[i, 'Product']):\n",
      "        df2.loc[i, 'Product'] = 'CUCUMBER (CHEMICAL FREE)'\n",
      "    elif re.search('CUCUMBER - CHEMICAL FREE', df2.loc[i, 'Product']):\n",
      "        df2.loc[i, 'Product'] = 'CUCUMBER (CHEMICAL FREE)'\n",
      "    elif re.search('DILL \\( CHEMICAL FREE \\)', df2.loc[i, 'Product']):\n",
      "        df2.loc[i, 'Product'] = 'DILL (CHEMICAL FREE)'\n",
      "    elif re.search('DRIED CRANBERRY', df2.loc[i, 'Product']):\n",
      "        df2.loc[i, 'Product'] = 'DRIED CRANBERRIES'\n",
      "    elif re.search('DRIED DATES - KHEIR MISR', df2.loc[i, 'Product']):\n",
      "        df2.loc[i, 'Product'] = 'DRIED DATES (KHEIR MISR)'\n",
      "    elif re.search('DRIED LEMONGRASS \\(CHEMICAL FREE \\)', df2.loc[i, 'Product']):\n",
      "        df2.loc[i, 'Product'] = 'DRIED LEMONGRASS (CHEMICAL FREE)'\n",
      "    elif re.search('DRIED NECTARINE  \\( CHEMICAL FREE \\)', df2.loc[i, 'Product']):\n",
      "        df2.loc[i, 'Product'] = 'DRIED NECTARINE (CHEMICAL FREE)'\n",
      "    elif re.search('DRIED PEACH \\( CHEMICAL FREE \\)', df2.loc[i, 'Product']):\n",
      "        df2.loc[i, 'Product'] = 'DRIED PEACH (CHEMICAL FREE)'\n",
      "    elif re.search('DRIED PEAR \\( CHEMICAL FREE \\)', df2.loc[i, 'Product']):\n",
      "        df2.loc[i, 'Product'] = 'DRIED PEARS (CHEMICAL FREE )'\n",
      "    elif re.search('DUCK\\(CHEMICAL FREE\\)', df2.loc[i, 'Product']):\n",
      "        df2.loc[i, 'Product'] = 'DUCK (CHEMICAL FREE)'\n",
      "    elif re.search('FENNEL \\( CHEMICAL FREE \\)', df2.loc[i, 'Product']):\n",
      "        df2.loc[i, 'Product'] = 'FENNEL (CHEMICAL FREE)'\n",
      "    elif re.search('FRENCH PARSELY \\(CHEMICAL FREE\\)', df2.loc[i, 'Product']):\n",
      "        df2.loc[i, 'Product'] = 'FRENCH PARSLEY (CHEMICAL FREE)'\n",
      "    elif re.search('FRESH GINGER \\( IMPORTED \\)', df2.loc[i, 'Product']):\n",
      "        df2.loc[i, 'Product'] = 'FRESH GINGER (IMPORTED)'\n",
      "    elif re.search('GARLIC\\(CHEMICAL FREE\\)', df2.loc[i, 'Product']):\n",
      "        df2.loc[i, 'Product'] = 'GARLIC (CHEMICAL FREE)'\n",
      "    elif re.search('GARLIC \\( CHEMICAL FREE \\)', df2.loc[i, 'Product']):\n",
      "        df2.loc[i, 'Product'] = 'GARLIC (CHEMICAL FREE)'\n",
      "    elif re.search('GRAPEFRUIT', df2.loc[i, 'Product']):\n",
      "        df2.loc[i, 'Product'] = 'GRAPE FRUIT'\n",
      "    elif re.search('GREEN APPLES \\( FRENCH \\) -IMPORTED', df2.loc[i, 'Product']):\n",
      "        df2.loc[i, 'Product'] = 'GREEN APPLES (FRENCH) - IMPORTED'\n",
      "    elif re.search('GREEN BEANS \\( CHEMICAL FREE \\)', df2.loc[i, 'Product']):\n",
      "        df2.loc[i, 'Product'] = 'GREEN BEANS (CHEMICAL FREE)'\n",
      "    elif re.search('GREEN ICEBERG LETTUCE', df2.loc[i, 'Product']):\n",
      "        df2.loc[i, 'Product'] = 'GREEN ICE BERG LETTUCE'\n",
      "    elif re.search('GREEN ONION \\( CHEMICAL FREE \\)', df2.loc[i, 'Product']):\n",
      "        df2.loc[i, 'Product'] = 'GREEN ONIONS (CHEMICAL FREE)'\n",
      "    elif re.search('GREEN ONIONS \\( CHEMICAL FREE \\)', df2.loc[i, 'Product']):\n",
      "        df2.loc[i, 'Product'] = 'GREEN ONIONS (CHEMICAL FREE)'\n",
      "    elif re.search('ICE BERG LETTUCE - CHEMICAL FREE', df2.loc[i, 'Product']):\n",
      "        df2.loc[i, 'Product'] = 'ICE BERG LETTUCE (CHEMICAL FREE)'\n",
      "    elif re.search('ICEBERG LETTUCE\\(CHEMICAL FREE\\)', df2.loc[i, 'Product']):\n",
      "        df2.loc[i, 'Product'] = 'ICE BERG LETTUCE (CHEMICAL FREE)'\n",
      "    elif re.search('LEMON GRASS\\(CHEMICAL FREE\\)', df2.loc[i, 'Product']):\n",
      "        df2.loc[i, 'Product'] = 'LEMON GRASS (CHEMICAL FREE)'\n",
      "    elif re.search('LIME \\( CHEMICAL FREE \\)', df2.loc[i, 'Product']):\n",
      "        df2.loc[i, 'Product'] = 'LIME(CHEMICAL FREE)'\n",
      "    elif re.search('LOLLA ROSSA LETTUCE\\(CHEMICAL FREE\\)', df2.loc[i, 'Product']):\n",
      "        df2.loc[i, 'Product'] = 'LOLLA ROSSA LETTUCE (CHEMICAL FREE)'\n",
      "    elif re.search('MOLOKHEYA \\(ORGANIC\\)', df2.loc[i, 'Product']):\n",
      "        df2.loc[i, 'Product'] = 'MOLOKHEYA (CHEMICAL FREE)'\n",
      "    elif re.search('MOLOKHYIA \\(CHEMICAL FREE\\)', df2.loc[i, 'Product']):\n",
      "        df2.loc[i, 'Product'] = 'MOLOKHEYA (CHEMICAL FREE)'\n",
      "    elif re.search('MOLOKHYIA\\(CHEMICAL FREE\\)', df2.loc[i, 'Product']):\n",
      "        df2.loc[i, 'Product'] = 'MOLOKHEYA (CHEMICAL FREE)'\n",
      "    elif re.search('OAT MILK \\( ORIGINAL \\)', df2.loc[i, 'Product']):\n",
      "        df2.loc[i, 'Product'] = 'OAT MILK ( ORGANIC )'\n",
      "    elif re.search('PARSELY\\(CHEMICAL FREE\\)', df2.loc[i, 'Product']):\n",
      "        df2.loc[i, 'Product'] = 'PARSLEY (CHEMICAL FREE)'\n",
      "    elif re.search('PARSLEY \\( CHEMICAL FREE \\)', df2.loc[i, 'Product']):\n",
      "        df2.loc[i, 'Product'] = 'PARSLEY (CHEMICAL FREE)'\n",
      "    elif re.search('PEARS ( AMERICAN ) - IMPORTED', df2.loc[i, 'Product']):\n",
      "        df2.loc[i, 'Product'] = 'PEARS (AMERICAN) - IMPORTED'\n",
      "    elif re.search('PEPPERMINT', df2.loc[i, 'Product']):\n",
      "        df2.loc[i, 'Product'] = 'PEPPER MINT'\n",
      "    elif re.search('PINK GRAPEFRUIT', df2.loc[i, 'Product']):\n",
      "        df2.loc[i, 'Product'] = 'PINK GRAPE FRUIT'\n",
      "    elif re.search('PINK GRAPFRUIT', df2.loc[i, 'Product']):\n",
      "        df2.loc[i, 'Product'] = 'PINK GRAPE FRUIT'\n",
      "    elif re.search('PINKGRAPFRUITS', df2.loc[i, 'Product']):\n",
      "        df2.loc[i, 'Product'] = 'PINK GRAPE FRUIT'\n",
      "    elif re.search('POTATOES\\( CHEMICAL FREE\\)', df2.loc[i, 'Product']):\n",
      "        df2.loc[i, 'Product'] = 'POTATOES (CHEMICAL FREE)'\n",
      "    elif re.search('POTATOES \\( CHEMICAL FREE \\)', df2.loc[i, 'Product']):\n",
      "        df2.loc[i, 'Product'] = 'POTATOES (CHEMICAL FREE)'\n",
      "    elif re.search('QUINOA \\(CHEMICAL FREE\\) - LOCAL', df2.loc[i, 'Product']):\n",
      "        df2.loc[i, 'Product'] = 'QUINOA (CHEMICAL FREE) - EGYPTIAN'\n",
      "    elif re.search('RAW ALMONDS - SHELLED', df2.loc[i, 'Product']):\n",
      "        df2.loc[i, 'Product'] = 'RAW ALMONDS SHELLED'\n",
      "    elif re.search('RAW HONEY \\(ORGANIC\\)', df2.loc[i, 'Product']):\n",
      "        df2.loc[i, 'Product'] = 'RAW HONEY (NATURAL)'\n",
      "    elif re.search('RAW SUNFLOWER SEED \\( SHELLED \\)', df2.loc[i, 'Product']):\n",
      "        df2.loc[i, 'Product'] = 'RAW SUNFLOWER SEED SHELLED'\n",
      "    elif re.search('RED APPLES \\( AMERICAN \\)', df2.loc[i, 'Product']):\n",
      "        df2.loc[i, 'Product'] = 'RED APPLES (AMERICAN)'\n",
      "    elif re.search('RED CABBAGE\\(CHEMICAL FREE\\)', df2.loc[i, 'Product']):\n",
      "        df2.loc[i, 'Product'] = 'RED CABBAGE (CHEMICAL FREE)'\n",
      "    elif re.search('RED CHILI PEPPER \\( CHEMICAL FREE \\)', df2.loc[i, 'Product']):\n",
      "        df2.loc[i, 'Product'] = 'RED CHILLI PEPPER ( CHEMICAL FREE )'\n",
      "    elif re.search('RED GRAPES \\( IMPORTED \\)', df2.loc[i, 'Product']):\n",
      "        df2.loc[i, 'Product'] = 'RED GRAPES (IMPORTED)'\n",
      "    elif re.search('RED GRAPES - SEEDLESS\\(ORGANIC\\)', df2.loc[i, 'Product']):\n",
      "        df2.loc[i, 'Product'] = 'RED GRAPES - SEEDLESS(CHEMICAL FREE)'\n",
      "    elif re.search('RED ONION \\( CHEMICAL FREE \\)', df2.loc[i, 'Product']):\n",
      "        df2.loc[i, 'Product'] = 'RED ONION (CHEMICAL FREE)'\n",
      "    elif re.search('RED ONIONS \\( CHEMICAL FREE \\)', df2.loc[i, 'Product']):\n",
      "        df2.loc[i, 'Product'] = 'RED ONION (CHEMICAL FREE)'\n",
      "    elif re.search('RED ONION', df2.loc[i, 'Product']):\n",
      "        df2.loc[i, 'Product'] = 'RED ONIONS'\n",
      "    elif re.search('RED PLUM', df2.loc[i, 'Product']):\n",
      "        df2.loc[i, 'Product'] = 'RED PLUMS'\n",
      "    elif re.search('RED PLUMS \\( IMPORTED \\)', df2.loc[i, 'Product']):\n",
      "        df2.loc[i, 'Product'] = 'RED PLUMS (IMPORTED)'\n",
      "    elif re.search('RED RADISH\\(CHEMICAL FREE\\)', df2.loc[i, 'Product']):\n",
      "        df2.loc[i, 'Product'] = 'RED RADISH (CHEMICAL FREE)'\n",
      "    elif re.search('RED SWISS CHARD\\(CHEMICAL FREE\\)', df2.loc[i, 'Product']):\n",
      "        df2.loc[i, 'Product'] = 'RED SWISS CHARD (CHEMICAL FREE)'\n",
      "    elif re.search('ROSAMARRY\\(CHEMICAL FREE\\)', df2.loc[i, 'Product']):\n",
      "        df2.loc[i, 'Product'] = 'ROSEMERY (CHEMICAL FREE)'\n",
      "    elif re.search('ROSEMARY\\(CHEMICAL FREE\\)', df2.loc[i, 'Product']):\n",
      "        df2.loc[i, 'Product'] = 'ROSEMERY (CHEMICAL FREE)'\n",
      "    elif re.search('SHORT GRAIN BROWN RICE \\( ECO FARMED \\) - ORGANIC', df2.loc[i, 'Product']):\n",
      "        df2.loc[i, 'Product'] = 'SHORT GRAIN BROWN RICE ( ORGANIC ) - ECO FARMED'\n",
      "    elif re.search('SMOKED SALMON \\( FROZEN \\)', df2.loc[i, 'Product']):\n",
      "        df2.loc[i, 'Product'] = 'SMOKED SALMON (FROZEN)'\n",
      "    elif re.search('SOYA MILK \\( ORIGINAL \\)', df2.loc[i, 'Product']):\n",
      "        df2.loc[i, 'Product'] = 'SOYA MILK ( ORGANIC )'\n",
      "    elif re.search('SPINACH\\(CHEMICAL FREE\\)', df2.loc[i, 'Product']):\n",
      "        df2.loc[i, 'Product'] = 'SPINACH ( CHEMICAL FREE )'\n",
      "    elif re.search('SPINASH', df2.loc[i, 'Product']):\n",
      "        df2.loc[i, 'Product'] = 'SPINACH'\n",
      "    elif re.search('SPRING ONION \\( CHEMICAL FREE \\)', df2.loc[i, 'Product']):\n",
      "        df2.loc[i, 'Product'] = 'SPRING ONION (CHEMICAL FREE)'\n",
      "    elif re.search('STRAWBERRY', df2.loc[i, 'Product']):\n",
      "        df2.loc[i, 'Product'] = 'STRAWBERRIES'\n",
      "    elif re.search('SWEET BASIL\\(CHEMICAL FREE\\)', df2.loc[i, 'Product']):\n",
      "        df2.loc[i, 'Product'] = 'SWEET BASIL (CHEMICAL FREE)'\n",
      "    elif re.search('SWEET POTATOES\\(CHEMICAL FREE\\)', df2.loc[i, 'Product']):\n",
      "        df2.loc[i, 'Product'] = 'SWEET POTATOES (CHEMICAL FREE)'\n",
      "    elif re.search('SWEET POTATOES \\( CHEMICAL FREE \\)', df2.loc[i, 'Product']):\n",
      "        df2.loc[i, 'Product'] = 'SWEET POTATOES (CHEMICAL FREE)'\n",
      "    elif re.search('SWEET POTATO \\(ORGANIC\\)', df2.loc[i, 'Product']):\n",
      "        df2.loc[i, 'Product'] = 'SWEET POTATOES (CHEMICAL FREE)'\n",
      "    elif re.search('SWEET POTATO \\( CHEMICAL FREE \\)', df2.loc[i, 'Product']):\n",
      "        df2.loc[i, 'Product'] = 'SWEET POTATOES (CHEMICAL FREE)'\n",
      "    elif re.search('SWEET POTATO', df2.loc[i, 'Product']):\n",
      "        df2.loc[i, 'Product'] = 'SWEET POTATOES'\n",
      "    elif re.search('THYME \\( CHEMICAL FREE \\)', df2.loc[i, 'Product']):\n",
      "        df2.loc[i, 'Product'] = 'THYME (CHEMICAL FREE)'\n",
      "    elif re.search('TOMATO \\( CHEMICAL FREE \\)', df2.loc[i, 'Product']):\n",
      "        df2.loc[i, 'Product'] = 'TOMATO (CHEMICAL FREE)'\n",
      "    elif re.search('TOMATO - CHEMICAL FREE', df2.loc[i, 'Product']):\n",
      "        df2.loc[i, 'Product'] = 'TOMATO (CHEMICAL FREE)'\n",
      "    elif re.search('UNSWEETENED SOY MILK \\( ORIGINAL \\)', df2.loc[i, 'Product']):\n",
      "        df2.loc[i, 'Product'] = 'UNSWEETENED SOY MILK ( ORGANIC )'\n",
      "    elif re.search('VEAL ESCALOPE \\(CHEMICAL FREE\\) - FROZENFROZEN', df2.loc[i, 'Product']):\n",
      "        df2.loc[i, 'Product'] = 'VEAL ESCALOPE (CHEMICAL FREE) FROZEN'\n",
      "    elif re.search('VEAL LIVER \\(CHEMICAL FREE\\) - FROZEN', df2.loc[i, 'Product']):\n",
      "        df2.loc[i, 'Product'] = 'VEAL LIVER (CHEMICAL FREE) FROZEN'\n",
      "    elif re.search('WHITE GRAPES \\(ORGANIC\\)', df2.loc[i, 'Product']):\n",
      "        df2.loc[i, 'Product'] = 'WHITE GRAPES ( CHEMICAL FREE )'\n",
      "    elif re.search('ZUCCHINI \\( CHEMICAL FREE \\)', df2.loc[i, 'Product']):\n",
      "        df2.loc[i, 'Product'] = 'ZUCCHINI (CHEMICAL FREE)'\n",
      "    elif re.search('ZUCCHINI \\(ORGANIC\\)', df2.loc[i, 'Product']):\n",
      "        df2.loc[i, 'Product'] = 'ZUCCHINI (CHEMICAL FREE)'"
     ],
     "language": "python",
     "metadata": {},
     "outputs": [],
     "prompt_number": 197
    },
    {
     "cell_type": "code",
     "collapsed": false,
     "input": [
      "df2"
     ],
     "language": "python",
     "metadata": {},
     "outputs": [
      {
       "html": [
        "<div style=\"max-height:1000px;max-width:1500px;overflow:auto;\">\n",
        "<table border=\"1\" class=\"dataframe\">\n",
        "  <thead>\n",
        "    <tr style=\"text-align: right;\">\n",
        "      <th></th>\n",
        "      <th>Product</th>\n",
        "      <th>Revenue</th>\n",
        "    </tr>\n",
        "  </thead>\n",
        "  <tbody>\n",
        "    <tr>\n",
        "      <th>0   </th>\n",
        "      <td>                             7 GRAIN MILK / 946ML</td>\n",
        "      <td> 1492.90</td>\n",
        "    </tr>\n",
        "    <tr>\n",
        "      <th>1   </th>\n",
        "      <td>                                 ACAI BERRY JUICE</td>\n",
        "      <td>  308.00</td>\n",
        "    </tr>\n",
        "    <tr>\n",
        "      <th>2   </th>\n",
        "      <td>                                 ACNE FACIAL SOAP</td>\n",
        "      <td>  110.00</td>\n",
        "    </tr>\n",
        "    <tr>\n",
        "      <th>3   </th>\n",
        "      <td>                          ACQUA PANA WATER 1000ML</td>\n",
        "      <td>   10.00</td>\n",
        "    </tr>\n",
        "    <tr>\n",
        "      <th>4   </th>\n",
        "      <td>                           ACQUA PANA WATER 500ML</td>\n",
        "      <td>    6.50</td>\n",
        "    </tr>\n",
        "    <tr>\n",
        "      <th>5   </th>\n",
        "      <td>                     ACQUA PANA WATER 500ML GLASS</td>\n",
        "      <td>    9.00</td>\n",
        "    </tr>\n",
        "    <tr>\n",
        "      <th>6   </th>\n",
        "      <td>         AGAR AGAR FLAKES (HAND HARVESTED) - WILD</td>\n",
        "      <td>  258.00</td>\n",
        "    </tr>\n",
        "    <tr>\n",
        "      <th>7   </th>\n",
        "      <td>                  AGAVE SYRUP ( ORGANIC ) / 473ML</td>\n",
        "      <td>  647.10</td>\n",
        "    </tr>\n",
        "    <tr>\n",
        "      <th>8   </th>\n",
        "      <td>           ALL PURPOSE BAKING FLOUR (GLUTEN FREE)</td>\n",
        "      <td>  300.00</td>\n",
        "    </tr>\n",
        "    <tr>\n",
        "      <th>9   </th>\n",
        "      <td>           ALL PURPOSE BAKING FLOUR (GLUTEN FREE)</td>\n",
        "      <td> 4648.48</td>\n",
        "    </tr>\n",
        "    <tr>\n",
        "      <th>10  </th>\n",
        "      <td>           ALL PURPOSE BAKING FLOUR (GLUTEN FREE)</td>\n",
        "      <td>  516.00</td>\n",
        "    </tr>\n",
        "    <tr>\n",
        "      <th>11  </th>\n",
        "      <td>           ALL PURPOSE BAKING FLOUR (GLUTEN FREE)</td>\n",
        "      <td>   43.75</td>\n",
        "    </tr>\n",
        "    <tr>\n",
        "      <th>12  </th>\n",
        "      <td>           ALL PURPOSE BAKING FLOUR (GLUTEN FREE)</td>\n",
        "      <td>  696.00</td>\n",
        "    </tr>\n",
        "    <tr>\n",
        "      <th>13  </th>\n",
        "      <td> ALMOND BISCUTIS (GLUTEN FREE) - TRACES OF GLUTEN</td>\n",
        "      <td>   54.00</td>\n",
        "    </tr>\n",
        "    <tr>\n",
        "      <th>14  </th>\n",
        "      <td>                                    ALMOND BUTTER</td>\n",
        "      <td>   65.00</td>\n",
        "    </tr>\n",
        "    <tr>\n",
        "      <th>15  </th>\n",
        "      <td>                        ALMOND BUTTER (HOME-MADE)</td>\n",
        "      <td> 4380.00</td>\n",
        "    </tr>\n",
        "    <tr>\n",
        "      <th>16  </th>\n",
        "      <td>                                ALMOND MEAL FLOUR</td>\n",
        "      <td> 1665.60</td>\n",
        "    </tr>\n",
        "    <tr>\n",
        "      <th>17  </th>\n",
        "      <td>                          ALMOND MILK ( ORGANIC )</td>\n",
        "      <td>  211.50</td>\n",
        "    </tr>\n",
        "    <tr>\n",
        "      <th>18  </th>\n",
        "      <td>                  ALMOND MILK ( ORGANIC ) / 946ML</td>\n",
        "      <td> 9418.84</td>\n",
        "    </tr>\n",
        "    <tr>\n",
        "      <th>19  </th>\n",
        "      <td>                    ALMOND MILK ( ORGANIC ) 946ML</td>\n",
        "      <td>  102.00</td>\n",
        "    </tr>\n",
        "    <tr>\n",
        "      <th>20  </th>\n",
        "      <td>                         ALMOND MILK ( ORIGINAL )</td>\n",
        "      <td> 1128.40</td>\n",
        "    </tr>\n",
        "    <tr>\n",
        "      <th>21  </th>\n",
        "      <td>                        ALMOND MILK (UNSWEETENED)</td>\n",
        "      <td>  608.00</td>\n",
        "    </tr>\n",
        "    <tr>\n",
        "      <th>22  </th>\n",
        "      <td>                  ALMOND MILK WITH DARK CHOCOLATE</td>\n",
        "      <td>   57.00</td>\n",
        "    </tr>\n",
        "    <tr>\n",
        "      <th>23  </th>\n",
        "      <td>                         ALMOND MILK WITH VANILLA</td>\n",
        "      <td>  114.00</td>\n",
        "    </tr>\n",
        "    <tr>\n",
        "      <th>24  </th>\n",
        "      <td>                       ALMOND ORIGINAL (ORIGINAL)</td>\n",
        "      <td>  512.00</td>\n",
        "    </tr>\n",
        "    <tr>\n",
        "      <th>25  </th>\n",
        "      <td>                     ALMOND'S AND OATS BODY SCRUB</td>\n",
        "      <td>   70.00</td>\n",
        "    </tr>\n",
        "    <tr>\n",
        "      <th>26  </th>\n",
        "      <td>       ALMONDS SHELL ON - ROASTED &amp; SALTED / 250G</td>\n",
        "      <td>  192.87</td>\n",
        "    </tr>\n",
        "    <tr>\n",
        "      <th>27  </th>\n",
        "      <td>       ALMONDS SHELL ON - ROASTED &amp; SALTED / 250G</td>\n",
        "      <td>  108.93</td>\n",
        "    </tr>\n",
        "    <tr>\n",
        "      <th>28  </th>\n",
        "      <td>         ALPHABET PASTA ( GLUTEN FREE ) - ITALIAN</td>\n",
        "      <td>  262.50</td>\n",
        "    </tr>\n",
        "    <tr>\n",
        "      <th>29  </th>\n",
        "      <td>                                         AMARANTH</td>\n",
        "      <td>  450.80</td>\n",
        "    </tr>\n",
        "    <tr>\n",
        "      <th>...</th>\n",
        "      <td>...</td>\n",
        "      <td>...</td>\n",
        "    </tr>\n",
        "    <tr>\n",
        "      <th>1660</th>\n",
        "      <td>               WILD SAGE - SALVIA (CHEMICAL FREE)</td>\n",
        "      <td>   40.00</td>\n",
        "    </tr>\n",
        "    <tr>\n",
        "      <th>1661</th>\n",
        "      <td>                       WILD THYME (CHEMICAL FREE)</td>\n",
        "      <td>   40.00</td>\n",
        "    </tr>\n",
        "    <tr>\n",
        "      <th>1662</th>\n",
        "      <td>                             WORMWOOD HERB POWDER</td>\n",
        "      <td>   42.00</td>\n",
        "    </tr>\n",
        "    <tr>\n",
        "      <th>1663</th>\n",
        "      <td>                                 YAKI NORI SHEETS</td>\n",
        "      <td>   66.50</td>\n",
        "    </tr>\n",
        "    <tr>\n",
        "      <th>1664</th>\n",
        "      <td>                                    YELLOW APPLES</td>\n",
        "      <td>  208.00</td>\n",
        "    </tr>\n",
        "    <tr>\n",
        "      <th>1665</th>\n",
        "      <td>                                  YELLOW BROCCOLI</td>\n",
        "      <td>   67.04</td>\n",
        "    </tr>\n",
        "    <tr>\n",
        "      <th>1666</th>\n",
        "      <td>                YELLOW CAPSICUM ( CHEMICAL FREE )</td>\n",
        "      <td>   47.00</td>\n",
        "    </tr>\n",
        "    <tr>\n",
        "      <th>1667</th>\n",
        "      <td>                                CARROT  (ORGANIC)</td>\n",
        "      <td> 1322.00</td>\n",
        "    </tr>\n",
        "    <tr>\n",
        "      <th>1668</th>\n",
        "      <td>                                CARROT  (ORGANIC)</td>\n",
        "      <td> 4177.00</td>\n",
        "    </tr>\n",
        "    <tr>\n",
        "      <th>1669</th>\n",
        "      <td>                                   YELLOW CARROTS</td>\n",
        "      <td> 1064.05</td>\n",
        "    </tr>\n",
        "    <tr>\n",
        "      <th>1670</th>\n",
        "      <td>                                   YELLOW CARROTS</td>\n",
        "      <td>   36.00</td>\n",
        "    </tr>\n",
        "    <tr>\n",
        "      <th>1671</th>\n",
        "      <td>                           YELLOW CHERRY TOMATOES</td>\n",
        "      <td>  208.64</td>\n",
        "    </tr>\n",
        "    <tr>\n",
        "      <th>1672</th>\n",
        "      <td>                                      GRAPE FRUIT</td>\n",
        "      <td>   74.00</td>\n",
        "    </tr>\n",
        "    <tr>\n",
        "      <th>1673</th>\n",
        "      <td>                                      GRAPE FRUIT</td>\n",
        "      <td>  360.00</td>\n",
        "    </tr>\n",
        "    <tr>\n",
        "      <th>1674</th>\n",
        "      <td>                  YELLOW ONIONS ( CHEMICAL FREE )</td>\n",
        "      <td>   60.00</td>\n",
        "    </tr>\n",
        "    <tr>\n",
        "      <th>1675</th>\n",
        "      <td>                         YELLOW SPLIT PEAS / 822G</td>\n",
        "      <td>  255.50</td>\n",
        "    </tr>\n",
        "    <tr>\n",
        "      <th>1676</th>\n",
        "      <td>                       YING/YANG FACIAL ACNE SOAP</td>\n",
        "      <td>   55.00</td>\n",
        "    </tr>\n",
        "    <tr>\n",
        "      <th>1677</th>\n",
        "      <td>                     ZARDA EXTRA VIRGIN OLIVE OIL</td>\n",
        "      <td>   51.50</td>\n",
        "    </tr>\n",
        "    <tr>\n",
        "      <th>1678</th>\n",
        "      <td>                                         ZUCCHINI</td>\n",
        "      <td>    5.00</td>\n",
        "    </tr>\n",
        "    <tr>\n",
        "      <th>1679</th>\n",
        "      <td>                                         ZUCCHINI</td>\n",
        "      <td> 1394.76</td>\n",
        "    </tr>\n",
        "    <tr>\n",
        "      <th>1680</th>\n",
        "      <td>                         ZUCCHINI (CHEMICAL FREE)</td>\n",
        "      <td> 2902.50</td>\n",
        "    </tr>\n",
        "    <tr>\n",
        "      <th>1681</th>\n",
        "      <td>                         ZUCCHINI (CHEMICAL FREE)</td>\n",
        "      <td>   32.25</td>\n",
        "    </tr>\n",
        "    <tr>\n",
        "      <th>1682</th>\n",
        "      <td>                         ZUCCHINI (CHEMICAL FREE)</td>\n",
        "      <td>   55.00</td>\n",
        "    </tr>\n",
        "    <tr>\n",
        "      <th>1683</th>\n",
        "      <td>                         ZUCCHINI (CHEMICAL FREE)</td>\n",
        "      <td>  110.60</td>\n",
        "    </tr>\n",
        "    <tr>\n",
        "      <th>1684</th>\n",
        "      <td>                         ZUCCHINI (CHEMICAL FREE)</td>\n",
        "      <td>  873.50</td>\n",
        "    </tr>\n",
        "    <tr>\n",
        "      <th>1685</th>\n",
        "      <td>                         ZUCCHINI (CHEMICAL FREE)</td>\n",
        "      <td>  193.33</td>\n",
        "    </tr>\n",
        "    <tr>\n",
        "      <th>1686</th>\n",
        "      <td>                         ZUCCHINI (CHEMICAL FREE)</td>\n",
        "      <td>  647.20</td>\n",
        "    </tr>\n",
        "    <tr>\n",
        "      <th>1687</th>\n",
        "      <td>                                  ZUCCHINI / 500G</td>\n",
        "      <td>  167.58</td>\n",
        "    </tr>\n",
        "    <tr>\n",
        "      <th>1688</th>\n",
        "      <td>                                 ZUCCHINI FLOWERS</td>\n",
        "      <td>  266.00</td>\n",
        "    </tr>\n",
        "    <tr>\n",
        "      <th>1689</th>\n",
        "      <td>                 ZUCCHINI FLOWERS (CHEMICAL FREE)</td>\n",
        "      <td>  220.00</td>\n",
        "    </tr>\n",
        "  </tbody>\n",
        "</table>\n",
        "<p>1690 rows \u00d7 2 columns</p>\n",
        "</div>"
       ],
       "metadata": {},
       "output_type": "pyout",
       "prompt_number": 198,
       "text": [
        "                                               Product  Revenue\n",
        "0                                 7 GRAIN MILK / 946ML  1492.90\n",
        "1                                     ACAI BERRY JUICE   308.00\n",
        "2                                     ACNE FACIAL SOAP   110.00\n",
        "3                              ACQUA PANA WATER 1000ML    10.00\n",
        "4                               ACQUA PANA WATER 500ML     6.50\n",
        "5                         ACQUA PANA WATER 500ML GLASS     9.00\n",
        "6             AGAR AGAR FLAKES (HAND HARVESTED) - WILD   258.00\n",
        "7                      AGAVE SYRUP ( ORGANIC ) / 473ML   647.10\n",
        "8               ALL PURPOSE BAKING FLOUR (GLUTEN FREE)   300.00\n",
        "9               ALL PURPOSE BAKING FLOUR (GLUTEN FREE)  4648.48\n",
        "10              ALL PURPOSE BAKING FLOUR (GLUTEN FREE)   516.00\n",
        "11              ALL PURPOSE BAKING FLOUR (GLUTEN FREE)    43.75\n",
        "12              ALL PURPOSE BAKING FLOUR (GLUTEN FREE)   696.00\n",
        "13    ALMOND BISCUTIS (GLUTEN FREE) - TRACES OF GLUTEN    54.00\n",
        "14                                       ALMOND BUTTER    65.00\n",
        "15                           ALMOND BUTTER (HOME-MADE)  4380.00\n",
        "16                                   ALMOND MEAL FLOUR  1665.60\n",
        "17                             ALMOND MILK ( ORGANIC )   211.50\n",
        "18                     ALMOND MILK ( ORGANIC ) / 946ML  9418.84\n",
        "19                       ALMOND MILK ( ORGANIC ) 946ML   102.00\n",
        "20                            ALMOND MILK ( ORIGINAL )  1128.40\n",
        "21                           ALMOND MILK (UNSWEETENED)   608.00\n",
        "22                     ALMOND MILK WITH DARK CHOCOLATE    57.00\n",
        "23                            ALMOND MILK WITH VANILLA   114.00\n",
        "24                          ALMOND ORIGINAL (ORIGINAL)   512.00\n",
        "25                        ALMOND'S AND OATS BODY SCRUB    70.00\n",
        "26          ALMONDS SHELL ON - ROASTED & SALTED / 250G   192.87\n",
        "27          ALMONDS SHELL ON - ROASTED & SALTED / 250G   108.93\n",
        "28            ALPHABET PASTA ( GLUTEN FREE ) - ITALIAN   262.50\n",
        "29                                            AMARANTH   450.80\n",
        "...                                                ...      ...\n",
        "1660                WILD SAGE - SALVIA (CHEMICAL FREE)    40.00\n",
        "1661                        WILD THYME (CHEMICAL FREE)    40.00\n",
        "1662                              WORMWOOD HERB POWDER    42.00\n",
        "1663                                  YAKI NORI SHEETS    66.50\n",
        "1664                                     YELLOW APPLES   208.00\n",
        "1665                                   YELLOW BROCCOLI    67.04\n",
        "1666                 YELLOW CAPSICUM ( CHEMICAL FREE )    47.00\n",
        "1667                                 CARROT  (ORGANIC)  1322.00\n",
        "1668                                 CARROT  (ORGANIC)  4177.00\n",
        "1669                                    YELLOW CARROTS  1064.05\n",
        "1670                                    YELLOW CARROTS    36.00\n",
        "1671                            YELLOW CHERRY TOMATOES   208.64\n",
        "1672                                       GRAPE FRUIT    74.00\n",
        "1673                                       GRAPE FRUIT   360.00\n",
        "1674                   YELLOW ONIONS ( CHEMICAL FREE )    60.00\n",
        "1675                          YELLOW SPLIT PEAS / 822G   255.50\n",
        "1676                        YING/YANG FACIAL ACNE SOAP    55.00\n",
        "1677                      ZARDA EXTRA VIRGIN OLIVE OIL    51.50\n",
        "1678                                          ZUCCHINI     5.00\n",
        "1679                                          ZUCCHINI  1394.76\n",
        "1680                          ZUCCHINI (CHEMICAL FREE)  2902.50\n",
        "1681                          ZUCCHINI (CHEMICAL FREE)    32.25\n",
        "1682                          ZUCCHINI (CHEMICAL FREE)    55.00\n",
        "1683                          ZUCCHINI (CHEMICAL FREE)   110.60\n",
        "1684                          ZUCCHINI (CHEMICAL FREE)   873.50\n",
        "1685                          ZUCCHINI (CHEMICAL FREE)   193.33\n",
        "1686                          ZUCCHINI (CHEMICAL FREE)   647.20\n",
        "1687                                   ZUCCHINI / 500G   167.58\n",
        "1688                                  ZUCCHINI FLOWERS   266.00\n",
        "1689                  ZUCCHINI FLOWERS (CHEMICAL FREE)   220.00\n",
        "\n",
        "[1690 rows x 2 columns]"
       ]
      }
     ],
     "prompt_number": 198
    },
    {
     "cell_type": "code",
     "collapsed": false,
     "input": [
      "for i in range(0, max(df.index)+1):\n",
      "    df5.loc[i, 'Product'] = df.loc[i, 'Product'].upper()"
     ],
     "language": "python",
     "metadata": {},
     "outputs": [],
     "prompt_number": 204
    },
    {
     "cell_type": "code",
     "collapsed": false,
     "input": [
      "df5=df"
     ],
     "language": "python",
     "metadata": {},
     "outputs": [],
     "prompt_number": 203
    },
    {
     "cell_type": "code",
     "collapsed": false,
     "input": [
      "df.to_csv('C:\\Users\\saisree849\\Documents\\GitHub\\NGS_Project\\\\6_demand_forecast_vend\\\\allsort.csv', index=None)"
     ],
     "language": "python",
     "metadata": {},
     "outputs": [],
     "prompt_number": 205
    },
    {
     "cell_type": "code",
     "collapsed": false,
     "input": [],
     "language": "python",
     "metadata": {},
     "outputs": []
    }
   ],
   "metadata": {}
  }
 ]
}