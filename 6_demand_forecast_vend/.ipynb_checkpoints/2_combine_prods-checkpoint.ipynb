{
 "metadata": {
  "name": "",
  "signature": "sha256:4794333d2144145924f27582b78f2eeab103a04d1f1be3b7f8d7cb0cb6eeda9e"
 },
 "nbformat": 3,
 "nbformat_minor": 0,
 "worksheets": [
  {
   "cells": [
    {
     "cell_type": "code",
     "collapsed": false,
     "input": [
      "import pandas as pd\n",
      "import re\n",
      "\n",
      "location = 'C:\\Users\\saisree849\\Documents\\GitHub\\NGS_Project\\\\6_demand_forecast_vend\\\\vend-item_count.csv'\n",
      "df = pd.read_csv(location)"
     ],
     "language": "python",
     "metadata": {},
     "outputs": [],
     "prompt_number": 34
    },
    {
     "cell_type": "code",
     "collapsed": false,
     "input": [
      "df1=df\n",
      "#names to upper\n",
      "for i in range(0, max(df.index)+1):\n",
      "    df.loc[i, 'Product'] = df.loc[i, 'Product'].upper()\n",
      "\n",
      "#sort products and reset index\n",
      "df=df.sort('Product')\n",
      "df= df.reset_index().drop('index',1)"
     ],
     "language": "python",
     "metadata": {},
     "outputs": [],
     "prompt_number": 35
    },
    {
     "cell_type": "code",
     "collapsed": false,
     "input": [
      "#Subsetting with reqd fields\n",
      "df1 = df[['Product','Aug 2012','Sep 2012','Oct 2012','Nov 2012','Dec 2012','Jan 2013','Feb 2013','Mar 2013','Apr 2013','May 2013','Jun 2013','Jul 2013','Aug 2013','Sep 2013','Oct 2013','Nov 2013','Dec 2013','Jan 2014','Feb 2014','Mar 2014','Apr 2014','May 2014','Jun 2014','Jul 2014','Aug 2014','Sep 2014','Oct 2014','Nov 2014','Dec 2014','Jan 2015','Feb 2015','Mar 2015','Apr 2015','May 2015','Jun 2015','Jul 2015','Revenue']]"
     ],
     "language": "python",
     "metadata": {},
     "outputs": [],
     "prompt_number": 36
    },
    {
     "cell_type": "code",
     "collapsed": false,
     "input": [
      "#removing special characters\n",
      "for i in range(0,max(df1.index)+1):\n",
      "    df1.loc[i, 'Product'] =df1.loc[i, 'Product'].replace(\",\",\"\")\n",
      "    df1.loc[i, 'Product'] =df1.loc[i, 'Product'].replace(\"(\",\"\")\n",
      "    df1.loc[i, 'Product'] =df1.loc[i, 'Product'].replace(\")\",\"\")\n",
      "    df1.loc[i, 'Product'] =df1.loc[i, 'Product'].replace(\"&\",\"\")\n",
      "    df1.loc[i, 'Product'] =df1.loc[i, 'Product'].replace(\"/\",\"\")\n",
      "    df1.loc[i, 'Product'] =df1.loc[i, 'Product'].replace(\"-\",\"\")\n",
      "    df1.loc[i, 'Product'] =df1.loc[i, 'Product'].replace(\"'\",\"\")\n",
      "    df1.loc[i, 'Product'] =df1.loc[i, 'Product'].replace(\"_\",\"\")\n",
      "    df1.loc[i, 'Product'] =df1.loc[i, 'Product'].replace(\" \",\"\")"
     ],
     "language": "python",
     "metadata": {},
     "outputs": [],
     "prompt_number": 37
    },
    {
     "cell_type": "code",
     "collapsed": false,
     "input": [
      "#remove unnecessary products\n",
      "import re\n",
      "lis=[]\n",
      "for i in range(0,max(df1.index)+1):\n",
      "    if (re.search('L.E',df1.loc[i,'Product'])):\n",
      "        lis.append(i)\n",
      "df1=df1.drop(df1.index[lis])"
     ],
     "language": "python",
     "metadata": {},
     "outputs": [],
     "prompt_number": 38
    },
    {
     "cell_type": "code",
     "collapsed": false,
     "input": [
      "#sort and reset index\n",
      "df1=df1.sort('Product')\n",
      "df1= df1.reset_index().drop('index',1)\n",
      "#df1.to_csv('C:\\Users\\saisree849\\Desktop\\\\temp.csv')"
     ],
     "language": "python",
     "metadata": {},
     "outputs": [],
     "prompt_number": 39
    },
    {
     "cell_type": "code",
     "collapsed": false,
     "input": [
      "df2=df1"
     ],
     "language": "python",
     "metadata": {},
     "outputs": [],
     "prompt_number": 40
    },
    {
     "cell_type": "code",
     "collapsed": false,
     "input": [
      "#get the row indices which have same product\n",
      "ls=[]\n",
      "for i in range(0,max(df1.index)):\n",
      "    if (df1.loc[i,'Product']==df1.loc[i+1,'Product']):\n",
      "        for j in range(1,36):\n",
      "            if ((df1.iloc[i,j]==0) & (df1.iloc[i+1,j]!=0)):\n",
      "                #df1.iloc[i,j]=df1.iloc[i+1,j]\n",
      "                ls.append(i+1)\n",
      "                ls.append(i)\n",
      "                \n",
      "            elif ((df1.iloc[i+1,j]==0) & (df1.iloc[i,j]!=0)):\n",
      "                #df1.iloc[i+1,j]=df1.iloc[i,j]\n",
      "                ls.append(i)\n",
      "                ls.append(i+1)"
     ],
     "language": "python",
     "metadata": {},
     "outputs": [],
     "prompt_number": 41
    },
    {
     "cell_type": "code",
     "collapsed": false,
     "input": [
      "#remove redundancies in indices\n",
      "p=[]\n",
      "for i in ls:\n",
      "    if i not in p:\n",
      "        p.append(i)"
     ],
     "language": "python",
     "metadata": {},
     "outputs": [],
     "prompt_number": 42
    },
    {
     "cell_type": "code",
     "collapsed": false,
     "input": [
      "#get redundant products\n",
      "df3=df1.iloc[p]\n",
      "df3= df3.reset_index().drop('index',1)"
     ],
     "language": "python",
     "metadata": {},
     "outputs": [],
     "prompt_number": 43
    },
    {
     "cell_type": "code",
     "collapsed": false,
     "input": [
      "#remove redundant products\n",
      "df1=df1.drop(df1.index[ls])"
     ],
     "language": "python",
     "metadata": {},
     "outputs": [],
     "prompt_number": 44
    },
    {
     "cell_type": "code",
     "collapsed": false,
     "input": [
      "#reset index\n",
      "df1= df1.reset_index().drop('index',1)\n",
      "#df1.to_csv('C:\\Users\\saisree849\\Desktop\\\\temp1.csv')"
     ],
     "language": "python",
     "metadata": {},
     "outputs": [],
     "prompt_number": 45
    },
    {
     "cell_type": "code",
     "collapsed": false,
     "input": [
      "#get all the unique names of redundant products\n",
      "names=[]\n",
      "for i in df3.index:\n",
      "    if df3.loc[i,'Product'] not in names:\n",
      "        names.append(df3.loc[i, 'Product'])"
     ],
     "language": "python",
     "metadata": {},
     "outputs": [],
     "prompt_number": 46
    },
    {
     "cell_type": "code",
     "collapsed": false,
     "input": [
      "#create a dataframe with only redundant products\n",
      "df4=pd.DataFrame(columns=df1.columns)\n",
      "j=0\n",
      "for i in names:\n",
      "    df4.loc[j,'Product']=i\n",
      "    j=j+1\n",
      "for i in range(0,max(df4.index)+1):\n",
      "    for j in range(1,37):\n",
      "        df4.iloc[i,j]=0"
     ],
     "language": "python",
     "metadata": {},
     "outputs": [],
     "prompt_number": 63
    },
    {
     "cell_type": "code",
     "collapsed": false,
     "input": [
      "for i in range(0,max(df4.index)+1):\n",
      "    c=[]\n",
      "    for j in range(0,max(df3.index)+1):\n",
      "        if (df4.loc[i,'Product']==df3.loc[j,'Product']):\n",
      "            c.append(j)\n",
      "        else:\n",
      "            for k in c:\n",
      "                for l in range(1,37):\n",
      "                    if(df3.iloc[k,l]!=0):\n",
      "                        print df4.loc[i,'Product'], l, df3.iloc[k,l]\n",
      "                        #df4.iloc[i,l]=df3.iloc[k,l]\n",
      "            c=[]\n",
      "            "
     ],
     "language": "python",
     "metadata": {},
     "outputs": [
      {
       "output_type": "stream",
       "stream": "stdout",
       "text": [
        "ALLPURPOSEBAKINGFLOURGLUTENFREE 29 1.0\n",
        "ALLPURPOSEBAKINGFLOURGLUTENFREE 30 4.0\n",
        "ALLPURPOSEBAKINGFLOURGLUTENFREE 35 12.0\n",
        "ALLPURPOSEBAKINGFLOURGLUTENFREE 34 1.0\n",
        "ALLPURPOSEBAKINGFLOURGLUTENFREE 36 16.0\n",
        "ALMONDMILKORGANIC946ML"
       ]
      },
      {
       "output_type": "stream",
       "stream": "stdout",
       "text": [
        " 5 3.0\n",
        "ALMONDMILKORGANIC946ML 6 40.0\n",
        "ALMONDMILKORGANIC946ML 7 20.0\n",
        "ALMONDMILKORGANIC946ML 8 40.0\n",
        "ALMONDMILKORGANIC946ML 9 41.0\n",
        "ALMONDMILKORGANIC946ML 10 46.0\n",
        "ALMONDMILKORGANIC946ML 11 9.0\n",
        "ALMONDMILKORGANIC946ML 14 57.0\n",
        "ALMONDMILKORGANIC946ML 15 30.0\n",
        "ALMONDMILKORGANIC946ML 18 2.0\n",
        "ALMONDMILKORGANIC946ML 26 3.0\n",
        "ALMONDMILKORGANIC946ML 34 3.0\n",
        "ANIMALSHAPEDBISCUITSGLUTENFREE"
       ]
      },
      {
       "output_type": "stream",
       "stream": "stdout",
       "text": [
        " 27 2.0\n",
        "ANIMALSHAPEDBISCUITSGLUTENFREE 28 5.0\n",
        "ANIMALSHAPEDBISCUITSGLUTENFREE 29 4.0\n",
        "ANIMALSHAPEDBISCUITSGLUTENFREE 34 8.0\n",
        "APPLECIDERVINEGARORGANIC"
       ]
      },
      {
       "output_type": "stream",
       "stream": "stdout",
       "text": [
        " 33 1.0\n",
        "APPLECIDERVINEGARORGANIC 34 54.0\n",
        "APPLECIDERVINEGARORGANIC 35 16.0\n",
        "APPLECIDERVINEGARORGANIC 36 14.0\n",
        "APPRICOT"
       ]
      }
     ]
    },
    {
     "cell_type": "code",
     "collapsed": false,
     "input": [
      "for i in range(0,7):\n",
      "    c=[]\n",
      "    for j in range(0,17):\n",
      "        if (df4.loc[i,'Product']==df3.loc[j,'Product']):\n",
      "            c.append(j)\n",
      "        else:\n",
      "            for k in c:\n",
      "                for l in range(1,37):\n",
      "                    if(df3.iloc[k,l]!=0):\n",
      "                        print df4.loc[i,'Product'], l, df3.iloc[k,l]\n",
      "                        #df4.iloc[i,l]=df3.iloc[k,l]\n",
      "            c=[]\n",
      "            "
     ],
     "language": "python",
     "metadata": {},
     "outputs": [
      {
       "output_type": "stream",
       "stream": "stdout",
       "text": [
        "ALLPURPOSEBAKINGFLOURGLUTENFREE 29 1.0\n",
        "ALLPURPOSEBAKINGFLOURGLUTENFREE 30 4.0\n",
        "ALLPURPOSEBAKINGFLOURGLUTENFREE 35 12.0\n",
        "ALLPURPOSEBAKINGFLOURGLUTENFREE 34 1.0\n",
        "ALLPURPOSEBAKINGFLOURGLUTENFREE 36 16.0\n",
        "ALMONDMILKORGANIC946ML 5 3.0\n",
        "ALMONDMILKORGANIC946ML 6 40.0\n",
        "ALMONDMILKORGANIC946ML 7 20.0\n",
        "ALMONDMILKORGANIC946ML 8 40.0\n",
        "ALMONDMILKORGANIC946ML 9 41.0\n",
        "ALMONDMILKORGANIC946ML 10 46.0\n",
        "ALMONDMILKORGANIC946ML 11 9.0\n",
        "ALMONDMILKORGANIC946ML 14 57.0\n",
        "ALMONDMILKORGANIC946ML 15 30.0\n",
        "ALMONDMILKORGANIC946ML 18 2.0\n",
        "ALMONDMILKORGANIC946ML 26 "
       ]
      },
      {
       "output_type": "stream",
       "stream": "stdout",
       "text": [
        "3.0\n",
        "ALMONDMILKORGANIC946ML 34 3.0\n",
        "ANIMALSHAPEDBISCUITSGLUTENFREE 27 2.0\n",
        "ANIMALSHAPEDBISCUITSGLUTENFREE 28 5.0\n",
        "ANIMALSHAPEDBISCUITSGLUTENFREE 29 4.0\n",
        "ANIMALSHAPEDBISCUITSGLUTENFREE"
       ]
      },
      {
       "output_type": "stream",
       "stream": "stdout",
       "text": [
        " 34 8.0\n",
        "APPLECIDERVINEGARORGANIC 33 1.0\n",
        "APPLECIDERVINEGARORGANIC 34 54.0\n",
        "APPLECIDERVINEGARORGANIC 35 16.0\n",
        "APPLECIDERVINEGARORGANIC 36 14.0\n",
        "APPRICOT"
       ]
      },
      {
       "output_type": "stream",
       "stream": "stdout",
       "text": [
        " 24 3.0\n",
        "APPRICOT 25 20.0\n",
        "APPRICOT 26 4.0\n",
        "APPRICOT 35 15.0\n",
        "APPRICOT 36 26.0\n",
        "ARUGULACHEMICALFREE 27 12.0\n",
        "ARUGULACHEMICALFREE 28 21.0\n",
        "ARUGULACHEMICALFREE 29 17.0\n",
        "ARUGULACHEMICALFREE 30 10.0\n",
        "ARUGULACHEMICALFREE"
       ]
      },
      {
       "output_type": "stream",
       "stream": "stdout",
       "text": [
        " 33 6.0\n",
        "ARUGULACHEMICALFREE 34 62.0\n",
        "ARUGULACHEMICALFREE 35 4.0\n",
        "ARUGULACHEMICALFREE 26 15.0\n",
        "ARUGULACHEMICALFREE 27 11.0\n"
       ]
      }
     ],
     "prompt_number": 69
    },
    {
     "cell_type": "code",
     "collapsed": false,
     "input": [],
     "language": "python",
     "metadata": {},
     "outputs": []
    }
   ],
   "metadata": {}
  }
 ]
}