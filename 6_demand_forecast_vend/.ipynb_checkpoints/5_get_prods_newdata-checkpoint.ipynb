{
 "metadata": {
  "name": "",
  "signature": "sha256:a0fe1e39f538d067edf8a21d53ebcdd8385bacf1e81da160a892cef320364655"
 },
 "nbformat": 3,
 "nbformat_minor": 0,
 "worksheets": [
  {
   "cells": [
    {
     "cell_type": "code",
     "collapsed": false,
     "input": [
      "import pandas as pd\n",
      "\n",
      "location='C:\\Users\\saisree849\\AppData\\Roaming\\Skype\\My Skype Received Files\\NGS_Comp_Price.csv'\n",
      "df = pd.read_csv(location)"
     ],
     "language": "python",
     "metadata": {},
     "outputs": [],
     "prompt_number": 141
    },
    {
     "cell_type": "code",
     "collapsed": false,
     "input": [
      "df.columns"
     ],
     "language": "python",
     "metadata": {},
     "outputs": [
      {
       "metadata": {},
       "output_type": "pyout",
       "prompt_number": 142,
       "text": [
        "Index([u'sku', u'name', u'brand', u'description', u' S.Price ', u'In stock', u' Offah.com Price ', u'Offah.com In Stock', u'Offah.com product comments', u' Gourmetegypt.com Price ', u'Gourmetegypt In Stock', u'Gourmetegypt Product comments', u' Healthharveststore.com Price ', u'Healthharveststore.com In Stock', u'Healthharveststore.com product comments', u'Imtenan.com Price', u'Imtenan.com In Stock', u'Imtenan.com Product Comments', u'Knockmart.com Prices', u'Knockmart.com In Stock', u'Knockmart.com Product Comments', u'Beqala.com Prices', u'Beqala.com In Stock', u'Beqala.com Product Comments', u'Categories', u'Average Competitor Prices(ACP)', u'Price Variance', u'Availability in NGS', u'Availability @ Others'], dtype='object')"
       ]
      }
     ],
     "prompt_number": 142
    },
    {
     "cell_type": "code",
     "collapsed": false,
     "input": [
      "df=df[pd.notnull(df[' S.Price '])]\n",
      "df= df.reset_index().drop('index',1)"
     ],
     "language": "python",
     "metadata": {},
     "outputs": [],
     "prompt_number": 143
    },
    {
     "cell_type": "code",
     "collapsed": false,
     "input": [
      "df=df.drop('sku',1)\n",
      "df=df.drop('brand',1)\n",
      "df=df.drop('Offah.com product comments',1)\n",
      "df=df.drop('Gourmetegypt Product comments',1)\n",
      "df=df.drop('Healthharveststore.com product comments',1)\n",
      "df=df.drop('Imtenan.com Product Comments',1)\n",
      "df=df.drop('Knockmart.com Product Comments',1)\n",
      "df=df.drop('Beqala.com Product Comments',1)\n",
      "df=df.drop('Categories',1)\n",
      "df=df.drop('Average Competitor Prices(ACP)',1)\n",
      "df=df.drop('Price Variance',1)\n",
      "df=df.drop('Availability in NGS',1)\n",
      "df=df.drop('Availability @ Others',1)"
     ],
     "language": "python",
     "metadata": {},
     "outputs": [],
     "prompt_number": 144
    },
    {
     "cell_type": "code",
     "collapsed": false,
     "input": [
      "df.columns"
     ],
     "language": "python",
     "metadata": {},
     "outputs": [
      {
       "metadata": {},
       "output_type": "pyout",
       "prompt_number": 145,
       "text": [
        "Index([u'name', u'description', u' S.Price ', u'In stock', u' Offah.com Price ', u'Offah.com In Stock', u' Gourmetegypt.com Price ', u'Gourmetegypt In Stock', u' Healthharveststore.com Price ', u'Healthharveststore.com In Stock', u'Imtenan.com Price', u'Imtenan.com In Stock', u'Knockmart.com Prices', u'Knockmart.com In Stock', u'Beqala.com Prices', u'Beqala.com In Stock'], dtype='object')"
       ]
      }
     ],
     "prompt_number": 145
    },
    {
     "cell_type": "code",
     "collapsed": false,
     "input": [
      "for i in range(0,max(df.index)+1):\n",
      "    df.iloc[i,0] = df.iloc[i,0].upper()\n",
      "    df.iloc[i,0] = df.iloc[i,0].replace(\",\",\"\")\n",
      "    df.iloc[i,0] = df.iloc[i,0].replace(\"(\",\"\")\n",
      "    df.iloc[i,0] = df.iloc[i,0].replace(\")\",\"\")\n",
      "    df.iloc[i,0] = df.iloc[i,0].replace(\"&\",\"\")\n",
      "    df.iloc[i,0] = df.iloc[i,0].replace(\"/\",\"\")\n",
      "    df.iloc[i,0] = df.iloc[i,0].replace(\"-\",\"\")\n",
      "    df.iloc[i,0] = df.iloc[i,0].replace(\"'\",\"\")\n",
      "    df.iloc[i,0] = df.iloc[i,0].replace(\"_\",\"\")\n",
      "    df.iloc[i,0] = df.iloc[i,0].replace(\" \",\"\")"
     ],
     "language": "python",
     "metadata": {},
     "outputs": [],
     "prompt_number": 146
    },
    {
     "cell_type": "code",
     "collapsed": false,
     "input": [
      "location='C:\\Users\\saisree849\\Documents\\GitHub\\NGS_Project\\\\6_demand_forecast_vend\\\\imp_price.csv'\n",
      "df1 = pd.read_csv(location)"
     ],
     "language": "python",
     "metadata": {},
     "outputs": [],
     "prompt_number": 147
    },
    {
     "cell_type": "code",
     "collapsed": false,
     "input": [
      "ls=[]\n",
      "ls1=[]\n",
      "for j in range(0, max(df1.index)+1):\n",
      "    k=0\n",
      "    q=0\n",
      "    p=0\n",
      "    for i in range(0, max(df.index)+1):\n",
      "        if(df.iloc[i,0]==df1.iloc[j,0]):\n",
      "            p=i\n",
      "            q=j\n",
      "            #print i, df.iloc[i,0]\n",
      "            k=k+1\n",
      "    if(k==1):\n",
      "        ls.append(p)\n",
      "        ls1.append(q)"
     ],
     "language": "python",
     "metadata": {},
     "outputs": [],
     "prompt_number": 148
    },
    {
     "cell_type": "code",
     "collapsed": false,
     "input": [
      "ls1.sort()\n",
      "df1=df1.drop(df1.index[ls1])\n",
      "df1= df1.reset_index().drop('index',1)"
     ],
     "language": "python",
     "metadata": {},
     "outputs": [],
     "prompt_number": 149
    },
    {
     "cell_type": "code",
     "collapsed": false,
     "input": [
      "df.to_csv('C:\\Users\\saisree849\\Documents\\GitHub\\NGS_Project\\\\6_demand_forecast_vend\\Comparedata.csv',index=False)"
     ],
     "language": "python",
     "metadata": {},
     "outputs": [],
     "prompt_number": 91
    },
    {
     "cell_type": "code",
     "collapsed": false,
     "input": [
      "ls.sort()\n",
      "df=df.drop(df.index[ls])\n",
      "df= df.reset_index().drop('index',1)"
     ],
     "language": "python",
     "metadata": {},
     "outputs": [],
     "prompt_number": 150
    },
    {
     "cell_type": "code",
     "collapsed": false,
     "input": [
      "for i in range(0,max(df.index)+1):\n",
      "    df.iloc[i,1] = str(df.iloc[i,1])\n",
      "    df.iloc[i,1] = df.iloc[i,1].upper()"
     ],
     "language": "python",
     "metadata": {},
     "outputs": [],
     "prompt_number": 151
    },
    {
     "cell_type": "code",
     "collapsed": false,
     "input": [
      "import re\n",
      "for i in range(0, max(df.index)+1):\n",
      "    for j in range(0, max(df1.index)+1):\n",
      "        if(re.match(df.iloc[i,0]+df.iloc[i,1],df1.iloc[j,0])):\n",
      "            df.iloc[i,0] = df.iloc[i,0] + df.iloc[i,1]"
     ],
     "language": "python",
     "metadata": {},
     "outputs": [],
     "prompt_number": 152
    },
    {
     "cell_type": "code",
     "collapsed": false,
     "input": [
      "ls=[]\n",
      "ls1=[]\n",
      "for j in range(0, max(df1.index)+1):\n",
      "    k=0\n",
      "    q=0\n",
      "    p=0\n",
      "    for i in range(0, max(df.index)+1):\n",
      "        if(df.iloc[i,0]==df1.iloc[j,0]):\n",
      "            p=i\n",
      "            #print i, df.iloc[i,0]\n",
      "            k=k+1\n",
      "    if(k==1):\n",
      "        ls.append(p)\n",
      "        ls1.append(q)"
     ],
     "language": "python",
     "metadata": {},
     "outputs": [],
     "prompt_number": 153
    },
    {
     "cell_type": "code",
     "collapsed": false,
     "input": [
      "ls1.sort()\n",
      "df1=df1.drop(df1.index[ls1])\n",
      "df1= df1.reset_index().drop('index',1)"
     ],
     "language": "python",
     "metadata": {},
     "outputs": [],
     "prompt_number": 154
    },
    {
     "cell_type": "code",
     "collapsed": false,
     "input": [
      "ls.sort()\n",
      "df=df.drop(df.index[ls])\n",
      "df= df.reset_index().drop('index',1)"
     ],
     "language": "python",
     "metadata": {},
     "outputs": [],
     "prompt_number": 155
    },
    {
     "cell_type": "code",
     "collapsed": false,
     "input": [
      "df.to_csv('C:\\Users\\saisree849\\Documents\\GitHub\\NGS_Project\\\\6_demand_forecast_vend\\Comparedatawithoutmatches.csv',index=False)"
     ],
     "language": "python",
     "metadata": {},
     "outputs": [],
     "prompt_number": 156
    },
    {
     "cell_type": "code",
     "collapsed": false,
     "input": [
      "max(df1.index)"
     ],
     "language": "python",
     "metadata": {},
     "outputs": [
      {
       "metadata": {},
       "output_type": "pyout",
       "prompt_number": 157,
       "text": [
        "92"
       ]
      }
     ],
     "prompt_number": 157
    },
    {
     "cell_type": "code",
     "collapsed": false,
     "input": [
      "max(df.index)"
     ],
     "language": "python",
     "metadata": {},
     "outputs": [
      {
       "metadata": {},
       "output_type": "pyout",
       "prompt_number": 158,
       "text": [
        "519"
       ]
      }
     ],
     "prompt_number": 158
    },
    {
     "cell_type": "code",
     "collapsed": false,
     "input": [
      "df1.to_csv('C:\\Users\\saisree849\\Documents\\GitHub\\NGS_Project\\\\6_demand_forecast_vend\\\\impdatawithoutmatches.csv',index=False)"
     ],
     "language": "python",
     "metadata": {},
     "outputs": [],
     "prompt_number": 161
    },
    {
     "cell_type": "code",
     "collapsed": false,
     "input": [],
     "language": "python",
     "metadata": {},
     "outputs": []
    }
   ],
   "metadata": {}
  }
 ]
}