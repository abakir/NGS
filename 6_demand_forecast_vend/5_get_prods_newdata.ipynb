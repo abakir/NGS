{
 "metadata": {
  "name": "",
  "signature": "sha256:7cc5388c2eac40f94e599159537e2adbcfea78360a5e384aff3a221c89c113c3"
 },
 "nbformat": 3,
 "nbformat_minor": 0,
 "worksheets": [
  {
   "cells": [
    {
     "cell_type": "code",
     "collapsed": false,
     "input": [
      "import pandas as pd\n",
      "\n",
      "location='C:\\Users\\saisree849\\AppData\\Roaming\\Skype\\My Skype Received Files\\NGS_Comp_Price.csv'\n",
      "df = pd.read_csv(location)"
     ],
     "language": "python",
     "metadata": {},
     "outputs": [],
     "prompt_number": 143
    },
    {
     "cell_type": "code",
     "collapsed": false,
     "input": [
      "df=df[pd.notnull(df[' S.Price '])]\n",
      "df= df.reset_index().drop('index',1)"
     ],
     "language": "python",
     "metadata": {},
     "outputs": [],
     "prompt_number": 144
    },
    {
     "cell_type": "code",
     "collapsed": false,
     "input": [
      "df=df.drop('sku',1)\n",
      "df=df.drop('brand',1)\n",
      "df=df.drop('Offah.com product comments',1)\n",
      "df=df.drop('Gourmetegypt Product comments',1)\n",
      "df=df.drop('Healthharveststore.com product comments',1)\n",
      "df=df.drop('Imtenan.com Product Comments',1)\n",
      "df=df.drop('Knockmart.com Product Comments',1)\n",
      "df=df.drop('Beqala.com Product Comments',1)\n",
      "df=df.drop('Categories',1)\n",
      "df=df.drop('Average Competitor Prices(ACP)',1)\n",
      "df=df.drop('Price Variance',1)\n",
      "df=df.drop('Availability in NGS',1)\n",
      "df=df.drop('Availability @ Others',1)"
     ],
     "language": "python",
     "metadata": {},
     "outputs": [],
     "prompt_number": 145
    },
    {
     "cell_type": "code",
     "collapsed": false,
     "input": [
      "for i in range(0,max(df.index)+1):\n",
      "    df.iloc[i,0] = df.iloc[i,0].upper()\n",
      "    df.iloc[i,0] = df.iloc[i,0].replace(\",\",\"\")\n",
      "    df.iloc[i,0] = df.iloc[i,0].replace(\"(\",\"\")\n",
      "    df.iloc[i,0] = df.iloc[i,0].replace(\")\",\"\")\n",
      "    df.iloc[i,0] = df.iloc[i,0].replace(\"&\",\"\")\n",
      "    df.iloc[i,0] = df.iloc[i,0].replace(\"/\",\"\")\n",
      "    df.iloc[i,0] = df.iloc[i,0].replace(\"-\",\"\")\n",
      "    df.iloc[i,0] = df.iloc[i,0].replace(\"'\",\"\")\n",
      "    df.iloc[i,0] = df.iloc[i,0].replace(\"_\",\"\")\n",
      "    df.iloc[i,0] = df.iloc[i,0].replace(\" \",\"\")"
     ],
     "language": "python",
     "metadata": {},
     "outputs": [],
     "prompt_number": 146
    },
    {
     "cell_type": "code",
     "collapsed": false,
     "input": [
      "location='C:\\Users\\saisree849\\Documents\\GitHub\\NGS_Project\\\\6_demand_forecast_vend\\\\imp_price.csv'\n",
      "df1 = pd.read_csv(location)"
     ],
     "language": "python",
     "metadata": {},
     "outputs": [],
     "prompt_number": 147
    },
    {
     "cell_type": "code",
     "collapsed": false,
     "input": [
      "ls=[]\n",
      "ls1=[]\n",
      "for j in range(0, max(df1.index)+1):\n",
      "    k=0\n",
      "    q=0\n",
      "    p=0\n",
      "    for i in range(0, max(df.index)+1):\n",
      "        if(df.iloc[i,0]==df1.iloc[j,0]):\n",
      "            p=i\n",
      "            q=j\n",
      "            #print i, df.iloc[i,0]\n",
      "            k=k+1\n",
      "    if(k==1):\n",
      "        ls.append(p)\n",
      "        ls1.append(q)"
     ],
     "language": "python",
     "metadata": {},
     "outputs": [],
     "prompt_number": 148
    },
    {
     "cell_type": "code",
     "collapsed": false,
     "input": [
      "df2=pd.DataFrame(index=ls,columns=df.columns)\n",
      "for i in ls:\n",
      "    for j in df.columns:\n",
      "        df2.loc[i,j] = df.loc[i,j]\n",
      "\n",
      "df2=df2.reset_index().drop('index',1)"
     ],
     "language": "python",
     "metadata": {},
     "outputs": [],
     "prompt_number": 149
    },
    {
     "cell_type": "code",
     "collapsed": false,
     "input": [
      "ls1.sort()\n",
      "df1=df1.drop(df1.index[ls1])\n",
      "df1= df1.reset_index().drop('index',1)"
     ],
     "language": "python",
     "metadata": {},
     "outputs": [],
     "prompt_number": 150
    },
    {
     "cell_type": "code",
     "collapsed": false,
     "input": [
      "df.to_csv('C:\\Users\\saisree849\\Documents\\GitHub\\NGS_Project\\\\6_demand_forecast_vend\\Comparedata.csv',index=False)"
     ],
     "language": "python",
     "metadata": {},
     "outputs": [],
     "prompt_number": 151
    },
    {
     "cell_type": "code",
     "collapsed": false,
     "input": [
      "ls.sort()\n",
      "df=df.drop(df.index[ls])\n",
      "df= df.reset_index().drop('index',1)"
     ],
     "language": "python",
     "metadata": {},
     "outputs": [],
     "prompt_number": 152
    },
    {
     "cell_type": "code",
     "collapsed": false,
     "input": [
      "for i in range(0,max(df.index)+1):\n",
      "    df.iloc[i,1] = str(df.iloc[i,1])\n",
      "    df.iloc[i,1] = df.iloc[i,1].upper()"
     ],
     "language": "python",
     "metadata": {},
     "outputs": [],
     "prompt_number": 153
    },
    {
     "cell_type": "code",
     "collapsed": false,
     "input": [
      "import re\n",
      "for i in range(0, max(df.index)+1):\n",
      "    for j in range(0, max(df1.index)+1):\n",
      "        if(re.match(df.iloc[i,0]+df.iloc[i,1],df1.iloc[j,0])):\n",
      "            df.iloc[i,0] = df.iloc[i,0] + df.iloc[i,1]"
     ],
     "language": "python",
     "metadata": {},
     "outputs": [],
     "prompt_number": 154
    },
    {
     "cell_type": "code",
     "collapsed": false,
     "input": [
      "ls=[]\n",
      "ls1=[]\n",
      "for j in range(0, max(df1.index)+1):\n",
      "    k=0\n",
      "    q=0\n",
      "    p=0\n",
      "    for i in range(0, max(df.index)+1):\n",
      "        if(df.iloc[i,0]==df1.iloc[j,0]):\n",
      "            p=i\n",
      "            q=j\n",
      "            #print i, df.iloc[i,0]\n",
      "            k=k+1\n",
      "    if(k==1):\n",
      "        ls.append(p)\n",
      "        ls1.append(q)"
     ],
     "language": "python",
     "metadata": {},
     "outputs": [],
     "prompt_number": 155
    },
    {
     "cell_type": "code",
     "collapsed": false,
     "input": [
      "df3 = pd.concat([df2, df.iloc[ls,0:len(df.columns)]], ignore_index=True)\n",
      "df2=df3.reset_index().drop('index',1)\n",
      "df2=df2.fillna(0)\n",
      "n=[4,6,8,10,12,14]"
     ],
     "language": "python",
     "metadata": {},
     "outputs": [],
     "prompt_number": 93
    },
    {
     "cell_type": "code",
     "collapsed": false,
     "input": [
      "for i in range(0, max(df2.index)+1):\n",
      "    for j in n:\n",
      "        if(df2.iloc[i,j] == ' Not posted '):\n",
      "            df2.iloc[i,j] = 0\n",
      "        elif(df2.iloc[i,j]== ' -   '):\n",
      "            df2.iloc[i,j] = 0"
     ],
     "language": "python",
     "metadata": {},
     "outputs": [],
     "prompt_number": 94
    },
    {
     "cell_type": "code",
     "collapsed": false,
     "input": [
      "for i in range(0, max(df2.index)+1):\n",
      "    t=0\n",
      "    tot=0\n",
      "    for j in n:\n",
      "        x= float(df2.iloc[i,j])\n",
      "        if(x!=0):\n",
      "            tot=tot+x\n",
      "            t=t+1\n",
      "    if(t==0):\n",
      "        df2.loc[i,'Average Competitor Prices'] = 0\n",
      "    else:\n",
      "        df2.loc[i,'Average Competitor Prices'] = tot/t\n",
      "        "
     ],
     "language": "python",
     "metadata": {},
     "outputs": [],
     "prompt_number": 95
    },
    {
     "cell_type": "code",
     "collapsed": false,
     "input": [
      "df2.to_csv('C:\\Users\\saisree849\\Documents\\GitHub\\NGS_Project\\\\6_demand_forecast_vend\\\\ACP.csv', index=False)"
     ],
     "language": "python",
     "metadata": {},
     "outputs": []
    },
    {
     "cell_type": "code",
     "collapsed": false,
     "input": [
      "ls1.sort()\n",
      "df1=df1.drop(df1.index[ls1])\n",
      "df1= df1.reset_index().drop('index',1)"
     ],
     "language": "python",
     "metadata": {},
     "outputs": [],
     "prompt_number": 156
    },
    {
     "cell_type": "code",
     "collapsed": false,
     "input": [
      "ls.sort()\n",
      "df=df.drop(df.index[ls])\n",
      "df= df.reset_index().drop('index',1)"
     ],
     "language": "python",
     "metadata": {},
     "outputs": [],
     "prompt_number": 157
    },
    {
     "cell_type": "code",
     "collapsed": false,
     "input": [
      "df.to_csv('C:\\Users\\saisree849\\Documents\\GitHub\\NGS_Project\\\\6_demand_forecast_vend\\Comparedatawithoutmatches.csv',index=False)"
     ],
     "language": "python",
     "metadata": {},
     "outputs": [],
     "prompt_number": 158
    },
    {
     "cell_type": "code",
     "collapsed": false,
     "input": [
      "df1.to_csv('C:\\Users\\saisree849\\Documents\\GitHub\\NGS_Project\\\\6_demand_forecast_vend\\\\impdatawithoutmatches.csv',index=False)"
     ],
     "language": "python",
     "metadata": {},
     "outputs": [],
     "prompt_number": 159
    },
    {
     "cell_type": "code",
     "collapsed": false,
     "input": [
      "n1=[3,5,7,9,11,13,15]"
     ],
     "language": "python",
     "metadata": {},
     "outputs": [],
     "prompt_number": 97
    },
    {
     "cell_type": "code",
     "collapsed": false,
     "input": [
      "for i in range(0, max(df2.index)+1):\n",
      "    for j in n1:\n",
      "        if(df2.iloc[i,j]=='Yes'):\n",
      "            df2.iloc[i,j]=1\n",
      "        elif(df2.iloc[i,j]=='No'):\n",
      "            df2.iloc[i,j]=0"
     ],
     "language": "python",
     "metadata": {},
     "outputs": [],
     "prompt_number": 102
    },
    {
     "cell_type": "code",
     "collapsed": false,
     "input": [
      "for i in range(0, max(df2.index)+1):\n",
      "    t=0\n",
      "    tot=0\n",
      "    for j in n:\n",
      "        x= float(df2.iloc[i,j+1])\n",
      "        if(x!=0):\n",
      "            tot=tot+x\n",
      "            t=t+1\n",
      "    if(t==0):\n",
      "        df2.loc[i,'Availability @ Others'] = 0\n",
      "    else:\n",
      "        df2.loc[i,'Availability @ Others'] = tot/t\n",
      "        "
     ],
     "language": "python",
     "metadata": {},
     "outputs": [],
     "prompt_number": 104
    },
    {
     "cell_type": "code",
     "collapsed": false,
     "input": [
      "df2.to_csv('C:\\Users\\saisree849\\Documents\\GitHub\\NGS_Project\\\\6_demand_forecast_vend\\\\ACPavail.csv', index=False)"
     ],
     "language": "python",
     "metadata": {},
     "outputs": [],
     "prompt_number": 106
    },
    {
     "cell_type": "code",
     "collapsed": false,
     "input": [
      "max(df1.index)"
     ],
     "language": "python",
     "metadata": {},
     "outputs": [
      {
       "metadata": {},
       "output_type": "pyout",
       "prompt_number": 160,
       "text": [
        "65"
       ]
      }
     ],
     "prompt_number": 160
    },
    {
     "cell_type": "code",
     "collapsed": false,
     "input": [],
     "language": "python",
     "metadata": {},
     "outputs": []
    }
   ],
   "metadata": {}
  }
 ]
}