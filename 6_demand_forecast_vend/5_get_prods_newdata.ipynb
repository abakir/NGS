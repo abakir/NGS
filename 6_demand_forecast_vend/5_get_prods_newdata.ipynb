{
 "metadata": {
  "name": "",
  "signature": "sha256:c7a11bbfa2b0ac6c55077942511bb6bcf36c77f701471fac8e993d62ed079f2a"
 },
 "nbformat": 3,
 "nbformat_minor": 0,
 "worksheets": [
  {
   "cells": [
    {
     "cell_type": "code",
     "collapsed": false,
     "input": [
      "import pandas as pd\n",
      "\n",
      "location='C:\\Users\\saisree849\\AppData\\Roaming\\Skype\\My Skype Received Files\\NGS_Comp_Price.csv'\n",
      "df = pd.read_csv(location)"
     ],
     "language": "python",
     "metadata": {},
     "outputs": [],
     "prompt_number": 40
    },
    {
     "cell_type": "code",
     "collapsed": false,
     "input": [
      "df=df[pd.notnull(df[' S.Price '])]\n",
      "df= df.reset_index().drop('index',1)"
     ],
     "language": "python",
     "metadata": {},
     "outputs": [],
     "prompt_number": 41
    },
    {
     "cell_type": "code",
     "collapsed": false,
     "input": [
      "df=df.drop('sku',1)\n",
      "df=df.drop('brand',1)\n",
      "df=df.drop('Offah.com product comments',1)\n",
      "df=df.drop('Gourmetegypt Product comments',1)\n",
      "df=df.drop('Healthharveststore.com product comments',1)\n",
      "df=df.drop('Imtenan.com Product Comments',1)\n",
      "df=df.drop('Knockmart.com Product Comments',1)\n",
      "df=df.drop('Beqala.com Product Comments',1)\n",
      "df=df.drop('Categories',1)\n",
      "df=df.drop('Average Competitor Prices(ACP)',1)\n",
      "df=df.drop('Price Variance',1)\n",
      "df=df.drop('Availability in NGS',1)\n",
      "df=df.drop('Availability @ Others',1)"
     ],
     "language": "python",
     "metadata": {},
     "outputs": [],
     "prompt_number": 42
    },
    {
     "cell_type": "code",
     "collapsed": false,
     "input": [
      "for i in range(0,max(df.index)+1):\n",
      "    df.iloc[i,0] = df.iloc[i,0].upper()\n",
      "    df.iloc[i,0] = df.iloc[i,0].replace(\",\",\"\")\n",
      "    df.iloc[i,0] = df.iloc[i,0].replace(\"(\",\"\")\n",
      "    df.iloc[i,0] = df.iloc[i,0].replace(\")\",\"\")\n",
      "    df.iloc[i,0] = df.iloc[i,0].replace(\"&\",\"\")\n",
      "    df.iloc[i,0] = df.iloc[i,0].replace(\"/\",\"\")\n",
      "    df.iloc[i,0] = df.iloc[i,0].replace(\"-\",\"\")\n",
      "    df.iloc[i,0] = df.iloc[i,0].replace(\"'\",\"\")\n",
      "    df.iloc[i,0] = df.iloc[i,0].replace(\"_\",\"\")\n",
      "    df.iloc[i,0] = df.iloc[i,0].replace(\" \",\"\")"
     ],
     "language": "python",
     "metadata": {},
     "outputs": [],
     "prompt_number": 43
    },
    {
     "cell_type": "code",
     "collapsed": false,
     "input": [
      "location='C:\\Users\\saisree849\\Documents\\GitHub\\NGS_Project\\\\6_demand_forecast_vend\\\\imp_price.csv'\n",
      "df1 = pd.read_csv(location)"
     ],
     "language": "python",
     "metadata": {},
     "outputs": [],
     "prompt_number": 44
    },
    {
     "cell_type": "code",
     "collapsed": false,
     "input": [
      "ls=[]\n",
      "ls1=[]\n",
      "for j in range(0, max(df1.index)+1):\n",
      "    k=0\n",
      "    q=0\n",
      "    p=0\n",
      "    for i in range(0, max(df.index)+1):\n",
      "        if(df.iloc[i,0]==df1.iloc[j,0]):\n",
      "            p=i\n",
      "            q=j\n",
      "            #print i, df.iloc[i,0]\n",
      "            k=k+1\n",
      "    if(k==1):\n",
      "        ls.append(p)\n",
      "        ls1.append(q)"
     ],
     "language": "python",
     "metadata": {},
     "outputs": [],
     "prompt_number": 45
    },
    {
     "cell_type": "code",
     "collapsed": false,
     "input": [
      "ls1.sort()\n",
      "df1=df1.drop(df1.index[ls1])\n",
      "df1= df1.reset_index().drop('index',1)"
     ],
     "language": "python",
     "metadata": {},
     "outputs": [],
     "prompt_number": 46
    },
    {
     "cell_type": "code",
     "collapsed": false,
     "input": [
      "df.to_csv('C:\\Users\\saisree849\\Documents\\GitHub\\NGS_Project\\\\6_demand_forecast_vend\\Comparedata.csv',index=False)"
     ],
     "language": "python",
     "metadata": {},
     "outputs": [],
     "prompt_number": 10
    },
    {
     "cell_type": "code",
     "collapsed": false,
     "input": [
      "ls.sort()\n",
      "df=df.drop(df.index[ls])\n",
      "df= df.reset_index().drop('index',1)"
     ],
     "language": "python",
     "metadata": {},
     "outputs": [],
     "prompt_number": 48
    },
    {
     "cell_type": "code",
     "collapsed": false,
     "input": [
      "for i in range(0,max(df.index)+1):\n",
      "    df.iloc[i,1] = str(df.iloc[i,1])\n",
      "    df.iloc[i,1] = df.iloc[i,1].upper()"
     ],
     "language": "python",
     "metadata": {},
     "outputs": [],
     "prompt_number": 49
    },
    {
     "cell_type": "code",
     "collapsed": false,
     "input": [
      "import re\n",
      "for i in range(0, max(df.index)+1):\n",
      "    for j in range(0, max(df1.index)+1):\n",
      "        if(re.match(df.iloc[i,0]+df.iloc[i,1],df1.iloc[j,0])):\n",
      "            df.iloc[i,0] = df.iloc[i,0] + df.iloc[i,1]"
     ],
     "language": "python",
     "metadata": {},
     "outputs": [],
     "prompt_number": 50
    },
    {
     "cell_type": "code",
     "collapsed": false,
     "input": [
      "ls=[]\n",
      "ls1=[]\n",
      "for j in range(0, max(df1.index)+1):\n",
      "    k=0\n",
      "    q=0\n",
      "    p=0\n",
      "    for i in range(0, max(df.index)+1):\n",
      "        if(df.iloc[i,0]==df1.iloc[j,0]):\n",
      "            p=i\n",
      "            q=j\n",
      "            #print i, df.iloc[i,0]\n",
      "            k=k+1\n",
      "    if(k==1):\n",
      "        ls.append(p)\n",
      "        ls1.append(q)"
     ],
     "language": "python",
     "metadata": {},
     "outputs": [],
     "prompt_number": 51
    },
    {
     "cell_type": "code",
     "collapsed": false,
     "input": [
      "ls1.sort()\n",
      "df1=df1.drop(df1.index[ls1])\n",
      "df1= df1.reset_index().drop('index',1)"
     ],
     "language": "python",
     "metadata": {},
     "outputs": [],
     "prompt_number": 52
    },
    {
     "cell_type": "code",
     "collapsed": false,
     "input": [
      "ls1"
     ],
     "language": "python",
     "metadata": {},
     "outputs": [
      {
       "metadata": {},
       "output_type": "pyout",
       "prompt_number": 53,
       "text": [
        "[20, 57, 66, 85]"
       ]
      }
     ],
     "prompt_number": 53
    },
    {
     "cell_type": "code",
     "collapsed": false,
     "input": [
      "ls.sort()\n",
      "df=df.drop(df.index[ls])\n",
      "df= df.reset_index().drop('index',1)"
     ],
     "language": "python",
     "metadata": {},
     "outputs": [],
     "prompt_number": 54
    },
    {
     "cell_type": "code",
     "collapsed": false,
     "input": [
      "df.to_csv('C:\\Users\\saisree849\\Documents\\GitHub\\NGS_Project\\\\6_demand_forecast_vend\\Comparedatawithoutmatches.csv',index=False)"
     ],
     "language": "python",
     "metadata": {},
     "outputs": [],
     "prompt_number": 57
    },
    {
     "cell_type": "code",
     "collapsed": false,
     "input": [
      "max(df1.index)"
     ],
     "language": "python",
     "metadata": {},
     "outputs": [
      {
       "metadata": {},
       "output_type": "pyout",
       "prompt_number": 55,
       "text": [
        "89"
       ]
      }
     ],
     "prompt_number": 55
    },
    {
     "cell_type": "code",
     "collapsed": false,
     "input": [
      "max(df.index)"
     ],
     "language": "python",
     "metadata": {},
     "outputs": [
      {
       "metadata": {},
       "output_type": "pyout",
       "prompt_number": 56,
       "text": [
        "519"
       ]
      }
     ],
     "prompt_number": 56
    },
    {
     "cell_type": "code",
     "collapsed": false,
     "input": [
      "df1.to_csv('C:\\Users\\saisree849\\Documents\\GitHub\\NGS_Project\\\\6_demand_forecast_vend\\\\impdatawithoutmatches.csv',index=False)"
     ],
     "language": "python",
     "metadata": {},
     "outputs": [],
     "prompt_number": 58
    },
    {
     "cell_type": "code",
     "collapsed": false,
     "input": [],
     "language": "python",
     "metadata": {},
     "outputs": []
    }
   ],
   "metadata": {}
  }
 ]
}