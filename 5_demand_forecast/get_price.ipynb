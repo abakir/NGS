{
 "metadata": {
  "name": "",
  "signature": "sha256:f53b6142ecf5c8752f92527233b7f830883f7bbd9110ab568b8950a4a5f1ef9d"
 },
 "nbformat": 3,
 "nbformat_minor": 0,
 "worksheets": [
  {
   "cells": [
    {
     "cell_type": "code",
     "collapsed": false,
     "input": [
      "from pandas import read_csv\n",
      "import pandas as pd\n",
      "import re\n",
      "\n",
      "location = 'C:\\Users\\saisree849\\Downloads\\product-export.csv'\n",
      "\n",
      "df = pd.read_csv(location)"
     ],
     "language": "python",
     "metadata": {},
     "outputs": [],
     "prompt_number": 1
    },
    {
     "cell_type": "code",
     "collapsed": false,
     "input": [
      "df = df[['name', 'retail_price']]"
     ],
     "language": "python",
     "metadata": {},
     "outputs": [],
     "prompt_number": 2
    },
    {
     "cell_type": "code",
     "collapsed": false,
     "input": [
      "for i in range(0, max(df.index)+1):\n",
      "    df.loc[i, 'name'] = df.loc[i, 'name'].upper()\n",
      "    \n",
      "for i in range(0,max(df.index)+1):\n",
      "    df.loc[i, 'name'] =df.loc[i, 'name'].replace(\",\",\"\")"
     ],
     "language": "python",
     "metadata": {},
     "outputs": [],
     "prompt_number": 3
    },
    {
     "cell_type": "code",
     "collapsed": false,
     "input": [
      "df=df.sort('name')\n",
      "df=df.reset_index().drop('index',1)"
     ],
     "language": "python",
     "metadata": {},
     "outputs": [],
     "prompt_number": 4
    },
    {
     "cell_type": "code",
     "collapsed": false,
     "input": [
      "df=df.drop_duplicates()\n",
      "df=df.reset_index().drop('index', 1)\n",
      "df"
     ],
     "language": "python",
     "metadata": {},
     "outputs": [
      {
       "html": [
        "<div style=\"max-height:1000px;max-width:1500px;overflow:auto;\">\n",
        "<table border=\"1\" class=\"dataframe\">\n",
        "  <thead>\n",
        "    <tr style=\"text-align: right;\">\n",
        "      <th></th>\n",
        "      <th>name</th>\n",
        "      <th>retail_price</th>\n",
        "    </tr>\n",
        "  </thead>\n",
        "  <tbody>\n",
        "    <tr>\n",
        "      <th>0  </th>\n",
        "      <td>                                  ACAI BERRY JUICE</td>\n",
        "      <td>  30.000</td>\n",
        "    </tr>\n",
        "    <tr>\n",
        "      <th>1  </th>\n",
        "      <td>                                       ADUKI BEANS</td>\n",
        "      <td>  44.000</td>\n",
        "    </tr>\n",
        "    <tr>\n",
        "      <th>2  </th>\n",
        "      <td>          AGAR AGAR FLAKES (HAND HARVESTED) - WILD</td>\n",
        "      <td>  86.000</td>\n",
        "    </tr>\n",
        "    <tr>\n",
        "      <th>3  </th>\n",
        "      <td>            ALL PURPOSE BAKING FLOUR (GLUTEN FREE)</td>\n",
        "      <td>  43.750</td>\n",
        "    </tr>\n",
        "    <tr>\n",
        "      <th>4  </th>\n",
        "      <td>            ALL PURPOSE BAKING FLOUR (GLUTEN FREE)</td>\n",
        "      <td>  48.000</td>\n",
        "    </tr>\n",
        "    <tr>\n",
        "      <th>5  </th>\n",
        "      <td>            ALL PURPOSE BAKING FLOUR (GLUTEN FREE)</td>\n",
        "      <td>  60.000</td>\n",
        "    </tr>\n",
        "    <tr>\n",
        "      <th>6  </th>\n",
        "      <td>  ALMOND BISCUTIS (GLUTEN FREE) - TRACES OF GLUTEN</td>\n",
        "      <td>  23.000</td>\n",
        "    </tr>\n",
        "    <tr>\n",
        "      <th>7  </th>\n",
        "      <td>                                 ALMOND MEAL FLOUR</td>\n",
        "      <td> 132.000</td>\n",
        "    </tr>\n",
        "    <tr>\n",
        "      <th>8  </th>\n",
        "      <td>                     ALMOND MILK ( ORGANIC ) 946ML</td>\n",
        "      <td>  34.000</td>\n",
        "    </tr>\n",
        "    <tr>\n",
        "      <th>9  </th>\n",
        "      <td>                          ALMOND MILK ( ORIGINAL )</td>\n",
        "      <td>  10.000</td>\n",
        "    </tr>\n",
        "    <tr>\n",
        "      <th>10 </th>\n",
        "      <td>          ALPHABET PASTA ( GLUTEN FREE ) - ITALIAN</td>\n",
        "      <td>  44.000</td>\n",
        "    </tr>\n",
        "    <tr>\n",
        "      <th>11 </th>\n",
        "      <td>                                          AMARANTH</td>\n",
        "      <td>  92.000</td>\n",
        "    </tr>\n",
        "    <tr>\n",
        "      <th>12 </th>\n",
        "      <td>                      AMINO FUEL - ANABOLIC LIQUID</td>\n",
        "      <td> 328.000</td>\n",
        "    </tr>\n",
        "    <tr>\n",
        "      <th>13 </th>\n",
        "      <td>            ANIMAL SHAPED BISCUITS ( GLUTEN FREE )</td>\n",
        "      <td>  29.000</td>\n",
        "    </tr>\n",
        "    <tr>\n",
        "      <th>14 </th>\n",
        "      <td>          ANTISEPTIC CREAM WITH TEA TREE OIL 118ML</td>\n",
        "      <td>  33.900</td>\n",
        "    </tr>\n",
        "    <tr>\n",
        "      <th>15 </th>\n",
        "      <td>           APPLE AND CINNAMON HERBAL TEA (ORGANIC)</td>\n",
        "      <td>  28.000</td>\n",
        "    </tr>\n",
        "    <tr>\n",
        "      <th>16 </th>\n",
        "      <td>                   APPLE AND MANGO JUICE (ORGANIC)</td>\n",
        "      <td>  46.000</td>\n",
        "    </tr>\n",
        "    <tr>\n",
        "      <th>17 </th>\n",
        "      <td>                   APPLE CIDER VINEGAR ( ORGANIC )</td>\n",
        "      <td>  35.000</td>\n",
        "    </tr>\n",
        "    <tr>\n",
        "      <th>18 </th>\n",
        "      <td>                                          APPRICOT</td>\n",
        "      <td>  10.000</td>\n",
        "    </tr>\n",
        "    <tr>\n",
        "      <th>19 </th>\n",
        "      <td>                             APRICOT JAM (NATURAL)</td>\n",
        "      <td>  60.000</td>\n",
        "    </tr>\n",
        "    <tr>\n",
        "      <th>20 </th>\n",
        "      <td>                            ARUGULA(CHEMICAL FREE)</td>\n",
        "      <td>   5.500</td>\n",
        "    </tr>\n",
        "    <tr>\n",
        "      <th>21 </th>\n",
        "      <td>                         ASPARAGUS (CHEMICAL FREE)</td>\n",
        "      <td>  20.000</td>\n",
        "    </tr>\n",
        "    <tr>\n",
        "      <th>22 </th>\n",
        "      <td>                       AUBERGENE (ROUMY) - ORGANIC</td>\n",
        "      <td>  12.000</td>\n",
        "    </tr>\n",
        "    <tr>\n",
        "      <th>23 </th>\n",
        "      <td>                               AVOCADOS (IMPORTED)</td>\n",
        "      <td>  32.000</td>\n",
        "    </tr>\n",
        "    <tr>\n",
        "      <th>24 </th>\n",
        "      <td>              BABY BLACK AUBERGENE (CHEMICAL FREE)</td>\n",
        "      <td>   7.500</td>\n",
        "    </tr>\n",
        "    <tr>\n",
        "      <th>25 </th>\n",
        "      <td>      BABY BLACK AUBERGINE (CHEMICAL FREE) - ROUND</td>\n",
        "      <td>   8.000</td>\n",
        "    </tr>\n",
        "    <tr>\n",
        "      <th>26 </th>\n",
        "      <td>                         BABY CORN (CHEMICAL FREE)</td>\n",
        "      <td>  18.000</td>\n",
        "    </tr>\n",
        "    <tr>\n",
        "      <th>27 </th>\n",
        "      <td>                                       BABY ONION </td>\n",
        "      <td>   2.813</td>\n",
        "    </tr>\n",
        "    <tr>\n",
        "      <th>28 </th>\n",
        "      <td>                                       BABY ONIONS</td>\n",
        "      <td>   4.000</td>\n",
        "    </tr>\n",
        "    <tr>\n",
        "      <th>29 </th>\n",
        "      <td>                                     BABY POTATOES</td>\n",
        "      <td>   5.000</td>\n",
        "    </tr>\n",
        "    <tr>\n",
        "      <th>...</th>\n",
        "      <td>...</td>\n",
        "      <td>...</td>\n",
        "    </tr>\n",
        "    <tr>\n",
        "      <th>728</th>\n",
        "      <td>           WHITENING TOOTH PASTE WITH TEA TREE OIL</td>\n",
        "      <td>  36.900</td>\n",
        "    </tr>\n",
        "    <tr>\n",
        "      <th>729</th>\n",
        "      <td>                                     WHOLE CHICKEN</td>\n",
        "      <td>  45.000</td>\n",
        "    </tr>\n",
        "    <tr>\n",
        "      <th>730</th>\n",
        "      <td>                     WHOLE CHICKEN (CHEMICAL FREE)</td>\n",
        "      <td>  50.000</td>\n",
        "    </tr>\n",
        "    <tr>\n",
        "      <th>731</th>\n",
        "      <td>               WHOLE GRAIN CRACKERS WITH CORIANDER</td>\n",
        "      <td>  33.000</td>\n",
        "    </tr>\n",
        "    <tr>\n",
        "      <th>732</th>\n",
        "      <td>                  WHOLE GRAIN CRACKERS WITH GARLIC</td>\n",
        "      <td>  33.000</td>\n",
        "    </tr>\n",
        "    <tr>\n",
        "      <th>733</th>\n",
        "      <td>  WHOLE GRAIN RICE CAKES (LOW FAT)-LIGHTLY SALTED)</td>\n",
        "      <td>  24.000</td>\n",
        "    </tr>\n",
        "    <tr>\n",
        "      <th>734</th>\n",
        "      <td> WHOLE GRAIN RICE CAKES (ORGANIC) LOW FAT - LIG...</td>\n",
        "      <td>  24.000</td>\n",
        "    </tr>\n",
        "    <tr>\n",
        "      <th>735</th>\n",
        "      <td>                                  WHOLE MEAL FLOUR</td>\n",
        "      <td>   8.000</td>\n",
        "    </tr>\n",
        "    <tr>\n",
        "      <th>736</th>\n",
        "      <td>                         WHOLE RYE BREAD (ORGANIC)</td>\n",
        "      <td>  29.000</td>\n",
        "    </tr>\n",
        "    <tr>\n",
        "      <th>737</th>\n",
        "      <td>         WHOLE WHEAT FLOUR (CHEMICAL FREE) - LOCAL</td>\n",
        "      <td>  19.000</td>\n",
        "    </tr>\n",
        "    <tr>\n",
        "      <th>738</th>\n",
        "      <td>        WHOLE WHEAT GRAINS (CHEMICAL FREE) - LOCAL</td>\n",
        "      <td>  19.000</td>\n",
        "    </tr>\n",
        "    <tr>\n",
        "      <th>739</th>\n",
        "      <td>                               WHOLEGRAIN CRACKERS</td>\n",
        "      <td>  33.000</td>\n",
        "    </tr>\n",
        "    <tr>\n",
        "      <th>740</th>\n",
        "      <td>                             WHOLESOME PANCAKE MIX</td>\n",
        "      <td>  35.000</td>\n",
        "    </tr>\n",
        "    <tr>\n",
        "      <th>741</th>\n",
        "      <td>               WILD &amp; BROWN RICE MIX (GLUTEN FREE)</td>\n",
        "      <td>  58.000</td>\n",
        "    </tr>\n",
        "    <tr>\n",
        "      <th>742</th>\n",
        "      <td>                        WILD HABAQ (CHEMICAL FREE)</td>\n",
        "      <td>  40.000</td>\n",
        "    </tr>\n",
        "    <tr>\n",
        "      <th>743</th>\n",
        "      <td>                     WILD MARJORAM (CHEMICAL FREE)</td>\n",
        "      <td>  42.000</td>\n",
        "    </tr>\n",
        "    <tr>\n",
        "      <th>744</th>\n",
        "      <td>                        WILD RICE ( ORGANIC ) 227G</td>\n",
        "      <td>  85.000</td>\n",
        "    </tr>\n",
        "    <tr>\n",
        "      <th>745</th>\n",
        "      <td>           WILD RICE CAKES (ORGANIC) - GLUTEN FREE</td>\n",
        "      <td>  42.000</td>\n",
        "    </tr>\n",
        "    <tr>\n",
        "      <th>746</th>\n",
        "      <td>                     WILD ROSEMARY (CHEMICAL FREE)</td>\n",
        "      <td>  40.000</td>\n",
        "    </tr>\n",
        "    <tr>\n",
        "      <th>747</th>\n",
        "      <td>                WILD SAGE - SALVIA (CHEMICAL FREE)</td>\n",
        "      <td>  40.000</td>\n",
        "    </tr>\n",
        "    <tr>\n",
        "      <th>748</th>\n",
        "      <td>                        WILD THYME (CHEMICAL FREE)</td>\n",
        "      <td>  40.000</td>\n",
        "    </tr>\n",
        "    <tr>\n",
        "      <th>749</th>\n",
        "      <td>                         XANTHAN GUM (GLUTEN FREE)</td>\n",
        "      <td> 132.000</td>\n",
        "    </tr>\n",
        "    <tr>\n",
        "      <th>750</th>\n",
        "      <td>                                     YELLOW APPLES</td>\n",
        "      <td>  26.000</td>\n",
        "    </tr>\n",
        "    <tr>\n",
        "      <th>751</th>\n",
        "      <td>                   YELLOW CARROT ( CHEMICAL FREE )</td>\n",
        "      <td>  15.000</td>\n",
        "    </tr>\n",
        "    <tr>\n",
        "      <th>752</th>\n",
        "      <td>                                 YELLOW GRAPEFRUIT</td>\n",
        "      <td>   6.000</td>\n",
        "    </tr>\n",
        "    <tr>\n",
        "      <th>753</th>\n",
        "      <td>                          ZUCCHINI (CHEMICAL FREE)</td>\n",
        "      <td>   7.500</td>\n",
        "    </tr>\n",
        "    <tr>\n",
        "      <th>754</th>\n",
        "      <td>                          ZUCCHINI (CHEMICAL FREE)</td>\n",
        "      <td>   6.000</td>\n",
        "    </tr>\n",
        "    <tr>\n",
        "      <th>755</th>\n",
        "      <td>                                ZUCCHINI (ORGANIC)</td>\n",
        "      <td>  14.000</td>\n",
        "    </tr>\n",
        "    <tr>\n",
        "      <th>756</th>\n",
        "      <td>                  ZUCCHINI FLOWERS (CHEMICAL FREE)</td>\n",
        "      <td>  22.000</td>\n",
        "    </tr>\n",
        "    <tr>\n",
        "      <th>757</th>\n",
        "      <td>    ZUCCHINI JAM WITH PISTACHIO &amp; MASTIC (NATURAL)</td>\n",
        "      <td> 100.000</td>\n",
        "    </tr>\n",
        "  </tbody>\n",
        "</table>\n",
        "<p>758 rows \u00d7 2 columns</p>\n",
        "</div>"
       ],
       "metadata": {},
       "output_type": "pyout",
       "prompt_number": 5,
       "text": [
        "                                                  name  retail_price\n",
        "0                                     ACAI BERRY JUICE        30.000\n",
        "1                                          ADUKI BEANS        44.000\n",
        "2             AGAR AGAR FLAKES (HAND HARVESTED) - WILD        86.000\n",
        "3               ALL PURPOSE BAKING FLOUR (GLUTEN FREE)        43.750\n",
        "4               ALL PURPOSE BAKING FLOUR (GLUTEN FREE)        48.000\n",
        "5               ALL PURPOSE BAKING FLOUR (GLUTEN FREE)        60.000\n",
        "6     ALMOND BISCUTIS (GLUTEN FREE) - TRACES OF GLUTEN        23.000\n",
        "7                                    ALMOND MEAL FLOUR       132.000\n",
        "8                        ALMOND MILK ( ORGANIC ) 946ML        34.000\n",
        "9                             ALMOND MILK ( ORIGINAL )        10.000\n",
        "10            ALPHABET PASTA ( GLUTEN FREE ) - ITALIAN        44.000\n",
        "11                                            AMARANTH        92.000\n",
        "12                        AMINO FUEL - ANABOLIC LIQUID       328.000\n",
        "13              ANIMAL SHAPED BISCUITS ( GLUTEN FREE )        29.000\n",
        "14            ANTISEPTIC CREAM WITH TEA TREE OIL 118ML        33.900\n",
        "15             APPLE AND CINNAMON HERBAL TEA (ORGANIC)        28.000\n",
        "16                     APPLE AND MANGO JUICE (ORGANIC)        46.000\n",
        "17                     APPLE CIDER VINEGAR ( ORGANIC )        35.000\n",
        "18                                            APPRICOT        10.000\n",
        "19                               APRICOT JAM (NATURAL)        60.000\n",
        "20                              ARUGULA(CHEMICAL FREE)         5.500\n",
        "21                           ASPARAGUS (CHEMICAL FREE)        20.000\n",
        "22                         AUBERGENE (ROUMY) - ORGANIC        12.000\n",
        "23                                 AVOCADOS (IMPORTED)        32.000\n",
        "24                BABY BLACK AUBERGENE (CHEMICAL FREE)         7.500\n",
        "25        BABY BLACK AUBERGINE (CHEMICAL FREE) - ROUND         8.000\n",
        "26                           BABY CORN (CHEMICAL FREE)        18.000\n",
        "27                                         BABY ONION          2.813\n",
        "28                                         BABY ONIONS         4.000\n",
        "29                                       BABY POTATOES         5.000\n",
        "..                                                 ...           ...\n",
        "728            WHITENING TOOTH PASTE WITH TEA TREE OIL        36.900\n",
        "729                                      WHOLE CHICKEN        45.000\n",
        "730                      WHOLE CHICKEN (CHEMICAL FREE)        50.000\n",
        "731                WHOLE GRAIN CRACKERS WITH CORIANDER        33.000\n",
        "732                   WHOLE GRAIN CRACKERS WITH GARLIC        33.000\n",
        "733   WHOLE GRAIN RICE CAKES (LOW FAT)-LIGHTLY SALTED)        24.000\n",
        "734  WHOLE GRAIN RICE CAKES (ORGANIC) LOW FAT - LIG...        24.000\n",
        "735                                   WHOLE MEAL FLOUR         8.000\n",
        "736                          WHOLE RYE BREAD (ORGANIC)        29.000\n",
        "737          WHOLE WHEAT FLOUR (CHEMICAL FREE) - LOCAL        19.000\n",
        "738         WHOLE WHEAT GRAINS (CHEMICAL FREE) - LOCAL        19.000\n",
        "739                                WHOLEGRAIN CRACKERS        33.000\n",
        "740                              WHOLESOME PANCAKE MIX        35.000\n",
        "741                WILD & BROWN RICE MIX (GLUTEN FREE)        58.000\n",
        "742                         WILD HABAQ (CHEMICAL FREE)        40.000\n",
        "743                      WILD MARJORAM (CHEMICAL FREE)        42.000\n",
        "744                         WILD RICE ( ORGANIC ) 227G        85.000\n",
        "745            WILD RICE CAKES (ORGANIC) - GLUTEN FREE        42.000\n",
        "746                      WILD ROSEMARY (CHEMICAL FREE)        40.000\n",
        "747                 WILD SAGE - SALVIA (CHEMICAL FREE)        40.000\n",
        "748                         WILD THYME (CHEMICAL FREE)        40.000\n",
        "749                          XANTHAN GUM (GLUTEN FREE)       132.000\n",
        "750                                      YELLOW APPLES        26.000\n",
        "751                    YELLOW CARROT ( CHEMICAL FREE )        15.000\n",
        "752                                  YELLOW GRAPEFRUIT         6.000\n",
        "753                           ZUCCHINI (CHEMICAL FREE)         7.500\n",
        "754                           ZUCCHINI (CHEMICAL FREE)         6.000\n",
        "755                                 ZUCCHINI (ORGANIC)        14.000\n",
        "756                   ZUCCHINI FLOWERS (CHEMICAL FREE)        22.000\n",
        "757     ZUCCHINI JAM WITH PISTACHIO & MASTIC (NATURAL)       100.000\n",
        "\n",
        "[758 rows x 2 columns]"
       ]
      }
     ],
     "prompt_number": 5
    },
    {
     "cell_type": "code",
     "collapsed": false,
     "input": [
      "for i in range(0,  max(df.index)+1):\n",
      "    if re.search('\\(', df.loc[i, 'name']):\n",
      "        df.loc[i, 'name'] =df.loc[i, 'name'].replace(\"(\",\"\")\n",
      "    if re.search('\\)', df.loc[i, 'name']):\n",
      "        df.loc[i, 'name'] =df.loc[i, 'name'].replace(\")\",\"\")"
     ],
     "language": "python",
     "metadata": {},
     "outputs": [],
     "prompt_number": 8
    },
    {
     "cell_type": "code",
     "collapsed": false,
     "input": [
      "df.to_csv(\"C:\\Users\\saisree849\\Downloads\\products.csv\", sep=\",\",index=False,header=None)"
     ],
     "language": "python",
     "metadata": {},
     "outputs": [],
     "prompt_number": 16
    },
    {
     "cell_type": "code",
     "collapsed": false,
     "input": [],
     "language": "python",
     "metadata": {},
     "outputs": []
    }
   ],
   "metadata": {}
  }
 ]
}